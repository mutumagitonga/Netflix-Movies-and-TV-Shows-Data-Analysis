{
 "cells": [
  {
   "cell_type": "code",
   "execution_count": 318,
   "id": "initial_id",
   "metadata": {
    "collapsed": true,
    "ExecuteTime": {
     "end_time": "2024-02-10T15:37:24.487388147Z",
     "start_time": "2024-02-10T15:37:24.269211771Z"
    }
   },
   "outputs": [],
   "source": [
    "# Importing libraries\n",
    "import pandas as pd\n",
    "import numpy as np\n",
    "import matplotlib.pyplot as plt\n",
    "import seaborn as sns"
   ]
  },
  {
   "cell_type": "markdown",
   "source": [
    "# Get an overview of the data"
   ],
   "metadata": {
    "collapsed": false
   },
   "id": "cfb1c10efb35df5f"
  },
  {
   "cell_type": "code",
   "outputs": [
    {
     "data": {
      "text/plain": "  show_id     type                  title         director  \\\n0      s1    Movie   Dick Johnson Is Dead  Kirsten Johnson   \n1      s2  TV Show          Blood & Water              NaN   \n2      s3  TV Show              Ganglands  Julien Leclercq   \n3      s4  TV Show  Jailbirds New Orleans              NaN   \n4      s5  TV Show           Kota Factory              NaN   \n\n                                                cast        country  \\\n0                                                NaN  United States   \n1  Ama Qamata, Khosi Ngema, Gail Mabalane, Thaban...   South Africa   \n2  Sami Bouajila, Tracy Gotoas, Samuel Jouy, Nabi...            NaN   \n3                                                NaN            NaN   \n4  Mayur More, Jitendra Kumar, Ranjan Raj, Alam K...          India   \n\n           date_added  release_year rating   duration  \\\n0  September 25, 2021          2020  PG-13     90 min   \n1  September 24, 2021          2021  TV-MA  2 Seasons   \n2  September 24, 2021          2021  TV-MA   1 Season   \n3  September 24, 2021          2021  TV-MA   1 Season   \n4  September 24, 2021          2021  TV-MA  2 Seasons   \n\n                                           listed_in  \\\n0                                      Documentaries   \n1    International TV Shows, TV Dramas, TV Mysteries   \n2  Crime TV Shows, International TV Shows, TV Act...   \n3                             Docuseries, Reality TV   \n4  International TV Shows, Romantic TV Shows, TV ...   \n\n                                         description  \n0  As her father nears the end of his life, filmm...  \n1  After crossing paths at a party, a Cape Town t...  \n2  To protect his family from a powerful drug lor...  \n3  Feuds, flirtations and toilet talk go down amo...  \n4  In a city of coaching centers known to train I...  ",
      "text/html": "<div>\n<style scoped>\n    .dataframe tbody tr th:only-of-type {\n        vertical-align: middle;\n    }\n\n    .dataframe tbody tr th {\n        vertical-align: top;\n    }\n\n    .dataframe thead th {\n        text-align: right;\n    }\n</style>\n<table border=\"1\" class=\"dataframe\">\n  <thead>\n    <tr style=\"text-align: right;\">\n      <th></th>\n      <th>show_id</th>\n      <th>type</th>\n      <th>title</th>\n      <th>director</th>\n      <th>cast</th>\n      <th>country</th>\n      <th>date_added</th>\n      <th>release_year</th>\n      <th>rating</th>\n      <th>duration</th>\n      <th>listed_in</th>\n      <th>description</th>\n    </tr>\n  </thead>\n  <tbody>\n    <tr>\n      <th>0</th>\n      <td>s1</td>\n      <td>Movie</td>\n      <td>Dick Johnson Is Dead</td>\n      <td>Kirsten Johnson</td>\n      <td>NaN</td>\n      <td>United States</td>\n      <td>September 25, 2021</td>\n      <td>2020</td>\n      <td>PG-13</td>\n      <td>90 min</td>\n      <td>Documentaries</td>\n      <td>As her father nears the end of his life, filmm...</td>\n    </tr>\n    <tr>\n      <th>1</th>\n      <td>s2</td>\n      <td>TV Show</td>\n      <td>Blood &amp; Water</td>\n      <td>NaN</td>\n      <td>Ama Qamata, Khosi Ngema, Gail Mabalane, Thaban...</td>\n      <td>South Africa</td>\n      <td>September 24, 2021</td>\n      <td>2021</td>\n      <td>TV-MA</td>\n      <td>2 Seasons</td>\n      <td>International TV Shows, TV Dramas, TV Mysteries</td>\n      <td>After crossing paths at a party, a Cape Town t...</td>\n    </tr>\n    <tr>\n      <th>2</th>\n      <td>s3</td>\n      <td>TV Show</td>\n      <td>Ganglands</td>\n      <td>Julien Leclercq</td>\n      <td>Sami Bouajila, Tracy Gotoas, Samuel Jouy, Nabi...</td>\n      <td>NaN</td>\n      <td>September 24, 2021</td>\n      <td>2021</td>\n      <td>TV-MA</td>\n      <td>1 Season</td>\n      <td>Crime TV Shows, International TV Shows, TV Act...</td>\n      <td>To protect his family from a powerful drug lor...</td>\n    </tr>\n    <tr>\n      <th>3</th>\n      <td>s4</td>\n      <td>TV Show</td>\n      <td>Jailbirds New Orleans</td>\n      <td>NaN</td>\n      <td>NaN</td>\n      <td>NaN</td>\n      <td>September 24, 2021</td>\n      <td>2021</td>\n      <td>TV-MA</td>\n      <td>1 Season</td>\n      <td>Docuseries, Reality TV</td>\n      <td>Feuds, flirtations and toilet talk go down amo...</td>\n    </tr>\n    <tr>\n      <th>4</th>\n      <td>s5</td>\n      <td>TV Show</td>\n      <td>Kota Factory</td>\n      <td>NaN</td>\n      <td>Mayur More, Jitendra Kumar, Ranjan Raj, Alam K...</td>\n      <td>India</td>\n      <td>September 24, 2021</td>\n      <td>2021</td>\n      <td>TV-MA</td>\n      <td>2 Seasons</td>\n      <td>International TV Shows, Romantic TV Shows, TV ...</td>\n      <td>In a city of coaching centers known to train I...</td>\n    </tr>\n  </tbody>\n</table>\n</div>"
     },
     "execution_count": 319,
     "metadata": {},
     "output_type": "execute_result"
    }
   ],
   "source": [
    "# Load dataframe\n",
    "df = pd.read_csv('netflix_titles.csv')\n",
    "df.head()"
   ],
   "metadata": {
    "collapsed": false,
    "ExecuteTime": {
     "end_time": "2024-02-10T15:37:24.541734392Z",
     "start_time": "2024-02-10T15:37:24.479247538Z"
    }
   },
   "id": "8bfafe8e779c631c",
   "execution_count": 319
  },
  {
   "cell_type": "code",
   "outputs": [
    {
     "data": {
      "text/plain": "(8807, 12)"
     },
     "execution_count": 320,
     "metadata": {},
     "output_type": "execute_result"
    }
   ],
   "source": [
    "df.shape"
   ],
   "metadata": {
    "collapsed": false,
    "ExecuteTime": {
     "end_time": "2024-02-10T15:37:24.550318887Z",
     "start_time": "2024-02-10T15:37:24.541001987Z"
    }
   },
   "id": "6b27f5ac49ce7ce0",
   "execution_count": 320
  },
  {
   "cell_type": "code",
   "outputs": [
    {
     "data": {
      "text/plain": "['show_id',\n 'type',\n 'title',\n 'director',\n 'cast',\n 'country',\n 'date_added',\n 'release_year',\n 'rating',\n 'duration',\n 'listed_in',\n 'description']"
     },
     "execution_count": 321,
     "metadata": {},
     "output_type": "execute_result"
    }
   ],
   "source": [
    "df.columns.tolist()"
   ],
   "metadata": {
    "collapsed": false,
    "ExecuteTime": {
     "end_time": "2024-02-10T15:37:24.813272326Z",
     "start_time": "2024-02-10T15:37:24.544493557Z"
    }
   },
   "id": "f4539aeb82643ed6",
   "execution_count": 321
  },
  {
   "cell_type": "markdown",
   "source": [
    "# Check columns with nulls"
   ],
   "metadata": {
    "collapsed": false
   },
   "id": "574fd550d8055b89"
  },
  {
   "cell_type": "code",
   "outputs": [
    {
     "name": "stdout",
     "output_type": "stream",
     "text": [
      "<class 'pandas.core.frame.DataFrame'>\n",
      "RangeIndex: 8807 entries, 0 to 8806\n",
      "Data columns (total 12 columns):\n",
      " #   Column        Non-Null Count  Dtype \n",
      "---  ------        --------------  ----- \n",
      " 0   show_id       8807 non-null   object\n",
      " 1   type          8807 non-null   object\n",
      " 2   title         8807 non-null   object\n",
      " 3   director      6173 non-null   object\n",
      " 4   cast          7982 non-null   object\n",
      " 5   country       7976 non-null   object\n",
      " 6   date_added    8797 non-null   object\n",
      " 7   release_year  8807 non-null   int64 \n",
      " 8   rating        8803 non-null   object\n",
      " 9   duration      8804 non-null   object\n",
      " 10  listed_in     8807 non-null   object\n",
      " 11  description   8807 non-null   object\n",
      "dtypes: int64(1), object(11)\n",
      "memory usage: 825.8+ KB\n"
     ]
    }
   ],
   "source": [
    "df.info()"
   ],
   "metadata": {
    "collapsed": false,
    "ExecuteTime": {
     "end_time": "2024-02-10T15:37:24.814547737Z",
     "start_time": "2024-02-10T15:37:24.755029196Z"
    }
   },
   "id": "d0c68764bd3fe1f6",
   "execution_count": 322
  },
  {
   "cell_type": "code",
   "outputs": [
    {
     "data": {
      "text/plain": "'director'"
     },
     "execution_count": 323,
     "metadata": {},
     "output_type": "execute_result"
    }
   ],
   "source": [
    "# From above info: 'director', 'country', 'cast' have most nulls consecutively\n",
    "# Now confirm the column with most nulls\n",
    "most_nulls_column = df.isnull().sum().idxmax()\n",
    "most_nulls_column"
   ],
   "metadata": {
    "collapsed": false,
    "ExecuteTime": {
     "end_time": "2024-02-10T15:37:24.895114570Z",
     "start_time": "2024-02-10T15:37:24.785847174Z"
    }
   },
   "id": "8fe1ad24d4ae3aba",
   "execution_count": 323
  },
  {
   "cell_type": "markdown",
   "source": [
    "### Dealing with null values in 'director' column"
   ],
   "metadata": {
    "collapsed": false
   },
   "id": "6991df070658d55e"
  },
  {
   "cell_type": "code",
   "outputs": [
    {
     "data": {
      "text/plain": "array(['Kirsten Johnson', nan, 'Julien Leclercq', ..., 'Majid Al Ansari',\n       'Peter Hewitt', 'Mozez Singh'], dtype=object)"
     },
     "execution_count": 324,
     "metadata": {},
     "output_type": "execute_result"
    }
   ],
   "source": [
    "# Since 'director' column has most nulls, view what's the null designation\n",
    "# In this case it's 'NaN'\n",
    "df['director'].unique()"
   ],
   "metadata": {
    "collapsed": false,
    "ExecuteTime": {
     "end_time": "2024-02-10T15:37:24.907965716Z",
     "start_time": "2024-02-10T15:37:24.881182162Z"
    }
   },
   "id": "8695b60c508b2903",
   "execution_count": 324
  },
  {
   "cell_type": "code",
   "outputs": [
    {
     "data": {
      "text/plain": "2634"
     },
     "execution_count": 325,
     "metadata": {},
     "output_type": "execute_result"
    }
   ],
   "source": [
    "# Get the null values count\n",
    "df['director'].isnull().sum()"
   ],
   "metadata": {
    "collapsed": false,
    "ExecuteTime": {
     "end_time": "2024-02-10T15:37:24.967187580Z",
     "start_time": "2024-02-10T15:37:24.895346265Z"
    }
   },
   "id": "f7460483f8865afb",
   "execution_count": 325
  },
  {
   "cell_type": "code",
   "outputs": [
    {
     "data": {
      "text/plain": "{nan}"
     },
     "execution_count": 326,
     "metadata": {},
     "output_type": "execute_result"
    }
   ],
   "source": [
    "# Find how missing values are represented in the column: \n",
    "def missing_val_representation(column):\n",
    "    missing_val = set()\n",
    "    for val in column:\n",
    "        if pd.isna(val) or val == \"NaN\" or val == \"NA\":\n",
    "            missing_val.add(val)\n",
    "    return missing_val\n",
    "\n",
    "missing_val_representation(df['director'])"
   ],
   "metadata": {
    "collapsed": false,
    "ExecuteTime": {
     "end_time": "2024-02-10T15:37:25.021589716Z",
     "start_time": "2024-02-10T15:37:24.958980110Z"
    }
   },
   "id": "823279ac14efe260",
   "execution_count": 326
  },
  {
   "cell_type": "code",
   "outputs": [],
   "source": [
    "# Replace null values in director column with 'Unavailable'\n",
    "df['director'] = df['director'].apply(lambda x: 'Unavailable' if pd.isna(x) == True else x)"
   ],
   "metadata": {
    "collapsed": false,
    "ExecuteTime": {
     "end_time": "2024-02-10T15:37:25.097786112Z",
     "start_time": "2024-02-10T15:37:25.014468687Z"
    }
   },
   "id": "822f5626f5d0be4d",
   "execution_count": 327
  },
  {
   "cell_type": "code",
   "outputs": [
    {
     "data": {
      "text/plain": "0"
     },
     "execution_count": 328,
     "metadata": {},
     "output_type": "execute_result"
    }
   ],
   "source": [
    "# Check how many null values in 'director' column\n",
    "df['director'].isnull().sum()  # The count is now 0"
   ],
   "metadata": {
    "collapsed": false,
    "ExecuteTime": {
     "end_time": "2024-02-10T15:37:25.148598403Z",
     "start_time": "2024-02-10T15:37:25.097374047Z"
    }
   },
   "id": "a029e553e8eb1721",
   "execution_count": 328
  },
  {
   "cell_type": "code",
   "outputs": [
    {
     "name": "stdout",
     "output_type": "stream",
     "text": [
      "<class 'pandas.core.frame.DataFrame'>\n",
      "RangeIndex: 8807 entries, 0 to 8806\n",
      "Data columns (total 12 columns):\n",
      " #   Column        Non-Null Count  Dtype \n",
      "---  ------        --------------  ----- \n",
      " 0   show_id       8807 non-null   object\n",
      " 1   type          8807 non-null   object\n",
      " 2   title         8807 non-null   object\n",
      " 3   director      8807 non-null   object\n",
      " 4   cast          7982 non-null   object\n",
      " 5   country       7976 non-null   object\n",
      " 6   date_added    8797 non-null   object\n",
      " 7   release_year  8807 non-null   int64 \n",
      " 8   rating        8803 non-null   object\n",
      " 9   duration      8804 non-null   object\n",
      " 10  listed_in     8807 non-null   object\n",
      " 11  description   8807 non-null   object\n",
      "dtypes: int64(1), object(11)\n",
      "memory usage: 825.8+ KB\n"
     ]
    }
   ],
   "source": [
    "# Check the info summary once more\n",
    "df.info()"
   ],
   "metadata": {
    "collapsed": false,
    "ExecuteTime": {
     "end_time": "2024-02-10T15:37:25.254993255Z",
     "start_time": "2024-02-10T15:37:25.148541197Z"
    }
   },
   "id": "fa32f489ace739e6",
   "execution_count": 329
  },
  {
   "cell_type": "markdown",
   "source": [
    "### Dealing with null values in 'country' column"
   ],
   "metadata": {
    "collapsed": false
   },
   "id": "1914e43db5694743"
  },
  {
   "cell_type": "code",
   "outputs": [
    {
     "name": "stdout",
     "output_type": "stream",
     "text": [
      "Non-null value count in 'country': 7976\n",
      "Null value count in 'country': 831\n"
     ]
    }
   ],
   "source": [
    "# Confirm count of non-null values is equal to one above \n",
    "null_value_count_country_col = df['country'].isnull().sum()\n",
    "non_null_value_count_country_col = len(df) - null_value_count_country_col\n",
    "\n",
    "print(f\"Non-null value count in 'country': {non_null_value_count_country_col}\")\n",
    "print(f\"Null value count in 'country': {null_value_count_country_col}\")"
   ],
   "metadata": {
    "collapsed": false,
    "ExecuteTime": {
     "end_time": "2024-02-10T15:37:25.302874067Z",
     "start_time": "2024-02-10T15:37:25.239102788Z"
    }
   },
   "id": "661f13b3fc5c664b",
   "execution_count": 330
  },
  {
   "cell_type": "code",
   "outputs": [],
   "source": [
    "# Replace null values in ‘country’ column with ‘Not Available’\n",
    "df['country'] = df['country'].apply(lambda x: 'Unavailable' if pd.isna(x) == True else x)"
   ],
   "metadata": {
    "collapsed": false,
    "ExecuteTime": {
     "end_time": "2024-02-10T15:37:25.342828739Z",
     "start_time": "2024-02-10T15:37:25.318825937Z"
    }
   },
   "id": "69331901aeb612cc",
   "execution_count": 331
  },
  {
   "cell_type": "code",
   "outputs": [
    {
     "name": "stdout",
     "output_type": "stream",
     "text": [
      "Null value count 'country' col after removal: 0\n"
     ]
    }
   ],
   "source": [
    "# Confirm all null values in 'country' have been replaced\n",
    "null_value_count_country_col = df['country'].isnull().sum()\n",
    "print(f\"Null value count 'country' col after removal: {null_value_count_country_col}\")"
   ],
   "metadata": {
    "collapsed": false,
    "ExecuteTime": {
     "end_time": "2024-02-10T15:37:25.410407468Z",
     "start_time": "2024-02-10T15:37:25.337804044Z"
    }
   },
   "id": "74a0e9d55987016e",
   "execution_count": 332
  },
  {
   "cell_type": "code",
   "outputs": [
    {
     "name": "stdout",
     "output_type": "stream",
     "text": [
      "<class 'pandas.core.frame.DataFrame'>\n",
      "RangeIndex: 8807 entries, 0 to 8806\n",
      "Data columns (total 12 columns):\n",
      " #   Column        Non-Null Count  Dtype \n",
      "---  ------        --------------  ----- \n",
      " 0   show_id       8807 non-null   object\n",
      " 1   type          8807 non-null   object\n",
      " 2   title         8807 non-null   object\n",
      " 3   director      8807 non-null   object\n",
      " 4   cast          7982 non-null   object\n",
      " 5   country       8807 non-null   object\n",
      " 6   date_added    8797 non-null   object\n",
      " 7   release_year  8807 non-null   int64 \n",
      " 8   rating        8803 non-null   object\n",
      " 9   duration      8804 non-null   object\n",
      " 10  listed_in     8807 non-null   object\n",
      " 11  description   8807 non-null   object\n",
      "dtypes: int64(1), object(11)\n",
      "memory usage: 825.8+ KB\n"
     ]
    }
   ],
   "source": [
    "df.info()"
   ],
   "metadata": {
    "collapsed": false,
    "ExecuteTime": {
     "end_time": "2024-02-10T15:37:25.518094059Z",
     "start_time": "2024-02-10T15:37:25.410969205Z"
    }
   },
   "id": "f5471fabee02261d",
   "execution_count": 333
  },
  {
   "cell_type": "markdown",
   "source": [
    "### Dealing with null values in ‘cast’ column"
   ],
   "metadata": {
    "collapsed": false
   },
   "id": "5f38346fe022a575"
  },
  {
   "cell_type": "code",
   "outputs": [
    {
     "name": "stdout",
     "output_type": "stream",
     "text": [
      "Non-null value count in 'country': 7982\n",
      "Null value count in 'country': 825\n"
     ]
    }
   ],
   "source": [
    "# Confirm count of non values in 'cast' column (Hence all other values are null)\n",
    "null_vals_count_cast_col = df['cast'].isnull().sum()\n",
    "non_null_vals_in_cast_col = len(df) - null_vals_count_cast_col\n",
    "\n",
    "print(f\"Non-null value count in 'country': {non_null_vals_in_cast_col}\")\n",
    "print(f\"Null value count in 'country': {null_vals_count_cast_col}\")"
   ],
   "metadata": {
    "collapsed": false,
    "ExecuteTime": {
     "end_time": "2024-02-10T15:37:25.561259868Z",
     "start_time": "2024-02-10T15:37:25.511897948Z"
    }
   },
   "id": "4419218b9d38c5e7",
   "execution_count": 334
  },
  {
   "cell_type": "code",
   "outputs": [],
   "source": [
    "# Replacing all null values in 'cast' column with \"Unavailable\"\n",
    "df['cast'] = df['cast'].apply(lambda x: \"Unavailable\" if pd.isna(x) == True else x)"
   ],
   "metadata": {
    "collapsed": false,
    "ExecuteTime": {
     "end_time": "2024-02-10T15:37:25.658875686Z",
     "start_time": "2024-02-10T15:37:25.553804783Z"
    }
   },
   "id": "daba650ef67ff4e0",
   "execution_count": 335
  },
  {
   "cell_type": "code",
   "outputs": [
    {
     "data": {
      "text/plain": "0"
     },
     "execution_count": 336,
     "metadata": {},
     "output_type": "execute_result"
    }
   ],
   "source": [
    "# Confirm all null values in 'cast' have been removed\n",
    "df['cast'].isnull().sum()"
   ],
   "metadata": {
    "collapsed": false,
    "ExecuteTime": {
     "end_time": "2024-02-10T15:37:25.719016529Z",
     "start_time": "2024-02-10T15:37:25.657996057Z"
    }
   },
   "id": "cf1501926a91c874",
   "execution_count": 336
  },
  {
   "cell_type": "code",
   "outputs": [
    {
     "name": "stdout",
     "output_type": "stream",
     "text": [
      "<class 'pandas.core.frame.DataFrame'>\n",
      "RangeIndex: 8807 entries, 0 to 8806\n",
      "Data columns (total 12 columns):\n",
      " #   Column        Non-Null Count  Dtype \n",
      "---  ------        --------------  ----- \n",
      " 0   show_id       8807 non-null   object\n",
      " 1   type          8807 non-null   object\n",
      " 2   title         8807 non-null   object\n",
      " 3   director      8807 non-null   object\n",
      " 4   cast          8807 non-null   object\n",
      " 5   country       8807 non-null   object\n",
      " 6   date_added    8797 non-null   object\n",
      " 7   release_year  8807 non-null   int64 \n",
      " 8   rating        8803 non-null   object\n",
      " 9   duration      8804 non-null   object\n",
      " 10  listed_in     8807 non-null   object\n",
      " 11  description   8807 non-null   object\n",
      "dtypes: int64(1), object(11)\n",
      "memory usage: 825.8+ KB\n"
     ]
    }
   ],
   "source": [
    "# Confirm summary info once more\n",
    "df.info()"
   ],
   "metadata": {
    "collapsed": false,
    "ExecuteTime": {
     "end_time": "2024-02-10T15:37:25.819075338Z",
     "start_time": "2024-02-10T15:37:25.720800101Z"
    }
   },
   "id": "1a0fa575bef1646b",
   "execution_count": 337
  },
  {
   "cell_type": "markdown",
   "source": [
    "### Cleaning date_added column"
   ],
   "metadata": {
    "collapsed": false
   },
   "id": "154a798c6b9c63b1"
  },
  {
   "cell_type": "code",
   "outputs": [
    {
     "name": "stdout",
     "output_type": "stream",
     "text": [
      "Non-null value count in 'country': 8797\n",
      "Null value count in 'country': 10\n"
     ]
    }
   ],
   "source": [
    "# Checking the number of null and non-null values\n",
    "# Confirm count of non values in 'cast' column (Hence all other values are null)\n",
    "null_vals_date_added_col = df['date_added'].isnull().sum()\n",
    "non_null_vals_date_added_col = len(df) - null_vals_date_added_col\n",
    "\n",
    "print(f\"Non-null value count in 'country': {non_null_vals_date_added_col}\")\n",
    "print(f\"Null value count in 'country': {null_vals_date_added_col}\")"
   ],
   "metadata": {
    "collapsed": false,
    "ExecuteTime": {
     "end_time": "2024-02-10T15:37:25.861726167Z",
     "start_time": "2024-02-10T15:37:25.817007368Z"
    }
   },
   "id": "d70e6db73526596e",
   "execution_count": 338
  },
  {
   "cell_type": "code",
   "outputs": [
    {
     "data": {
      "text/plain": "     show_id     type                                        title  \\\n6066   s6067  TV Show  A Young Doctor's Notebook and Other Stories   \n6174   s6175  TV Show              Anthony Bourdain: Parts Unknown   \n6795   s6796  TV Show                                      Frasier   \n6806   s6807  TV Show                                      Friends   \n6901   s6902  TV Show                              Gunslinger Girl   \n7196   s7197  TV Show                                     Kikoriki   \n7254   s7255  TV Show                          La Familia P. Luche   \n7406   s7407  TV Show                                        Maron   \n7847   s7848  TV Show                                 Red vs. Blue   \n8182   s8183  TV Show                 The Adventures of Figaro Pho   \n\n         director                                               cast  \\\n6066  Unavailable  Daniel Radcliffe, Jon Hamm, Adam Godley, Chris...   \n6174  Unavailable                                   Anthony Bourdain   \n6795  Unavailable  Kelsey Grammer, Jane Leeves, David Hyde Pierce...   \n6806  Unavailable  Jennifer Aniston, Courteney Cox, Lisa Kudrow, ...   \n6901  Unavailable  Yuuka Nanri, Kanako Mitsuhashi, Eri Sendai, Am...   \n7196  Unavailable                                      Igor Dmitriev   \n7254  Unavailable  Eugenio Derbez, Consuelo Duval, Luis Manuel Áv...   \n7406  Unavailable  Marc Maron, Judd Hirsch, Josh Brener, Nora Zeh...   \n7847  Unavailable  Burnie Burns, Jason Saldaña, Gustavo Sorola, G...   \n8182  Unavailable  Luke Jurevicius, Craig Behenna, Charlotte Haml...   \n\n             country date_added  release_year rating    duration  \\\n6066  United Kingdom        NaN          2013  TV-MA   2 Seasons   \n6174   United States        NaN          2018  TV-PG   5 Seasons   \n6795   United States        NaN          2003  TV-PG  11 Seasons   \n6806   United States        NaN          2003  TV-14  10 Seasons   \n6901           Japan        NaN          2008  TV-14   2 Seasons   \n7196     Unavailable        NaN          2010   TV-Y   2 Seasons   \n7254   United States        NaN          2012  TV-14   3 Seasons   \n7406   United States        NaN          2016  TV-MA   4 Seasons   \n7847   United States        NaN          2015     NR  13 Seasons   \n8182       Australia        NaN          2015  TV-Y7   2 Seasons   \n\n                                              listed_in  \\\n6066           British TV Shows, TV Comedies, TV Dramas   \n6174                                         Docuseries   \n6795                     Classic & Cult TV, TV Comedies   \n6806                     Classic & Cult TV, TV Comedies   \n6901                       Anime Series, Crime TV Shows   \n7196                                           Kids' TV   \n7254  International TV Shows, Spanish-Language TV Sh...   \n7406                                        TV Comedies   \n7847  TV Action & Adventure, TV Comedies, TV Sci-Fi ...   \n8182                              Kids' TV, TV Comedies   \n\n                                            description  \n6066  Set during the Russian Revolution, this comic ...  \n6174  This CNN original series has chef Anthony Bour...  \n6795  Frasier Crane is a snooty but lovable Seattle ...  \n6806  This hit sitcom follows the merry misadventure...  \n6901  On the surface, the Social Welfare Agency appe...  \n7196  A wacky rabbit and his gang of animal pals hav...  \n7254  This irreverent sitcom featues Ludovico, Feder...  \n7406  Marc Maron stars as Marc Maron, who interviews...  \n7847  This parody of first-person shooter games, mil...  \n8182  Imagine your worst fears, then multiply them: ...  ",
      "text/html": "<div>\n<style scoped>\n    .dataframe tbody tr th:only-of-type {\n        vertical-align: middle;\n    }\n\n    .dataframe tbody tr th {\n        vertical-align: top;\n    }\n\n    .dataframe thead th {\n        text-align: right;\n    }\n</style>\n<table border=\"1\" class=\"dataframe\">\n  <thead>\n    <tr style=\"text-align: right;\">\n      <th></th>\n      <th>show_id</th>\n      <th>type</th>\n      <th>title</th>\n      <th>director</th>\n      <th>cast</th>\n      <th>country</th>\n      <th>date_added</th>\n      <th>release_year</th>\n      <th>rating</th>\n      <th>duration</th>\n      <th>listed_in</th>\n      <th>description</th>\n    </tr>\n  </thead>\n  <tbody>\n    <tr>\n      <th>6066</th>\n      <td>s6067</td>\n      <td>TV Show</td>\n      <td>A Young Doctor's Notebook and Other Stories</td>\n      <td>Unavailable</td>\n      <td>Daniel Radcliffe, Jon Hamm, Adam Godley, Chris...</td>\n      <td>United Kingdom</td>\n      <td>NaN</td>\n      <td>2013</td>\n      <td>TV-MA</td>\n      <td>2 Seasons</td>\n      <td>British TV Shows, TV Comedies, TV Dramas</td>\n      <td>Set during the Russian Revolution, this comic ...</td>\n    </tr>\n    <tr>\n      <th>6174</th>\n      <td>s6175</td>\n      <td>TV Show</td>\n      <td>Anthony Bourdain: Parts Unknown</td>\n      <td>Unavailable</td>\n      <td>Anthony Bourdain</td>\n      <td>United States</td>\n      <td>NaN</td>\n      <td>2018</td>\n      <td>TV-PG</td>\n      <td>5 Seasons</td>\n      <td>Docuseries</td>\n      <td>This CNN original series has chef Anthony Bour...</td>\n    </tr>\n    <tr>\n      <th>6795</th>\n      <td>s6796</td>\n      <td>TV Show</td>\n      <td>Frasier</td>\n      <td>Unavailable</td>\n      <td>Kelsey Grammer, Jane Leeves, David Hyde Pierce...</td>\n      <td>United States</td>\n      <td>NaN</td>\n      <td>2003</td>\n      <td>TV-PG</td>\n      <td>11 Seasons</td>\n      <td>Classic &amp; Cult TV, TV Comedies</td>\n      <td>Frasier Crane is a snooty but lovable Seattle ...</td>\n    </tr>\n    <tr>\n      <th>6806</th>\n      <td>s6807</td>\n      <td>TV Show</td>\n      <td>Friends</td>\n      <td>Unavailable</td>\n      <td>Jennifer Aniston, Courteney Cox, Lisa Kudrow, ...</td>\n      <td>United States</td>\n      <td>NaN</td>\n      <td>2003</td>\n      <td>TV-14</td>\n      <td>10 Seasons</td>\n      <td>Classic &amp; Cult TV, TV Comedies</td>\n      <td>This hit sitcom follows the merry misadventure...</td>\n    </tr>\n    <tr>\n      <th>6901</th>\n      <td>s6902</td>\n      <td>TV Show</td>\n      <td>Gunslinger Girl</td>\n      <td>Unavailable</td>\n      <td>Yuuka Nanri, Kanako Mitsuhashi, Eri Sendai, Am...</td>\n      <td>Japan</td>\n      <td>NaN</td>\n      <td>2008</td>\n      <td>TV-14</td>\n      <td>2 Seasons</td>\n      <td>Anime Series, Crime TV Shows</td>\n      <td>On the surface, the Social Welfare Agency appe...</td>\n    </tr>\n    <tr>\n      <th>7196</th>\n      <td>s7197</td>\n      <td>TV Show</td>\n      <td>Kikoriki</td>\n      <td>Unavailable</td>\n      <td>Igor Dmitriev</td>\n      <td>Unavailable</td>\n      <td>NaN</td>\n      <td>2010</td>\n      <td>TV-Y</td>\n      <td>2 Seasons</td>\n      <td>Kids' TV</td>\n      <td>A wacky rabbit and his gang of animal pals hav...</td>\n    </tr>\n    <tr>\n      <th>7254</th>\n      <td>s7255</td>\n      <td>TV Show</td>\n      <td>La Familia P. Luche</td>\n      <td>Unavailable</td>\n      <td>Eugenio Derbez, Consuelo Duval, Luis Manuel Áv...</td>\n      <td>United States</td>\n      <td>NaN</td>\n      <td>2012</td>\n      <td>TV-14</td>\n      <td>3 Seasons</td>\n      <td>International TV Shows, Spanish-Language TV Sh...</td>\n      <td>This irreverent sitcom featues Ludovico, Feder...</td>\n    </tr>\n    <tr>\n      <th>7406</th>\n      <td>s7407</td>\n      <td>TV Show</td>\n      <td>Maron</td>\n      <td>Unavailable</td>\n      <td>Marc Maron, Judd Hirsch, Josh Brener, Nora Zeh...</td>\n      <td>United States</td>\n      <td>NaN</td>\n      <td>2016</td>\n      <td>TV-MA</td>\n      <td>4 Seasons</td>\n      <td>TV Comedies</td>\n      <td>Marc Maron stars as Marc Maron, who interviews...</td>\n    </tr>\n    <tr>\n      <th>7847</th>\n      <td>s7848</td>\n      <td>TV Show</td>\n      <td>Red vs. Blue</td>\n      <td>Unavailable</td>\n      <td>Burnie Burns, Jason Saldaña, Gustavo Sorola, G...</td>\n      <td>United States</td>\n      <td>NaN</td>\n      <td>2015</td>\n      <td>NR</td>\n      <td>13 Seasons</td>\n      <td>TV Action &amp; Adventure, TV Comedies, TV Sci-Fi ...</td>\n      <td>This parody of first-person shooter games, mil...</td>\n    </tr>\n    <tr>\n      <th>8182</th>\n      <td>s8183</td>\n      <td>TV Show</td>\n      <td>The Adventures of Figaro Pho</td>\n      <td>Unavailable</td>\n      <td>Luke Jurevicius, Craig Behenna, Charlotte Haml...</td>\n      <td>Australia</td>\n      <td>NaN</td>\n      <td>2015</td>\n      <td>TV-Y7</td>\n      <td>2 Seasons</td>\n      <td>Kids' TV, TV Comedies</td>\n      <td>Imagine your worst fears, then multiply them: ...</td>\n    </tr>\n  </tbody>\n</table>\n</div>"
     },
     "execution_count": 339,
     "metadata": {},
     "output_type": "execute_result"
    }
   ],
   "source": [
    "# Returning rows with null values\n",
    "rows_with_null_date_added_col = df[df['date_added'].isnull()]\n",
    "rows_with_null_date_added_col"
   ],
   "metadata": {
    "collapsed": false,
    "ExecuteTime": {
     "end_time": "2024-02-10T15:37:25.983443233Z",
     "start_time": "2024-02-10T15:37:25.860949748Z"
    }
   },
   "id": "db3dddee8ac1c9d8",
   "execution_count": 339
  },
  {
   "cell_type": "code",
   "outputs": [
    {
     "data": {
      "text/plain": "     show_id     type                                         title  \\\n6065   s6066    Movie                             A Wrinkle in Time   \n6066   s6067  TV Show   A Young Doctor's Notebook and Other Stories   \n6067   s6068  TV Show                       A.D. Kingdom and Empire   \n6173   s6174    Movie                        Antariksha Ke Rakhwale   \n6174   s6175  TV Show               Anthony Bourdain: Parts Unknown   \n6175   s6176    Movie                                      Antidote   \n6794   s6795    Movie                                    Frances Ha   \n6795   s6796  TV Show                                       Frasier   \n6796   s6797    Movie                                    Freak Show   \n6805   s6806    Movie                                Friend Request   \n6806   s6807  TV Show                                       Friends   \n6807   s6808    Movie                           From Japan to Egypt   \n6900   s6901    Movie                                   Gun Runners   \n6901   s6902  TV Show                               Gunslinger Girl   \n6902   s6903    Movie  Guy Martin: Last Flight of the Vulcan Bomber   \n7195   s7196    Movie                       Kidnapping Mr. Heineken   \n7196   s7197  TV Show                                      Kikoriki   \n7197   s7198    Movie                             Kill Bill: Vol. 1   \n7253   s7254    Movie                        La Coppia dei Campioni   \n7254   s7255  TV Show                           La Familia P. Luche   \n7255   s7256  TV Show                                      La Femme   \n7405   s7406    Movie              Mark Gatiss: A Study in Sherlock   \n7406   s7407  TV Show                                         Maron   \n7407   s7408    Movie                                        Maroon   \n7846   s7847    Movie                                     Red Trees   \n7847   s7848  TV Show                                  Red vs. Blue   \n7848   s7849    Movie                                       Refugee   \n8181   s8182    Movie                            The Adventure Club   \n8182   s8183  TV Show                  The Adventures of Figaro Pho   \n8183   s8184    Movie       The Adventures of Sharkboy and Lavagirl   \n\n                             director  \\\n6065                     Ava DuVernay   \n6066                      Unavailable   \n6067                      Unavailable   \n6173                 Anirban Majumder   \n6174                      Unavailable   \n6175                       Ken Barbet   \n6794                    Noah Baumbach   \n6795                      Unavailable   \n6796                    Trudie Styler   \n6805                  Simon Verhoeven   \n6806                      Unavailable   \n6807                    Mahmoud Karim   \n6900                     Anjali Nayar   \n6901                      Unavailable   \n6902                  James Woodroffe   \n7195                 Daniel Alfredson   \n7196                      Unavailable   \n7197                Quentin Tarantino   \n7253                      Giulio Base   \n7254                      Unavailable   \n7255                      Unavailable   \n7405                    Nathan Landeg   \n7406                      Unavailable   \n7407                           Pulkit   \n7846                    Marina Willer   \n7847                      Unavailable   \n7848  Clementine Malpas, Leslie Knott   \n8181                   Geoff Anderson   \n8182                      Unavailable   \n8183                 Robert Rodriguez   \n\n                                                   cast  \\\n6065  Storm Reid, Oprah Winfrey, Reese Witherspoon, ...   \n6066  Daniel Radcliffe, Jon Hamm, Adam Godley, Chris...   \n6067  Juan Pablo Di Pace, Adam Levy, Chipo Chung, Ba...   \n6173  Sonal Kaushal, Rupa Bhimani, Julie Tejwani, Sa...   \n6174                                   Anthony Bourdain   \n6175  Randy Couture, Chuck Zito, Wil Traval, Celeste...   \n6794  Greta Gerwig, Mickey Sumner, Charlotte d'Amboi...   \n6795  Kelsey Grammer, Jane Leeves, David Hyde Pierce...   \n6796  Alex Lawther, Abigail Breslin, AnnaSophia Robb...   \n6805  Alycia Debnam-Carey, William Moseley, Connor P...   \n6806  Jennifer Aniston, Courteney Cox, Lisa Kudrow, ...   \n6807  Ahmed Eid, Saki Tsukamoto, Nada Moussa, Mohamm...   \n6900                                        Unavailable   \n6901  Yuuka Nanri, Kanako Mitsuhashi, Eri Sendai, Am...   \n6902              Guy Martin, Kevin Stone, Shaun Dooley   \n7195  Jim Sturgess, Sam Worthington, Ryan Kwanten, A...   \n7196                                      Igor Dmitriev   \n7197  Uma Thurman, Lucy Liu, Vivica A. Fox, Daryl Ha...   \n7253  Massimo Boldi, Massimiliano Tortora, Anna Mari...   \n7254  Eugenio Derbez, Consuelo Duval, Luis Manuel Áv...   \n7255  Zoe Tay, Ann Kok, Tiffany Leong, Tay Ping Hui,...   \n7405  Benedict Cumberbatch, Martin Freeman, Una Stub...   \n7406  Marc Maron, Judd Hirsch, Josh Brener, Nora Zeh...   \n7407  Manav Kaul, Devyani Cm, Saurabh Sachdeva, Sari...   \n7846                                  Tim Piggott-Smith   \n7847  Burnie Burns, Jason Saldaña, Gustavo Sorola, G...   \n7848  Cate Blanchett, Lynsey Addario, Omar Victor Di...   \n8181  Sam Ashe Arnold, Jakob Davies, Dalila Bela, Ro...   \n8182  Luke Jurevicius, Craig Behenna, Charlotte Haml...   \n8183  Taylor Lautner, Taylor Dooley, Cayden Boyd, Ge...   \n\n                                                country          date_added  \\\n6065                                      United States  September 25, 2018   \n6066                                     United Kingdom                 NaN   \n6067                                      United States   December 15, 2017   \n6173                                        Unavailable       June 18, 2019   \n6174                                      United States                 NaN   \n6175                                      United States      April 14, 2019   \n6794                              United States, Brazil     October 1, 2017   \n6795                                      United States                 NaN   \n6796                                      United States     August 13, 2020   \n6805                                            Germany      April 18, 2018   \n6806                                      United States                 NaN   \n6807                                              Egypt        June 6, 2019   \n6900                                             Canada    February 1, 2017   \n6901                                              Japan                 NaN   \n6902                                     United Kingdom       July 26, 2019   \n7195  Netherlands, Belgium, United Kingdom, United S...   September 8, 2017   \n7196                                        Unavailable                 NaN   \n7197                               United States, Japan     January 1, 2020   \n7253                                              Italy   February 15, 2017   \n7254                                      United States                 NaN   \n7255                                        Unavailable    October 16, 2017   \n7405                                        Unavailable         May 1, 2016   \n7406                                      United States                 NaN   \n7407                                              India    February 1, 2017   \n7846                                     United Kingdom      March 24, 2018   \n7847                                      United States                 NaN   \n7848                                        Unavailable      March 10, 2017   \n8181                                             Canada        May 10, 2017   \n8182                                          Australia                 NaN   \n8183                                      United States    December 2, 2020   \n\n      release_year rating    duration  \\\n6065          2018     PG     110 min   \n6066          2013  TV-MA   2 Seasons   \n6067          2015  TV-14    1 Season   \n6173          2018  TV-Y7      65 min   \n6174          2018  TV-PG   5 Seasons   \n6175          2018  TV-MA      90 min   \n6794          2012      R      86 min   \n6795          2003  TV-PG  11 Seasons   \n6796          2018  TV-MA      91 min   \n6805          2016      R      92 min   \n6806          2003  TV-14  10 Seasons   \n6807          2017  TV-14      93 min   \n6900          2015  TV-PG      90 min   \n6901          2008  TV-14   2 Seasons   \n6902          2015   TV-G      57 min   \n7195          2015      R      95 min   \n7196          2010   TV-Y   2 Seasons   \n7197          2003      R     111 min   \n7253          2016  TV-MA      88 min   \n7254          2012  TV-14   3 Seasons   \n7255          2016  TV-14    1 Season   \n7405          2016  TV-14      29 min   \n7406          2016  TV-MA   4 Seasons   \n7407          2016  TV-MA      94 min   \n7846          2017  TV-PG      80 min   \n7847          2015     NR  13 Seasons   \n7848          2016  TV-PG      24 min   \n8181          2016  TV-Y7      88 min   \n8182          2015  TV-Y7   2 Seasons   \n8183          2005     PG      93 min   \n\n                                              listed_in  \\\n6065                           Children & Family Movies   \n6066           British TV Shows, TV Comedies, TV Dramas   \n6067                                          TV Dramas   \n6173                           Children & Family Movies   \n6174                                         Docuseries   \n6175                  Action & Adventure, Horror Movies   \n6794               Comedies, Dramas, Independent Movies   \n6795                     Classic & Cult TV, TV Comedies   \n6796               Comedies, Dramas, Independent Movies   \n6805                Horror Movies, International Movies   \n6806                     Classic & Cult TV, TV Comedies   \n6807         Children & Family Movies, Comedies, Dramas   \n6900  Documentaries, International Movies, Sports Mo...   \n6901                       Anime Series, Crime TV Shows   \n6902                Documentaries, International Movies   \n7195   Action & Adventure, Dramas, International Movies   \n7196                                           Kids' TV   \n7197                                 Action & Adventure   \n7253                     Comedies, International Movies   \n7254  International TV Shows, Spanish-Language TV Sh...   \n7255                  International TV Shows, TV Dramas   \n7405                                             Movies   \n7406                                        TV Comedies   \n7407   Dramas, Independent Movies, International Movies   \n7846                Documentaries, International Movies   \n7847  TV Action & Adventure, TV Comedies, TV Sci-Fi ...   \n7848                                      Documentaries   \n8181                           Children & Family Movies   \n8182                              Kids' TV, TV Comedies   \n8183                           Children & Family Movies   \n\n                                            description  \n6065  Years after their father disappears, Meg and h...  \n6066  Set during the Russian Revolution, this comic ...  \n6067  In the wake of Jesus Christ's crucifixion, his...  \n6173  Space villains have abducted all the superhero...  \n6174  This CNN original series has chef Anthony Bour...  \n6175  A tough-as-nails treasure hunter protects a hu...  \n6794  Determined to make it as a modern dancer in Ne...  \n6795  Frasier Crane is a snooty but lovable Seattle ...  \n6796  Forced to attend a new high school, a glamorou...  \n6805  A popular college student's love of social med...  \n6806  This hit sitcom follows the merry misadventure...  \n6807  After his wife relocates to her home country o...  \n6900  Two roaming Kenyan bandits attempt to change t...  \n6901  On the surface, the Social Welfare Agency appe...  \n6902  Guy Martin assists in preparing the last airwo...  \n7195  When beer magnate Alfred \"Freddy\" Heineken is ...  \n7196  A wacky rabbit and his gang of animal pals hav...  \n7197  An assassin is shot by her ruthless employer, ...  \n7253  After winning a shared trip to a soccer match,...  \n7254  This irreverent sitcom featues Ludovico, Feder...  \n7255  Personal desires guide the lives of a marriage...  \n7405  Mark Gatiss, who co-created “Sherlock” and pla...  \n7406  Marc Maron stars as Marc Maron, who interviews...  \n7407  When his wife goes missing, university profess...  \n7846  A documentarian details her Jewish family's es...  \n7847  This parody of first-person shooter games, mil...  \n7848  Five acclaimed photographers travel the world ...  \n8181  After finding a peculiar key, three smart and ...  \n8182  Imagine your worst fears, then multiply them: ...  \n8183  A 10-year-old dreamer's imaginary friends – mi...  ",
      "text/html": "<div>\n<style scoped>\n    .dataframe tbody tr th:only-of-type {\n        vertical-align: middle;\n    }\n\n    .dataframe tbody tr th {\n        vertical-align: top;\n    }\n\n    .dataframe thead th {\n        text-align: right;\n    }\n</style>\n<table border=\"1\" class=\"dataframe\">\n  <thead>\n    <tr style=\"text-align: right;\">\n      <th></th>\n      <th>show_id</th>\n      <th>type</th>\n      <th>title</th>\n      <th>director</th>\n      <th>cast</th>\n      <th>country</th>\n      <th>date_added</th>\n      <th>release_year</th>\n      <th>rating</th>\n      <th>duration</th>\n      <th>listed_in</th>\n      <th>description</th>\n    </tr>\n  </thead>\n  <tbody>\n    <tr>\n      <th>6065</th>\n      <td>s6066</td>\n      <td>Movie</td>\n      <td>A Wrinkle in Time</td>\n      <td>Ava DuVernay</td>\n      <td>Storm Reid, Oprah Winfrey, Reese Witherspoon, ...</td>\n      <td>United States</td>\n      <td>September 25, 2018</td>\n      <td>2018</td>\n      <td>PG</td>\n      <td>110 min</td>\n      <td>Children &amp; Family Movies</td>\n      <td>Years after their father disappears, Meg and h...</td>\n    </tr>\n    <tr>\n      <th>6066</th>\n      <td>s6067</td>\n      <td>TV Show</td>\n      <td>A Young Doctor's Notebook and Other Stories</td>\n      <td>Unavailable</td>\n      <td>Daniel Radcliffe, Jon Hamm, Adam Godley, Chris...</td>\n      <td>United Kingdom</td>\n      <td>NaN</td>\n      <td>2013</td>\n      <td>TV-MA</td>\n      <td>2 Seasons</td>\n      <td>British TV Shows, TV Comedies, TV Dramas</td>\n      <td>Set during the Russian Revolution, this comic ...</td>\n    </tr>\n    <tr>\n      <th>6067</th>\n      <td>s6068</td>\n      <td>TV Show</td>\n      <td>A.D. Kingdom and Empire</td>\n      <td>Unavailable</td>\n      <td>Juan Pablo Di Pace, Adam Levy, Chipo Chung, Ba...</td>\n      <td>United States</td>\n      <td>December 15, 2017</td>\n      <td>2015</td>\n      <td>TV-14</td>\n      <td>1 Season</td>\n      <td>TV Dramas</td>\n      <td>In the wake of Jesus Christ's crucifixion, his...</td>\n    </tr>\n    <tr>\n      <th>6173</th>\n      <td>s6174</td>\n      <td>Movie</td>\n      <td>Antariksha Ke Rakhwale</td>\n      <td>Anirban Majumder</td>\n      <td>Sonal Kaushal, Rupa Bhimani, Julie Tejwani, Sa...</td>\n      <td>Unavailable</td>\n      <td>June 18, 2019</td>\n      <td>2018</td>\n      <td>TV-Y7</td>\n      <td>65 min</td>\n      <td>Children &amp; Family Movies</td>\n      <td>Space villains have abducted all the superhero...</td>\n    </tr>\n    <tr>\n      <th>6174</th>\n      <td>s6175</td>\n      <td>TV Show</td>\n      <td>Anthony Bourdain: Parts Unknown</td>\n      <td>Unavailable</td>\n      <td>Anthony Bourdain</td>\n      <td>United States</td>\n      <td>NaN</td>\n      <td>2018</td>\n      <td>TV-PG</td>\n      <td>5 Seasons</td>\n      <td>Docuseries</td>\n      <td>This CNN original series has chef Anthony Bour...</td>\n    </tr>\n    <tr>\n      <th>6175</th>\n      <td>s6176</td>\n      <td>Movie</td>\n      <td>Antidote</td>\n      <td>Ken Barbet</td>\n      <td>Randy Couture, Chuck Zito, Wil Traval, Celeste...</td>\n      <td>United States</td>\n      <td>April 14, 2019</td>\n      <td>2018</td>\n      <td>TV-MA</td>\n      <td>90 min</td>\n      <td>Action &amp; Adventure, Horror Movies</td>\n      <td>A tough-as-nails treasure hunter protects a hu...</td>\n    </tr>\n    <tr>\n      <th>6794</th>\n      <td>s6795</td>\n      <td>Movie</td>\n      <td>Frances Ha</td>\n      <td>Noah Baumbach</td>\n      <td>Greta Gerwig, Mickey Sumner, Charlotte d'Amboi...</td>\n      <td>United States, Brazil</td>\n      <td>October 1, 2017</td>\n      <td>2012</td>\n      <td>R</td>\n      <td>86 min</td>\n      <td>Comedies, Dramas, Independent Movies</td>\n      <td>Determined to make it as a modern dancer in Ne...</td>\n    </tr>\n    <tr>\n      <th>6795</th>\n      <td>s6796</td>\n      <td>TV Show</td>\n      <td>Frasier</td>\n      <td>Unavailable</td>\n      <td>Kelsey Grammer, Jane Leeves, David Hyde Pierce...</td>\n      <td>United States</td>\n      <td>NaN</td>\n      <td>2003</td>\n      <td>TV-PG</td>\n      <td>11 Seasons</td>\n      <td>Classic &amp; Cult TV, TV Comedies</td>\n      <td>Frasier Crane is a snooty but lovable Seattle ...</td>\n    </tr>\n    <tr>\n      <th>6796</th>\n      <td>s6797</td>\n      <td>Movie</td>\n      <td>Freak Show</td>\n      <td>Trudie Styler</td>\n      <td>Alex Lawther, Abigail Breslin, AnnaSophia Robb...</td>\n      <td>United States</td>\n      <td>August 13, 2020</td>\n      <td>2018</td>\n      <td>TV-MA</td>\n      <td>91 min</td>\n      <td>Comedies, Dramas, Independent Movies</td>\n      <td>Forced to attend a new high school, a glamorou...</td>\n    </tr>\n    <tr>\n      <th>6805</th>\n      <td>s6806</td>\n      <td>Movie</td>\n      <td>Friend Request</td>\n      <td>Simon Verhoeven</td>\n      <td>Alycia Debnam-Carey, William Moseley, Connor P...</td>\n      <td>Germany</td>\n      <td>April 18, 2018</td>\n      <td>2016</td>\n      <td>R</td>\n      <td>92 min</td>\n      <td>Horror Movies, International Movies</td>\n      <td>A popular college student's love of social med...</td>\n    </tr>\n    <tr>\n      <th>6806</th>\n      <td>s6807</td>\n      <td>TV Show</td>\n      <td>Friends</td>\n      <td>Unavailable</td>\n      <td>Jennifer Aniston, Courteney Cox, Lisa Kudrow, ...</td>\n      <td>United States</td>\n      <td>NaN</td>\n      <td>2003</td>\n      <td>TV-14</td>\n      <td>10 Seasons</td>\n      <td>Classic &amp; Cult TV, TV Comedies</td>\n      <td>This hit sitcom follows the merry misadventure...</td>\n    </tr>\n    <tr>\n      <th>6807</th>\n      <td>s6808</td>\n      <td>Movie</td>\n      <td>From Japan to Egypt</td>\n      <td>Mahmoud Karim</td>\n      <td>Ahmed Eid, Saki Tsukamoto, Nada Moussa, Mohamm...</td>\n      <td>Egypt</td>\n      <td>June 6, 2019</td>\n      <td>2017</td>\n      <td>TV-14</td>\n      <td>93 min</td>\n      <td>Children &amp; Family Movies, Comedies, Dramas</td>\n      <td>After his wife relocates to her home country o...</td>\n    </tr>\n    <tr>\n      <th>6900</th>\n      <td>s6901</td>\n      <td>Movie</td>\n      <td>Gun Runners</td>\n      <td>Anjali Nayar</td>\n      <td>Unavailable</td>\n      <td>Canada</td>\n      <td>February 1, 2017</td>\n      <td>2015</td>\n      <td>TV-PG</td>\n      <td>90 min</td>\n      <td>Documentaries, International Movies, Sports Mo...</td>\n      <td>Two roaming Kenyan bandits attempt to change t...</td>\n    </tr>\n    <tr>\n      <th>6901</th>\n      <td>s6902</td>\n      <td>TV Show</td>\n      <td>Gunslinger Girl</td>\n      <td>Unavailable</td>\n      <td>Yuuka Nanri, Kanako Mitsuhashi, Eri Sendai, Am...</td>\n      <td>Japan</td>\n      <td>NaN</td>\n      <td>2008</td>\n      <td>TV-14</td>\n      <td>2 Seasons</td>\n      <td>Anime Series, Crime TV Shows</td>\n      <td>On the surface, the Social Welfare Agency appe...</td>\n    </tr>\n    <tr>\n      <th>6902</th>\n      <td>s6903</td>\n      <td>Movie</td>\n      <td>Guy Martin: Last Flight of the Vulcan Bomber</td>\n      <td>James Woodroffe</td>\n      <td>Guy Martin, Kevin Stone, Shaun Dooley</td>\n      <td>United Kingdom</td>\n      <td>July 26, 2019</td>\n      <td>2015</td>\n      <td>TV-G</td>\n      <td>57 min</td>\n      <td>Documentaries, International Movies</td>\n      <td>Guy Martin assists in preparing the last airwo...</td>\n    </tr>\n    <tr>\n      <th>7195</th>\n      <td>s7196</td>\n      <td>Movie</td>\n      <td>Kidnapping Mr. Heineken</td>\n      <td>Daniel Alfredson</td>\n      <td>Jim Sturgess, Sam Worthington, Ryan Kwanten, A...</td>\n      <td>Netherlands, Belgium, United Kingdom, United S...</td>\n      <td>September 8, 2017</td>\n      <td>2015</td>\n      <td>R</td>\n      <td>95 min</td>\n      <td>Action &amp; Adventure, Dramas, International Movies</td>\n      <td>When beer magnate Alfred \"Freddy\" Heineken is ...</td>\n    </tr>\n    <tr>\n      <th>7196</th>\n      <td>s7197</td>\n      <td>TV Show</td>\n      <td>Kikoriki</td>\n      <td>Unavailable</td>\n      <td>Igor Dmitriev</td>\n      <td>Unavailable</td>\n      <td>NaN</td>\n      <td>2010</td>\n      <td>TV-Y</td>\n      <td>2 Seasons</td>\n      <td>Kids' TV</td>\n      <td>A wacky rabbit and his gang of animal pals hav...</td>\n    </tr>\n    <tr>\n      <th>7197</th>\n      <td>s7198</td>\n      <td>Movie</td>\n      <td>Kill Bill: Vol. 1</td>\n      <td>Quentin Tarantino</td>\n      <td>Uma Thurman, Lucy Liu, Vivica A. Fox, Daryl Ha...</td>\n      <td>United States, Japan</td>\n      <td>January 1, 2020</td>\n      <td>2003</td>\n      <td>R</td>\n      <td>111 min</td>\n      <td>Action &amp; Adventure</td>\n      <td>An assassin is shot by her ruthless employer, ...</td>\n    </tr>\n    <tr>\n      <th>7253</th>\n      <td>s7254</td>\n      <td>Movie</td>\n      <td>La Coppia dei Campioni</td>\n      <td>Giulio Base</td>\n      <td>Massimo Boldi, Massimiliano Tortora, Anna Mari...</td>\n      <td>Italy</td>\n      <td>February 15, 2017</td>\n      <td>2016</td>\n      <td>TV-MA</td>\n      <td>88 min</td>\n      <td>Comedies, International Movies</td>\n      <td>After winning a shared trip to a soccer match,...</td>\n    </tr>\n    <tr>\n      <th>7254</th>\n      <td>s7255</td>\n      <td>TV Show</td>\n      <td>La Familia P. Luche</td>\n      <td>Unavailable</td>\n      <td>Eugenio Derbez, Consuelo Duval, Luis Manuel Áv...</td>\n      <td>United States</td>\n      <td>NaN</td>\n      <td>2012</td>\n      <td>TV-14</td>\n      <td>3 Seasons</td>\n      <td>International TV Shows, Spanish-Language TV Sh...</td>\n      <td>This irreverent sitcom featues Ludovico, Feder...</td>\n    </tr>\n    <tr>\n      <th>7255</th>\n      <td>s7256</td>\n      <td>TV Show</td>\n      <td>La Femme</td>\n      <td>Unavailable</td>\n      <td>Zoe Tay, Ann Kok, Tiffany Leong, Tay Ping Hui,...</td>\n      <td>Unavailable</td>\n      <td>October 16, 2017</td>\n      <td>2016</td>\n      <td>TV-14</td>\n      <td>1 Season</td>\n      <td>International TV Shows, TV Dramas</td>\n      <td>Personal desires guide the lives of a marriage...</td>\n    </tr>\n    <tr>\n      <th>7405</th>\n      <td>s7406</td>\n      <td>Movie</td>\n      <td>Mark Gatiss: A Study in Sherlock</td>\n      <td>Nathan Landeg</td>\n      <td>Benedict Cumberbatch, Martin Freeman, Una Stub...</td>\n      <td>Unavailable</td>\n      <td>May 1, 2016</td>\n      <td>2016</td>\n      <td>TV-14</td>\n      <td>29 min</td>\n      <td>Movies</td>\n      <td>Mark Gatiss, who co-created “Sherlock” and pla...</td>\n    </tr>\n    <tr>\n      <th>7406</th>\n      <td>s7407</td>\n      <td>TV Show</td>\n      <td>Maron</td>\n      <td>Unavailable</td>\n      <td>Marc Maron, Judd Hirsch, Josh Brener, Nora Zeh...</td>\n      <td>United States</td>\n      <td>NaN</td>\n      <td>2016</td>\n      <td>TV-MA</td>\n      <td>4 Seasons</td>\n      <td>TV Comedies</td>\n      <td>Marc Maron stars as Marc Maron, who interviews...</td>\n    </tr>\n    <tr>\n      <th>7407</th>\n      <td>s7408</td>\n      <td>Movie</td>\n      <td>Maroon</td>\n      <td>Pulkit</td>\n      <td>Manav Kaul, Devyani Cm, Saurabh Sachdeva, Sari...</td>\n      <td>India</td>\n      <td>February 1, 2017</td>\n      <td>2016</td>\n      <td>TV-MA</td>\n      <td>94 min</td>\n      <td>Dramas, Independent Movies, International Movies</td>\n      <td>When his wife goes missing, university profess...</td>\n    </tr>\n    <tr>\n      <th>7846</th>\n      <td>s7847</td>\n      <td>Movie</td>\n      <td>Red Trees</td>\n      <td>Marina Willer</td>\n      <td>Tim Piggott-Smith</td>\n      <td>United Kingdom</td>\n      <td>March 24, 2018</td>\n      <td>2017</td>\n      <td>TV-PG</td>\n      <td>80 min</td>\n      <td>Documentaries, International Movies</td>\n      <td>A documentarian details her Jewish family's es...</td>\n    </tr>\n    <tr>\n      <th>7847</th>\n      <td>s7848</td>\n      <td>TV Show</td>\n      <td>Red vs. Blue</td>\n      <td>Unavailable</td>\n      <td>Burnie Burns, Jason Saldaña, Gustavo Sorola, G...</td>\n      <td>United States</td>\n      <td>NaN</td>\n      <td>2015</td>\n      <td>NR</td>\n      <td>13 Seasons</td>\n      <td>TV Action &amp; Adventure, TV Comedies, TV Sci-Fi ...</td>\n      <td>This parody of first-person shooter games, mil...</td>\n    </tr>\n    <tr>\n      <th>7848</th>\n      <td>s7849</td>\n      <td>Movie</td>\n      <td>Refugee</td>\n      <td>Clementine Malpas, Leslie Knott</td>\n      <td>Cate Blanchett, Lynsey Addario, Omar Victor Di...</td>\n      <td>Unavailable</td>\n      <td>March 10, 2017</td>\n      <td>2016</td>\n      <td>TV-PG</td>\n      <td>24 min</td>\n      <td>Documentaries</td>\n      <td>Five acclaimed photographers travel the world ...</td>\n    </tr>\n    <tr>\n      <th>8181</th>\n      <td>s8182</td>\n      <td>Movie</td>\n      <td>The Adventure Club</td>\n      <td>Geoff Anderson</td>\n      <td>Sam Ashe Arnold, Jakob Davies, Dalila Bela, Ro...</td>\n      <td>Canada</td>\n      <td>May 10, 2017</td>\n      <td>2016</td>\n      <td>TV-Y7</td>\n      <td>88 min</td>\n      <td>Children &amp; Family Movies</td>\n      <td>After finding a peculiar key, three smart and ...</td>\n    </tr>\n    <tr>\n      <th>8182</th>\n      <td>s8183</td>\n      <td>TV Show</td>\n      <td>The Adventures of Figaro Pho</td>\n      <td>Unavailable</td>\n      <td>Luke Jurevicius, Craig Behenna, Charlotte Haml...</td>\n      <td>Australia</td>\n      <td>NaN</td>\n      <td>2015</td>\n      <td>TV-Y7</td>\n      <td>2 Seasons</td>\n      <td>Kids' TV, TV Comedies</td>\n      <td>Imagine your worst fears, then multiply them: ...</td>\n    </tr>\n    <tr>\n      <th>8183</th>\n      <td>s8184</td>\n      <td>Movie</td>\n      <td>The Adventures of Sharkboy and Lavagirl</td>\n      <td>Robert Rodriguez</td>\n      <td>Taylor Lautner, Taylor Dooley, Cayden Boyd, Ge...</td>\n      <td>United States</td>\n      <td>December 2, 2020</td>\n      <td>2005</td>\n      <td>PG</td>\n      <td>93 min</td>\n      <td>Children &amp; Family Movies</td>\n      <td>A 10-year-old dreamer's imaginary friends – mi...</td>\n    </tr>\n  </tbody>\n</table>\n</div>"
     },
     "execution_count": 340,
     "metadata": {},
     "output_type": "execute_result"
    }
   ],
   "source": [
    "# Returning null values rows together with adjacent rows to decide on the filling date\n",
    "# Whether to ffill or bfill\n",
    "\n",
    "null_indexes = df[df['date_added'].isnull()].index\n",
    "\n",
    "rows_to_include = []\n",
    "\n",
    "for index in null_indexes:\n",
    "    if index > 0:\n",
    "        rows_to_include.append(index - 1)\n",
    "    rows_to_include.append(index)\n",
    "    if index < len(df) - 1:\n",
    "        rows_to_include.append(index + 1)\n",
    "\n",
    "# iloc is used for integer-based indexing, selects rows at those indexes\n",
    "null_date_added_rows_plus_adjacent_ones = df.iloc[rows_to_include]\n",
    "null_date_added_rows_plus_adjacent_ones "
   ],
   "metadata": {
    "collapsed": false,
    "ExecuteTime": {
     "end_time": "2024-02-10T15:37:26.136916906Z",
     "start_time": "2024-02-10T15:37:25.985370709Z"
    }
   },
   "id": "f198074c19a4ee4f",
   "execution_count": 340
  },
  {
   "cell_type": "code",
   "outputs": [
    {
     "data": {
      "text/plain": "Index([6066, 6174, 6795, 6806, 6901, 7196, 7254, 7406, 7847, 8182], dtype='int64')"
     },
     "execution_count": 341,
     "metadata": {},
     "output_type": "execute_result"
    }
   ],
   "source": [
    "# Getting the indexes of the null values\n",
    "date_added_null_values_indexes = df[df['date_added'].isnull()].index\n",
    "date_added_null_values_indexes"
   ],
   "metadata": {
    "collapsed": false,
    "ExecuteTime": {
     "end_time": "2024-02-10T15:37:26.155124650Z",
     "start_time": "2024-02-10T15:37:26.036558871Z"
    }
   },
   "id": "e38de80b05773984",
   "execution_count": 341
  },
  {
   "cell_type": "code",
   "outputs": [
    {
     "data": {
      "text/plain": "0    September 25, 2021\n1    September 24, 2021\n2    September 24, 2021\n3    September 24, 2021\n4    September 24, 2021\nName: date_added, dtype: object"
     },
     "execution_count": 342,
     "metadata": {},
     "output_type": "execute_result"
    }
   ],
   "source": [
    "# Check date format\n",
    "df['date_added'].head()"
   ],
   "metadata": {
    "collapsed": false,
    "ExecuteTime": {
     "end_time": "2024-02-10T15:37:26.325780428Z",
     "start_time": "2024-02-10T15:37:26.117483143Z"
    }
   },
   "id": "f5e6d9d7cc434b99",
   "execution_count": 342
  },
  {
   "cell_type": "code",
   "outputs": [
    {
     "data": {
      "text/plain": "str"
     },
     "execution_count": 343,
     "metadata": {},
     "output_type": "execute_result"
    }
   ],
   "source": [
    "# Check if it's type date\n",
    "type(df['date_added'][0])"
   ],
   "metadata": {
    "collapsed": false,
    "ExecuteTime": {
     "end_time": "2024-02-10T15:37:26.328725627Z",
     "start_time": "2024-02-10T15:37:26.178240039Z"
    }
   },
   "id": "6804f985a782c630",
   "execution_count": 343
  },
  {
   "cell_type": "code",
   "outputs": [],
   "source": [
    "# Since it's a string. Convert values in the column to datetime objects\n",
    "# df['date_added'] = pd.to_datetime(df['date_added'], format='%B %d, %Y', errors=\"coerce\")\n",
    "df['date_added'] = pd.to_datetime(df['date_added'], format='mixed', dayfirst=True)\n",
    "\n",
    "# Check if type has changed\n",
    "# type(df['date_added'][0])"
   ],
   "metadata": {
    "collapsed": false,
    "ExecuteTime": {
     "end_time": "2024-02-10T15:37:26.430617602Z",
     "start_time": "2024-02-10T15:37:26.273418139Z"
    }
   },
   "id": "90ef47ac9749ad55",
   "execution_count": 344
  },
  {
   "cell_type": "code",
   "outputs": [
    {
     "data": {
      "text/plain": "<DatetimeArray>\n['2021-09-25 00:00:00', '2021-09-24 00:00:00', '2021-09-23 00:00:00',\n '2021-09-22 00:00:00', '2021-09-21 00:00:00', '2021-09-20 00:00:00',\n '2021-09-19 00:00:00', '2021-09-17 00:00:00', '2021-09-16 00:00:00',\n '2021-09-15 00:00:00',\n ...\n '2018-09-27 00:00:00', '2017-03-23 00:00:00', '2016-12-25 00:00:00',\n '2016-11-30 00:00:00', '2017-10-23 00:00:00', '2017-11-04 00:00:00',\n '2015-08-05 00:00:00', '2018-12-06 00:00:00', '2016-03-09 00:00:00',\n '2020-01-11 00:00:00']\nLength: 1715, dtype: datetime64[ns]"
     },
     "execution_count": 345,
     "metadata": {},
     "output_type": "execute_result"
    }
   ],
   "source": [
    "df['date_added'].unique()"
   ],
   "metadata": {
    "collapsed": false,
    "ExecuteTime": {
     "end_time": "2024-02-10T15:37:26.439257688Z",
     "start_time": "2024-02-10T15:37:26.430823202Z"
    }
   },
   "id": "2dbddcb6f32a75bb",
   "execution_count": 345
  },
  {
   "cell_type": "code",
   "outputs": [
    {
     "data": {
      "text/plain": "Index([6066, 6174, 6795, 6806, 6901, 7196, 7254, 7406, 7847, 8182], dtype='int64')"
     },
     "execution_count": 346,
     "metadata": {},
     "output_type": "execute_result"
    }
   ],
   "source": [
    "# Confirming that only the original null values indexes still exist\n",
    "date_added_null_values_indexes = df[df['date_added'].isnull()].index\n",
    "date_added_null_values_indexes"
   ],
   "metadata": {
    "collapsed": false,
    "ExecuteTime": {
     "end_time": "2024-02-10T15:37:26.506119061Z",
     "start_time": "2024-02-10T15:37:26.435198515Z"
    }
   },
   "id": "45f1782d3e5a0758",
   "execution_count": 346
  },
  {
   "cell_type": "code",
   "outputs": [
    {
     "data": {
      "text/plain": "10"
     },
     "execution_count": 347,
     "metadata": {},
     "output_type": "execute_result"
    }
   ],
   "source": [
    "# Getting the count of null values\n",
    "null_vals_date_added_col = df['date_added'].isnull().sum()\n",
    "null_vals_date_added_col"
   ],
   "metadata": {
    "collapsed": false,
    "ExecuteTime": {
     "end_time": "2024-02-10T15:37:26.551863637Z",
     "start_time": "2024-02-10T15:37:26.502861683Z"
    }
   },
   "id": "55a95a60a17ff60f",
   "execution_count": 347
  },
  {
   "cell_type": "code",
   "outputs": [
    {
     "data": {
      "text/plain": "pandas._libs.tslibs.timestamps.Timestamp"
     },
     "execution_count": 348,
     "metadata": {},
     "output_type": "execute_result"
    }
   ],
   "source": [
    "# Checking the type of converted time column values\n",
    "type(df['date_added'][0])"
   ],
   "metadata": {
    "collapsed": false,
    "ExecuteTime": {
     "end_time": "2024-02-10T15:37:26.627077252Z",
     "start_time": "2024-02-10T15:37:26.553365662Z"
    }
   },
   "id": "e6b35ce5159fd104",
   "execution_count": 348
  },
  {
   "cell_type": "code",
   "outputs": [],
   "source": [
    "# Interpolate the null date values\n",
    "df['date_added'] = df['date_added'].interpolate(method='linear')"
   ],
   "metadata": {
    "collapsed": false,
    "ExecuteTime": {
     "end_time": "2024-02-10T15:37:26.696781124Z",
     "start_time": "2024-02-10T15:37:26.628462505Z"
    }
   },
   "id": "296424f8ed256a20",
   "execution_count": 349
  },
  {
   "cell_type": "code",
   "outputs": [
    {
     "data": {
      "text/plain": "0"
     },
     "execution_count": 350,
     "metadata": {},
     "output_type": "execute_result"
    }
   ],
   "source": [
    "# Getting the count of null values\n",
    "null_vals_date_added_col = df['date_added'].isnull().sum()\n",
    "null_vals_date_added_col "
   ],
   "metadata": {
    "collapsed": false,
    "ExecuteTime": {
     "end_time": "2024-02-10T15:37:26.760749041Z",
     "start_time": "2024-02-10T15:37:26.695357170Z"
    }
   },
   "id": "b6e2c17dfc5a2d9c",
   "execution_count": 350
  },
  {
   "cell_type": "code",
   "outputs": [
    {
     "data": {
      "text/plain": "     show_id     type                                         title  \\\n6065   s6066    Movie                             A Wrinkle in Time   \n6066   s6067  TV Show   A Young Doctor's Notebook and Other Stories   \n6067   s6068  TV Show                       A.D. Kingdom and Empire   \n6173   s6174    Movie                        Antariksha Ke Rakhwale   \n6174   s6175  TV Show               Anthony Bourdain: Parts Unknown   \n6175   s6176    Movie                                      Antidote   \n6794   s6795    Movie                                    Frances Ha   \n6795   s6796  TV Show                                       Frasier   \n6796   s6797    Movie                                    Freak Show   \n6805   s6806    Movie                                Friend Request   \n6806   s6807  TV Show                                       Friends   \n6807   s6808    Movie                           From Japan to Egypt   \n6900   s6901    Movie                                   Gun Runners   \n6901   s6902  TV Show                               Gunslinger Girl   \n6902   s6903    Movie  Guy Martin: Last Flight of the Vulcan Bomber   \n7195   s7196    Movie                       Kidnapping Mr. Heineken   \n7196   s7197  TV Show                                      Kikoriki   \n7197   s7198    Movie                             Kill Bill: Vol. 1   \n7253   s7254    Movie                        La Coppia dei Campioni   \n7254   s7255  TV Show                           La Familia P. Luche   \n7255   s7256  TV Show                                      La Femme   \n7405   s7406    Movie              Mark Gatiss: A Study in Sherlock   \n7406   s7407  TV Show                                         Maron   \n7407   s7408    Movie                                        Maroon   \n7846   s7847    Movie                                     Red Trees   \n7847   s7848  TV Show                                  Red vs. Blue   \n7848   s7849    Movie                                       Refugee   \n8181   s8182    Movie                            The Adventure Club   \n8182   s8183  TV Show                  The Adventures of Figaro Pho   \n8183   s8184    Movie       The Adventures of Sharkboy and Lavagirl   \n\n                             director  \\\n6065                     Ava DuVernay   \n6066                      Unavailable   \n6067                      Unavailable   \n6173                 Anirban Majumder   \n6174                      Unavailable   \n6175                       Ken Barbet   \n6794                    Noah Baumbach   \n6795                      Unavailable   \n6796                    Trudie Styler   \n6805                  Simon Verhoeven   \n6806                      Unavailable   \n6807                    Mahmoud Karim   \n6900                     Anjali Nayar   \n6901                      Unavailable   \n6902                  James Woodroffe   \n7195                 Daniel Alfredson   \n7196                      Unavailable   \n7197                Quentin Tarantino   \n7253                      Giulio Base   \n7254                      Unavailable   \n7255                      Unavailable   \n7405                    Nathan Landeg   \n7406                      Unavailable   \n7407                           Pulkit   \n7846                    Marina Willer   \n7847                      Unavailable   \n7848  Clementine Malpas, Leslie Knott   \n8181                   Geoff Anderson   \n8182                      Unavailable   \n8183                 Robert Rodriguez   \n\n                                                   cast  \\\n6065  Storm Reid, Oprah Winfrey, Reese Witherspoon, ...   \n6066  Daniel Radcliffe, Jon Hamm, Adam Godley, Chris...   \n6067  Juan Pablo Di Pace, Adam Levy, Chipo Chung, Ba...   \n6173  Sonal Kaushal, Rupa Bhimani, Julie Tejwani, Sa...   \n6174                                   Anthony Bourdain   \n6175  Randy Couture, Chuck Zito, Wil Traval, Celeste...   \n6794  Greta Gerwig, Mickey Sumner, Charlotte d'Amboi...   \n6795  Kelsey Grammer, Jane Leeves, David Hyde Pierce...   \n6796  Alex Lawther, Abigail Breslin, AnnaSophia Robb...   \n6805  Alycia Debnam-Carey, William Moseley, Connor P...   \n6806  Jennifer Aniston, Courteney Cox, Lisa Kudrow, ...   \n6807  Ahmed Eid, Saki Tsukamoto, Nada Moussa, Mohamm...   \n6900                                        Unavailable   \n6901  Yuuka Nanri, Kanako Mitsuhashi, Eri Sendai, Am...   \n6902              Guy Martin, Kevin Stone, Shaun Dooley   \n7195  Jim Sturgess, Sam Worthington, Ryan Kwanten, A...   \n7196                                      Igor Dmitriev   \n7197  Uma Thurman, Lucy Liu, Vivica A. Fox, Daryl Ha...   \n7253  Massimo Boldi, Massimiliano Tortora, Anna Mari...   \n7254  Eugenio Derbez, Consuelo Duval, Luis Manuel Áv...   \n7255  Zoe Tay, Ann Kok, Tiffany Leong, Tay Ping Hui,...   \n7405  Benedict Cumberbatch, Martin Freeman, Una Stub...   \n7406  Marc Maron, Judd Hirsch, Josh Brener, Nora Zeh...   \n7407  Manav Kaul, Devyani Cm, Saurabh Sachdeva, Sari...   \n7846                                  Tim Piggott-Smith   \n7847  Burnie Burns, Jason Saldaña, Gustavo Sorola, G...   \n7848  Cate Blanchett, Lynsey Addario, Omar Victor Di...   \n8181  Sam Ashe Arnold, Jakob Davies, Dalila Bela, Ro...   \n8182  Luke Jurevicius, Craig Behenna, Charlotte Haml...   \n8183  Taylor Lautner, Taylor Dooley, Cayden Boyd, Ge...   \n\n                                                country          date_added  \\\n6065                                      United States 2018-09-25 00:00:00   \n6066                                     United Kingdom 2018-05-06 00:00:00   \n6067                                      United States 2017-12-15 00:00:00   \n6173                                        Unavailable 2019-06-18 00:00:00   \n6174                                      United States 2019-05-16 12:00:00   \n6175                                      United States 2019-04-14 00:00:00   \n6794                              United States, Brazil 2017-10-01 00:00:00   \n6795                                      United States 2019-03-08 12:00:00   \n6796                                      United States 2020-08-13 00:00:00   \n6805                                            Germany 2018-04-18 00:00:00   \n6806                                      United States 2018-11-11 00:00:00   \n6807                                              Egypt 2019-06-06 00:00:00   \n6900                                             Canada 2017-02-01 00:00:00   \n6901                                              Japan 2018-04-29 12:00:00   \n6902                                     United Kingdom 2019-07-26 00:00:00   \n7195  Netherlands, Belgium, United Kingdom, United S... 2017-09-08 00:00:00   \n7196                                        Unavailable 2018-11-04 12:00:00   \n7197                               United States, Japan 2020-01-01 00:00:00   \n7253                                              Italy 2017-02-15 00:00:00   \n7254                                      United States 2017-06-16 12:00:00   \n7255                                        Unavailable 2017-10-16 00:00:00   \n7405                                        Unavailable 2016-05-01 00:00:00   \n7406                                      United States 2016-09-16 00:00:00   \n7407                                              India 2017-02-01 00:00:00   \n7846                                     United Kingdom 2018-03-24 00:00:00   \n7847                                      United States 2017-09-15 12:00:00   \n7848                                        Unavailable 2017-03-10 00:00:00   \n8181                                             Canada 2017-05-10 00:00:00   \n8182                                          Australia 2019-02-20 00:00:00   \n8183                                      United States 2020-12-02 00:00:00   \n\n      release_year rating    duration  \\\n6065          2018     PG     110 min   \n6066          2013  TV-MA   2 Seasons   \n6067          2015  TV-14    1 Season   \n6173          2018  TV-Y7      65 min   \n6174          2018  TV-PG   5 Seasons   \n6175          2018  TV-MA      90 min   \n6794          2012      R      86 min   \n6795          2003  TV-PG  11 Seasons   \n6796          2018  TV-MA      91 min   \n6805          2016      R      92 min   \n6806          2003  TV-14  10 Seasons   \n6807          2017  TV-14      93 min   \n6900          2015  TV-PG      90 min   \n6901          2008  TV-14   2 Seasons   \n6902          2015   TV-G      57 min   \n7195          2015      R      95 min   \n7196          2010   TV-Y   2 Seasons   \n7197          2003      R     111 min   \n7253          2016  TV-MA      88 min   \n7254          2012  TV-14   3 Seasons   \n7255          2016  TV-14    1 Season   \n7405          2016  TV-14      29 min   \n7406          2016  TV-MA   4 Seasons   \n7407          2016  TV-MA      94 min   \n7846          2017  TV-PG      80 min   \n7847          2015     NR  13 Seasons   \n7848          2016  TV-PG      24 min   \n8181          2016  TV-Y7      88 min   \n8182          2015  TV-Y7   2 Seasons   \n8183          2005     PG      93 min   \n\n                                              listed_in  \\\n6065                           Children & Family Movies   \n6066           British TV Shows, TV Comedies, TV Dramas   \n6067                                          TV Dramas   \n6173                           Children & Family Movies   \n6174                                         Docuseries   \n6175                  Action & Adventure, Horror Movies   \n6794               Comedies, Dramas, Independent Movies   \n6795                     Classic & Cult TV, TV Comedies   \n6796               Comedies, Dramas, Independent Movies   \n6805                Horror Movies, International Movies   \n6806                     Classic & Cult TV, TV Comedies   \n6807         Children & Family Movies, Comedies, Dramas   \n6900  Documentaries, International Movies, Sports Mo...   \n6901                       Anime Series, Crime TV Shows   \n6902                Documentaries, International Movies   \n7195   Action & Adventure, Dramas, International Movies   \n7196                                           Kids' TV   \n7197                                 Action & Adventure   \n7253                     Comedies, International Movies   \n7254  International TV Shows, Spanish-Language TV Sh...   \n7255                  International TV Shows, TV Dramas   \n7405                                             Movies   \n7406                                        TV Comedies   \n7407   Dramas, Independent Movies, International Movies   \n7846                Documentaries, International Movies   \n7847  TV Action & Adventure, TV Comedies, TV Sci-Fi ...   \n7848                                      Documentaries   \n8181                           Children & Family Movies   \n8182                              Kids' TV, TV Comedies   \n8183                           Children & Family Movies   \n\n                                            description  \n6065  Years after their father disappears, Meg and h...  \n6066  Set during the Russian Revolution, this comic ...  \n6067  In the wake of Jesus Christ's crucifixion, his...  \n6173  Space villains have abducted all the superhero...  \n6174  This CNN original series has chef Anthony Bour...  \n6175  A tough-as-nails treasure hunter protects a hu...  \n6794  Determined to make it as a modern dancer in Ne...  \n6795  Frasier Crane is a snooty but lovable Seattle ...  \n6796  Forced to attend a new high school, a glamorou...  \n6805  A popular college student's love of social med...  \n6806  This hit sitcom follows the merry misadventure...  \n6807  After his wife relocates to her home country o...  \n6900  Two roaming Kenyan bandits attempt to change t...  \n6901  On the surface, the Social Welfare Agency appe...  \n6902  Guy Martin assists in preparing the last airwo...  \n7195  When beer magnate Alfred \"Freddy\" Heineken is ...  \n7196  A wacky rabbit and his gang of animal pals hav...  \n7197  An assassin is shot by her ruthless employer, ...  \n7253  After winning a shared trip to a soccer match,...  \n7254  This irreverent sitcom featues Ludovico, Feder...  \n7255  Personal desires guide the lives of a marriage...  \n7405  Mark Gatiss, who co-created “Sherlock” and pla...  \n7406  Marc Maron stars as Marc Maron, who interviews...  \n7407  When his wife goes missing, university profess...  \n7846  A documentarian details her Jewish family's es...  \n7847  This parody of first-person shooter games, mil...  \n7848  Five acclaimed photographers travel the world ...  \n8181  After finding a peculiar key, three smart and ...  \n8182  Imagine your worst fears, then multiply them: ...  \n8183  A 10-year-old dreamer's imaginary friends – mi...  ",
      "text/html": "<div>\n<style scoped>\n    .dataframe tbody tr th:only-of-type {\n        vertical-align: middle;\n    }\n\n    .dataframe tbody tr th {\n        vertical-align: top;\n    }\n\n    .dataframe thead th {\n        text-align: right;\n    }\n</style>\n<table border=\"1\" class=\"dataframe\">\n  <thead>\n    <tr style=\"text-align: right;\">\n      <th></th>\n      <th>show_id</th>\n      <th>type</th>\n      <th>title</th>\n      <th>director</th>\n      <th>cast</th>\n      <th>country</th>\n      <th>date_added</th>\n      <th>release_year</th>\n      <th>rating</th>\n      <th>duration</th>\n      <th>listed_in</th>\n      <th>description</th>\n    </tr>\n  </thead>\n  <tbody>\n    <tr>\n      <th>6065</th>\n      <td>s6066</td>\n      <td>Movie</td>\n      <td>A Wrinkle in Time</td>\n      <td>Ava DuVernay</td>\n      <td>Storm Reid, Oprah Winfrey, Reese Witherspoon, ...</td>\n      <td>United States</td>\n      <td>2018-09-25 00:00:00</td>\n      <td>2018</td>\n      <td>PG</td>\n      <td>110 min</td>\n      <td>Children &amp; Family Movies</td>\n      <td>Years after their father disappears, Meg and h...</td>\n    </tr>\n    <tr>\n      <th>6066</th>\n      <td>s6067</td>\n      <td>TV Show</td>\n      <td>A Young Doctor's Notebook and Other Stories</td>\n      <td>Unavailable</td>\n      <td>Daniel Radcliffe, Jon Hamm, Adam Godley, Chris...</td>\n      <td>United Kingdom</td>\n      <td>2018-05-06 00:00:00</td>\n      <td>2013</td>\n      <td>TV-MA</td>\n      <td>2 Seasons</td>\n      <td>British TV Shows, TV Comedies, TV Dramas</td>\n      <td>Set during the Russian Revolution, this comic ...</td>\n    </tr>\n    <tr>\n      <th>6067</th>\n      <td>s6068</td>\n      <td>TV Show</td>\n      <td>A.D. Kingdom and Empire</td>\n      <td>Unavailable</td>\n      <td>Juan Pablo Di Pace, Adam Levy, Chipo Chung, Ba...</td>\n      <td>United States</td>\n      <td>2017-12-15 00:00:00</td>\n      <td>2015</td>\n      <td>TV-14</td>\n      <td>1 Season</td>\n      <td>TV Dramas</td>\n      <td>In the wake of Jesus Christ's crucifixion, his...</td>\n    </tr>\n    <tr>\n      <th>6173</th>\n      <td>s6174</td>\n      <td>Movie</td>\n      <td>Antariksha Ke Rakhwale</td>\n      <td>Anirban Majumder</td>\n      <td>Sonal Kaushal, Rupa Bhimani, Julie Tejwani, Sa...</td>\n      <td>Unavailable</td>\n      <td>2019-06-18 00:00:00</td>\n      <td>2018</td>\n      <td>TV-Y7</td>\n      <td>65 min</td>\n      <td>Children &amp; Family Movies</td>\n      <td>Space villains have abducted all the superhero...</td>\n    </tr>\n    <tr>\n      <th>6174</th>\n      <td>s6175</td>\n      <td>TV Show</td>\n      <td>Anthony Bourdain: Parts Unknown</td>\n      <td>Unavailable</td>\n      <td>Anthony Bourdain</td>\n      <td>United States</td>\n      <td>2019-05-16 12:00:00</td>\n      <td>2018</td>\n      <td>TV-PG</td>\n      <td>5 Seasons</td>\n      <td>Docuseries</td>\n      <td>This CNN original series has chef Anthony Bour...</td>\n    </tr>\n    <tr>\n      <th>6175</th>\n      <td>s6176</td>\n      <td>Movie</td>\n      <td>Antidote</td>\n      <td>Ken Barbet</td>\n      <td>Randy Couture, Chuck Zito, Wil Traval, Celeste...</td>\n      <td>United States</td>\n      <td>2019-04-14 00:00:00</td>\n      <td>2018</td>\n      <td>TV-MA</td>\n      <td>90 min</td>\n      <td>Action &amp; Adventure, Horror Movies</td>\n      <td>A tough-as-nails treasure hunter protects a hu...</td>\n    </tr>\n    <tr>\n      <th>6794</th>\n      <td>s6795</td>\n      <td>Movie</td>\n      <td>Frances Ha</td>\n      <td>Noah Baumbach</td>\n      <td>Greta Gerwig, Mickey Sumner, Charlotte d'Amboi...</td>\n      <td>United States, Brazil</td>\n      <td>2017-10-01 00:00:00</td>\n      <td>2012</td>\n      <td>R</td>\n      <td>86 min</td>\n      <td>Comedies, Dramas, Independent Movies</td>\n      <td>Determined to make it as a modern dancer in Ne...</td>\n    </tr>\n    <tr>\n      <th>6795</th>\n      <td>s6796</td>\n      <td>TV Show</td>\n      <td>Frasier</td>\n      <td>Unavailable</td>\n      <td>Kelsey Grammer, Jane Leeves, David Hyde Pierce...</td>\n      <td>United States</td>\n      <td>2019-03-08 12:00:00</td>\n      <td>2003</td>\n      <td>TV-PG</td>\n      <td>11 Seasons</td>\n      <td>Classic &amp; Cult TV, TV Comedies</td>\n      <td>Frasier Crane is a snooty but lovable Seattle ...</td>\n    </tr>\n    <tr>\n      <th>6796</th>\n      <td>s6797</td>\n      <td>Movie</td>\n      <td>Freak Show</td>\n      <td>Trudie Styler</td>\n      <td>Alex Lawther, Abigail Breslin, AnnaSophia Robb...</td>\n      <td>United States</td>\n      <td>2020-08-13 00:00:00</td>\n      <td>2018</td>\n      <td>TV-MA</td>\n      <td>91 min</td>\n      <td>Comedies, Dramas, Independent Movies</td>\n      <td>Forced to attend a new high school, a glamorou...</td>\n    </tr>\n    <tr>\n      <th>6805</th>\n      <td>s6806</td>\n      <td>Movie</td>\n      <td>Friend Request</td>\n      <td>Simon Verhoeven</td>\n      <td>Alycia Debnam-Carey, William Moseley, Connor P...</td>\n      <td>Germany</td>\n      <td>2018-04-18 00:00:00</td>\n      <td>2016</td>\n      <td>R</td>\n      <td>92 min</td>\n      <td>Horror Movies, International Movies</td>\n      <td>A popular college student's love of social med...</td>\n    </tr>\n    <tr>\n      <th>6806</th>\n      <td>s6807</td>\n      <td>TV Show</td>\n      <td>Friends</td>\n      <td>Unavailable</td>\n      <td>Jennifer Aniston, Courteney Cox, Lisa Kudrow, ...</td>\n      <td>United States</td>\n      <td>2018-11-11 00:00:00</td>\n      <td>2003</td>\n      <td>TV-14</td>\n      <td>10 Seasons</td>\n      <td>Classic &amp; Cult TV, TV Comedies</td>\n      <td>This hit sitcom follows the merry misadventure...</td>\n    </tr>\n    <tr>\n      <th>6807</th>\n      <td>s6808</td>\n      <td>Movie</td>\n      <td>From Japan to Egypt</td>\n      <td>Mahmoud Karim</td>\n      <td>Ahmed Eid, Saki Tsukamoto, Nada Moussa, Mohamm...</td>\n      <td>Egypt</td>\n      <td>2019-06-06 00:00:00</td>\n      <td>2017</td>\n      <td>TV-14</td>\n      <td>93 min</td>\n      <td>Children &amp; Family Movies, Comedies, Dramas</td>\n      <td>After his wife relocates to her home country o...</td>\n    </tr>\n    <tr>\n      <th>6900</th>\n      <td>s6901</td>\n      <td>Movie</td>\n      <td>Gun Runners</td>\n      <td>Anjali Nayar</td>\n      <td>Unavailable</td>\n      <td>Canada</td>\n      <td>2017-02-01 00:00:00</td>\n      <td>2015</td>\n      <td>TV-PG</td>\n      <td>90 min</td>\n      <td>Documentaries, International Movies, Sports Mo...</td>\n      <td>Two roaming Kenyan bandits attempt to change t...</td>\n    </tr>\n    <tr>\n      <th>6901</th>\n      <td>s6902</td>\n      <td>TV Show</td>\n      <td>Gunslinger Girl</td>\n      <td>Unavailable</td>\n      <td>Yuuka Nanri, Kanako Mitsuhashi, Eri Sendai, Am...</td>\n      <td>Japan</td>\n      <td>2018-04-29 12:00:00</td>\n      <td>2008</td>\n      <td>TV-14</td>\n      <td>2 Seasons</td>\n      <td>Anime Series, Crime TV Shows</td>\n      <td>On the surface, the Social Welfare Agency appe...</td>\n    </tr>\n    <tr>\n      <th>6902</th>\n      <td>s6903</td>\n      <td>Movie</td>\n      <td>Guy Martin: Last Flight of the Vulcan Bomber</td>\n      <td>James Woodroffe</td>\n      <td>Guy Martin, Kevin Stone, Shaun Dooley</td>\n      <td>United Kingdom</td>\n      <td>2019-07-26 00:00:00</td>\n      <td>2015</td>\n      <td>TV-G</td>\n      <td>57 min</td>\n      <td>Documentaries, International Movies</td>\n      <td>Guy Martin assists in preparing the last airwo...</td>\n    </tr>\n    <tr>\n      <th>7195</th>\n      <td>s7196</td>\n      <td>Movie</td>\n      <td>Kidnapping Mr. Heineken</td>\n      <td>Daniel Alfredson</td>\n      <td>Jim Sturgess, Sam Worthington, Ryan Kwanten, A...</td>\n      <td>Netherlands, Belgium, United Kingdom, United S...</td>\n      <td>2017-09-08 00:00:00</td>\n      <td>2015</td>\n      <td>R</td>\n      <td>95 min</td>\n      <td>Action &amp; Adventure, Dramas, International Movies</td>\n      <td>When beer magnate Alfred \"Freddy\" Heineken is ...</td>\n    </tr>\n    <tr>\n      <th>7196</th>\n      <td>s7197</td>\n      <td>TV Show</td>\n      <td>Kikoriki</td>\n      <td>Unavailable</td>\n      <td>Igor Dmitriev</td>\n      <td>Unavailable</td>\n      <td>2018-11-04 12:00:00</td>\n      <td>2010</td>\n      <td>TV-Y</td>\n      <td>2 Seasons</td>\n      <td>Kids' TV</td>\n      <td>A wacky rabbit and his gang of animal pals hav...</td>\n    </tr>\n    <tr>\n      <th>7197</th>\n      <td>s7198</td>\n      <td>Movie</td>\n      <td>Kill Bill: Vol. 1</td>\n      <td>Quentin Tarantino</td>\n      <td>Uma Thurman, Lucy Liu, Vivica A. Fox, Daryl Ha...</td>\n      <td>United States, Japan</td>\n      <td>2020-01-01 00:00:00</td>\n      <td>2003</td>\n      <td>R</td>\n      <td>111 min</td>\n      <td>Action &amp; Adventure</td>\n      <td>An assassin is shot by her ruthless employer, ...</td>\n    </tr>\n    <tr>\n      <th>7253</th>\n      <td>s7254</td>\n      <td>Movie</td>\n      <td>La Coppia dei Campioni</td>\n      <td>Giulio Base</td>\n      <td>Massimo Boldi, Massimiliano Tortora, Anna Mari...</td>\n      <td>Italy</td>\n      <td>2017-02-15 00:00:00</td>\n      <td>2016</td>\n      <td>TV-MA</td>\n      <td>88 min</td>\n      <td>Comedies, International Movies</td>\n      <td>After winning a shared trip to a soccer match,...</td>\n    </tr>\n    <tr>\n      <th>7254</th>\n      <td>s7255</td>\n      <td>TV Show</td>\n      <td>La Familia P. Luche</td>\n      <td>Unavailable</td>\n      <td>Eugenio Derbez, Consuelo Duval, Luis Manuel Áv...</td>\n      <td>United States</td>\n      <td>2017-06-16 12:00:00</td>\n      <td>2012</td>\n      <td>TV-14</td>\n      <td>3 Seasons</td>\n      <td>International TV Shows, Spanish-Language TV Sh...</td>\n      <td>This irreverent sitcom featues Ludovico, Feder...</td>\n    </tr>\n    <tr>\n      <th>7255</th>\n      <td>s7256</td>\n      <td>TV Show</td>\n      <td>La Femme</td>\n      <td>Unavailable</td>\n      <td>Zoe Tay, Ann Kok, Tiffany Leong, Tay Ping Hui,...</td>\n      <td>Unavailable</td>\n      <td>2017-10-16 00:00:00</td>\n      <td>2016</td>\n      <td>TV-14</td>\n      <td>1 Season</td>\n      <td>International TV Shows, TV Dramas</td>\n      <td>Personal desires guide the lives of a marriage...</td>\n    </tr>\n    <tr>\n      <th>7405</th>\n      <td>s7406</td>\n      <td>Movie</td>\n      <td>Mark Gatiss: A Study in Sherlock</td>\n      <td>Nathan Landeg</td>\n      <td>Benedict Cumberbatch, Martin Freeman, Una Stub...</td>\n      <td>Unavailable</td>\n      <td>2016-05-01 00:00:00</td>\n      <td>2016</td>\n      <td>TV-14</td>\n      <td>29 min</td>\n      <td>Movies</td>\n      <td>Mark Gatiss, who co-created “Sherlock” and pla...</td>\n    </tr>\n    <tr>\n      <th>7406</th>\n      <td>s7407</td>\n      <td>TV Show</td>\n      <td>Maron</td>\n      <td>Unavailable</td>\n      <td>Marc Maron, Judd Hirsch, Josh Brener, Nora Zeh...</td>\n      <td>United States</td>\n      <td>2016-09-16 00:00:00</td>\n      <td>2016</td>\n      <td>TV-MA</td>\n      <td>4 Seasons</td>\n      <td>TV Comedies</td>\n      <td>Marc Maron stars as Marc Maron, who interviews...</td>\n    </tr>\n    <tr>\n      <th>7407</th>\n      <td>s7408</td>\n      <td>Movie</td>\n      <td>Maroon</td>\n      <td>Pulkit</td>\n      <td>Manav Kaul, Devyani Cm, Saurabh Sachdeva, Sari...</td>\n      <td>India</td>\n      <td>2017-02-01 00:00:00</td>\n      <td>2016</td>\n      <td>TV-MA</td>\n      <td>94 min</td>\n      <td>Dramas, Independent Movies, International Movies</td>\n      <td>When his wife goes missing, university profess...</td>\n    </tr>\n    <tr>\n      <th>7846</th>\n      <td>s7847</td>\n      <td>Movie</td>\n      <td>Red Trees</td>\n      <td>Marina Willer</td>\n      <td>Tim Piggott-Smith</td>\n      <td>United Kingdom</td>\n      <td>2018-03-24 00:00:00</td>\n      <td>2017</td>\n      <td>TV-PG</td>\n      <td>80 min</td>\n      <td>Documentaries, International Movies</td>\n      <td>A documentarian details her Jewish family's es...</td>\n    </tr>\n    <tr>\n      <th>7847</th>\n      <td>s7848</td>\n      <td>TV Show</td>\n      <td>Red vs. Blue</td>\n      <td>Unavailable</td>\n      <td>Burnie Burns, Jason Saldaña, Gustavo Sorola, G...</td>\n      <td>United States</td>\n      <td>2017-09-15 12:00:00</td>\n      <td>2015</td>\n      <td>NR</td>\n      <td>13 Seasons</td>\n      <td>TV Action &amp; Adventure, TV Comedies, TV Sci-Fi ...</td>\n      <td>This parody of first-person shooter games, mil...</td>\n    </tr>\n    <tr>\n      <th>7848</th>\n      <td>s7849</td>\n      <td>Movie</td>\n      <td>Refugee</td>\n      <td>Clementine Malpas, Leslie Knott</td>\n      <td>Cate Blanchett, Lynsey Addario, Omar Victor Di...</td>\n      <td>Unavailable</td>\n      <td>2017-03-10 00:00:00</td>\n      <td>2016</td>\n      <td>TV-PG</td>\n      <td>24 min</td>\n      <td>Documentaries</td>\n      <td>Five acclaimed photographers travel the world ...</td>\n    </tr>\n    <tr>\n      <th>8181</th>\n      <td>s8182</td>\n      <td>Movie</td>\n      <td>The Adventure Club</td>\n      <td>Geoff Anderson</td>\n      <td>Sam Ashe Arnold, Jakob Davies, Dalila Bela, Ro...</td>\n      <td>Canada</td>\n      <td>2017-05-10 00:00:00</td>\n      <td>2016</td>\n      <td>TV-Y7</td>\n      <td>88 min</td>\n      <td>Children &amp; Family Movies</td>\n      <td>After finding a peculiar key, three smart and ...</td>\n    </tr>\n    <tr>\n      <th>8182</th>\n      <td>s8183</td>\n      <td>TV Show</td>\n      <td>The Adventures of Figaro Pho</td>\n      <td>Unavailable</td>\n      <td>Luke Jurevicius, Craig Behenna, Charlotte Haml...</td>\n      <td>Australia</td>\n      <td>2019-02-20 00:00:00</td>\n      <td>2015</td>\n      <td>TV-Y7</td>\n      <td>2 Seasons</td>\n      <td>Kids' TV, TV Comedies</td>\n      <td>Imagine your worst fears, then multiply them: ...</td>\n    </tr>\n    <tr>\n      <th>8183</th>\n      <td>s8184</td>\n      <td>Movie</td>\n      <td>The Adventures of Sharkboy and Lavagirl</td>\n      <td>Robert Rodriguez</td>\n      <td>Taylor Lautner, Taylor Dooley, Cayden Boyd, Ge...</td>\n      <td>United States</td>\n      <td>2020-12-02 00:00:00</td>\n      <td>2005</td>\n      <td>PG</td>\n      <td>93 min</td>\n      <td>Children &amp; Family Movies</td>\n      <td>A 10-year-old dreamer's imaginary friends – mi...</td>\n    </tr>\n  </tbody>\n</table>\n</div>"
     },
     "execution_count": 351,
     "metadata": {},
     "output_type": "execute_result"
    }
   ],
   "source": [
    "# iloc is used for integer-based indexing, selects rows at those indexes\n",
    "null_date_added_rows_plus_adjacent_ones = df.iloc[rows_to_include]\n",
    "null_date_added_rows_plus_adjacent_ones "
   ],
   "metadata": {
    "collapsed": false,
    "ExecuteTime": {
     "end_time": "2024-02-10T15:37:26.827702081Z",
     "start_time": "2024-02-10T15:37:26.756388507Z"
    }
   },
   "id": "5eaa479ad1fb4b9d",
   "execution_count": 351
  },
  {
   "cell_type": "code",
   "outputs": [
    {
     "data": {
      "text/plain": "datetime.date"
     },
     "execution_count": 352,
     "metadata": {},
     "output_type": "execute_result"
    }
   ],
   "source": [
    "# Converting date_added col from Timestamp (date & time) to date only\n",
    "# after interpolating the null values\n",
    "df['date_added'] = df['date_added'].dt.date\n",
    "\n",
    "# Now checking the type of the converted column\n",
    "type(df['date_added'][0])"
   ],
   "metadata": {
    "collapsed": false,
    "ExecuteTime": {
     "end_time": "2024-02-10T15:37:26.996336231Z",
     "start_time": "2024-02-10T15:37:26.827247232Z"
    }
   },
   "id": "70f366dcf27152d5",
   "execution_count": 352
  },
  {
   "cell_type": "code",
   "outputs": [
    {
     "data": {
      "text/plain": "0    2021-09-25\n1    2021-09-24\n2    2021-09-24\n3    2021-09-24\n4    2021-09-24\nName: date_added, dtype: object"
     },
     "execution_count": 353,
     "metadata": {},
     "output_type": "execute_result"
    }
   ],
   "source": [
    "# Viewing the converted types\n",
    "df['date_added'].head()"
   ],
   "metadata": {
    "collapsed": false,
    "ExecuteTime": {
     "end_time": "2024-02-10T15:37:27.022893494Z",
     "start_time": "2024-02-10T15:37:26.950950620Z"
    }
   },
   "id": "2439b4159815f6a2",
   "execution_count": 353
  },
  {
   "cell_type": "code",
   "outputs": [
    {
     "name": "stdout",
     "output_type": "stream",
     "text": [
      "<class 'pandas.core.frame.DataFrame'>\n",
      "RangeIndex: 8807 entries, 0 to 8806\n",
      "Data columns (total 12 columns):\n",
      " #   Column        Non-Null Count  Dtype \n",
      "---  ------        --------------  ----- \n",
      " 0   show_id       8807 non-null   object\n",
      " 1   type          8807 non-null   object\n",
      " 2   title         8807 non-null   object\n",
      " 3   director      8807 non-null   object\n",
      " 4   cast          8807 non-null   object\n",
      " 5   country       8807 non-null   object\n",
      " 6   date_added    8807 non-null   object\n",
      " 7   release_year  8807 non-null   int64 \n",
      " 8   rating        8803 non-null   object\n",
      " 9   duration      8804 non-null   object\n",
      " 10  listed_in     8807 non-null   object\n",
      " 11  description   8807 non-null   object\n",
      "dtypes: int64(1), object(11)\n",
      "memory usage: 825.8+ KB\n"
     ]
    }
   ],
   "source": [
    "df.info()"
   ],
   "metadata": {
    "collapsed": false,
    "ExecuteTime": {
     "end_time": "2024-02-10T15:51:33.954963274Z",
     "start_time": "2024-02-10T15:51:33.901717675Z"
    }
   },
   "id": "509b8c7191a9ed77",
   "execution_count": 355
  },
  {
   "cell_type": "code",
   "outputs": [],
   "source": [],
   "metadata": {
    "collapsed": false
   },
   "id": "ef39320d044b3c3d"
  }
 ],
 "metadata": {
  "kernelspec": {
   "display_name": "Python 3",
   "language": "python",
   "name": "python3"
  },
  "language_info": {
   "codemirror_mode": {
    "name": "ipython",
    "version": 2
   },
   "file_extension": ".py",
   "mimetype": "text/x-python",
   "name": "python",
   "nbconvert_exporter": "python",
   "pygments_lexer": "ipython2",
   "version": "2.7.6"
  }
 },
 "nbformat": 4,
 "nbformat_minor": 5
}

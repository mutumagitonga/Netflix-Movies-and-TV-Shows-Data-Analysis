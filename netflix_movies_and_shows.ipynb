{
 "cells": [
  {
   "cell_type": "code",
   "execution_count": 985,
   "id": "initial_id",
   "metadata": {
    "collapsed": true,
    "ExecuteTime": {
     "end_time": "2024-02-14T15:47:48.117554808Z",
     "start_time": "2024-02-14T15:47:47.784208698Z"
    }
   },
   "outputs": [],
   "source": [
    "# Importing libraries\n",
    "import pandas as pd\n",
    "import numpy as np\n",
    "import matplotlib.pyplot as plt\n",
    "import seaborn as sns\n",
    "\n",
    "import dask\n",
    "dask.config.set({'dataframe.query-planning': True})\n",
    "import dask.dataframe as dd\n",
    "import pprint"
   ]
  },
  {
   "cell_type": "markdown",
   "source": [
    "# Get an overview of the data"
   ],
   "metadata": {
    "collapsed": false
   },
   "id": "cfb1c10efb35df5f"
  },
  {
   "cell_type": "code",
   "outputs": [
    {
     "data": {
      "text/plain": "  show_id     type                  title         director  \\\n0      s1    Movie   Dick Johnson Is Dead  Kirsten Johnson   \n1      s2  TV Show          Blood & Water              NaN   \n2      s3  TV Show              Ganglands  Julien Leclercq   \n3      s4  TV Show  Jailbirds New Orleans              NaN   \n4      s5  TV Show           Kota Factory              NaN   \n\n                                                cast        country  \\\n0                                                NaN  United States   \n1  Ama Qamata, Khosi Ngema, Gail Mabalane, Thaban...   South Africa   \n2  Sami Bouajila, Tracy Gotoas, Samuel Jouy, Nabi...            NaN   \n3                                                NaN            NaN   \n4  Mayur More, Jitendra Kumar, Ranjan Raj, Alam K...          India   \n\n           date_added  release_year rating   duration  \\\n0  September 25, 2021          2020  PG-13     90 min   \n1  September 24, 2021          2021  TV-MA  2 Seasons   \n2  September 24, 2021          2021  TV-MA   1 Season   \n3  September 24, 2021          2021  TV-MA   1 Season   \n4  September 24, 2021          2021  TV-MA  2 Seasons   \n\n                                           listed_in  \\\n0                                      Documentaries   \n1    International TV Shows, TV Dramas, TV Mysteries   \n2  Crime TV Shows, International TV Shows, TV Act...   \n3                             Docuseries, Reality TV   \n4  International TV Shows, Romantic TV Shows, TV ...   \n\n                                         description  \n0  As her father nears the end of his life, filmm...  \n1  After crossing paths at a party, a Cape Town t...  \n2  To protect his family from a powerful drug lor...  \n3  Feuds, flirtations and toilet talk go down amo...  \n4  In a city of coaching centers known to train I...  ",
      "text/html": "<div>\n<style scoped>\n    .dataframe tbody tr th:only-of-type {\n        vertical-align: middle;\n    }\n\n    .dataframe tbody tr th {\n        vertical-align: top;\n    }\n\n    .dataframe thead th {\n        text-align: right;\n    }\n</style>\n<table border=\"1\" class=\"dataframe\">\n  <thead>\n    <tr style=\"text-align: right;\">\n      <th></th>\n      <th>show_id</th>\n      <th>type</th>\n      <th>title</th>\n      <th>director</th>\n      <th>cast</th>\n      <th>country</th>\n      <th>date_added</th>\n      <th>release_year</th>\n      <th>rating</th>\n      <th>duration</th>\n      <th>listed_in</th>\n      <th>description</th>\n    </tr>\n  </thead>\n  <tbody>\n    <tr>\n      <th>0</th>\n      <td>s1</td>\n      <td>Movie</td>\n      <td>Dick Johnson Is Dead</td>\n      <td>Kirsten Johnson</td>\n      <td>NaN</td>\n      <td>United States</td>\n      <td>September 25, 2021</td>\n      <td>2020</td>\n      <td>PG-13</td>\n      <td>90 min</td>\n      <td>Documentaries</td>\n      <td>As her father nears the end of his life, filmm...</td>\n    </tr>\n    <tr>\n      <th>1</th>\n      <td>s2</td>\n      <td>TV Show</td>\n      <td>Blood &amp; Water</td>\n      <td>NaN</td>\n      <td>Ama Qamata, Khosi Ngema, Gail Mabalane, Thaban...</td>\n      <td>South Africa</td>\n      <td>September 24, 2021</td>\n      <td>2021</td>\n      <td>TV-MA</td>\n      <td>2 Seasons</td>\n      <td>International TV Shows, TV Dramas, TV Mysteries</td>\n      <td>After crossing paths at a party, a Cape Town t...</td>\n    </tr>\n    <tr>\n      <th>2</th>\n      <td>s3</td>\n      <td>TV Show</td>\n      <td>Ganglands</td>\n      <td>Julien Leclercq</td>\n      <td>Sami Bouajila, Tracy Gotoas, Samuel Jouy, Nabi...</td>\n      <td>NaN</td>\n      <td>September 24, 2021</td>\n      <td>2021</td>\n      <td>TV-MA</td>\n      <td>1 Season</td>\n      <td>Crime TV Shows, International TV Shows, TV Act...</td>\n      <td>To protect his family from a powerful drug lor...</td>\n    </tr>\n    <tr>\n      <th>3</th>\n      <td>s4</td>\n      <td>TV Show</td>\n      <td>Jailbirds New Orleans</td>\n      <td>NaN</td>\n      <td>NaN</td>\n      <td>NaN</td>\n      <td>September 24, 2021</td>\n      <td>2021</td>\n      <td>TV-MA</td>\n      <td>1 Season</td>\n      <td>Docuseries, Reality TV</td>\n      <td>Feuds, flirtations and toilet talk go down amo...</td>\n    </tr>\n    <tr>\n      <th>4</th>\n      <td>s5</td>\n      <td>TV Show</td>\n      <td>Kota Factory</td>\n      <td>NaN</td>\n      <td>Mayur More, Jitendra Kumar, Ranjan Raj, Alam K...</td>\n      <td>India</td>\n      <td>September 24, 2021</td>\n      <td>2021</td>\n      <td>TV-MA</td>\n      <td>2 Seasons</td>\n      <td>International TV Shows, Romantic TV Shows, TV ...</td>\n      <td>In a city of coaching centers known to train I...</td>\n    </tr>\n  </tbody>\n</table>\n</div>"
     },
     "execution_count": 986,
     "metadata": {},
     "output_type": "execute_result"
    }
   ],
   "source": [
    "# Load dataframe\n",
    "df = pd.read_csv('netflix_titles.csv')\n",
    "df.head()"
   ],
   "metadata": {
    "collapsed": false,
    "ExecuteTime": {
     "end_time": "2024-02-14T15:47:48.291542622Z",
     "start_time": "2024-02-14T15:47:48.118646378Z"
    }
   },
   "id": "8bfafe8e779c631c",
   "execution_count": 986
  },
  {
   "cell_type": "code",
   "outputs": [
    {
     "data": {
      "text/plain": "(8807, 12)"
     },
     "execution_count": 987,
     "metadata": {},
     "output_type": "execute_result"
    }
   ],
   "source": [
    "df.shape"
   ],
   "metadata": {
    "collapsed": false,
    "ExecuteTime": {
     "end_time": "2024-02-14T15:47:48.337271203Z",
     "start_time": "2024-02-14T15:47:48.291600725Z"
    }
   },
   "id": "6b27f5ac49ce7ce0",
   "execution_count": 987
  },
  {
   "cell_type": "code",
   "outputs": [
    {
     "data": {
      "text/plain": "['show_id',\n 'type',\n 'title',\n 'director',\n 'cast',\n 'country',\n 'date_added',\n 'release_year',\n 'rating',\n 'duration',\n 'listed_in',\n 'description']"
     },
     "execution_count": 988,
     "metadata": {},
     "output_type": "execute_result"
    }
   ],
   "source": [
    "df.columns.tolist()"
   ],
   "metadata": {
    "collapsed": false,
    "ExecuteTime": {
     "end_time": "2024-02-14T15:47:48.596726409Z",
     "start_time": "2024-02-14T15:47:48.291673506Z"
    }
   },
   "id": "f4539aeb82643ed6",
   "execution_count": 988
  },
  {
   "cell_type": "markdown",
   "source": [
    "# Check columns with nulls"
   ],
   "metadata": {
    "collapsed": false
   },
   "id": "574fd550d8055b89"
  },
  {
   "cell_type": "code",
   "outputs": [
    {
     "name": "stdout",
     "output_type": "stream",
     "text": [
      "<class 'pandas.core.frame.DataFrame'>\n",
      "RangeIndex: 8807 entries, 0 to 8806\n",
      "Data columns (total 12 columns):\n",
      " #   Column        Non-Null Count  Dtype \n",
      "---  ------        --------------  ----- \n",
      " 0   show_id       8807 non-null   object\n",
      " 1   type          8807 non-null   object\n",
      " 2   title         8807 non-null   object\n",
      " 3   director      6173 non-null   object\n",
      " 4   cast          7982 non-null   object\n",
      " 5   country       7976 non-null   object\n",
      " 6   date_added    8797 non-null   object\n",
      " 7   release_year  8807 non-null   int64 \n",
      " 8   rating        8803 non-null   object\n",
      " 9   duration      8804 non-null   object\n",
      " 10  listed_in     8807 non-null   object\n",
      " 11  description   8807 non-null   object\n",
      "dtypes: int64(1), object(11)\n",
      "memory usage: 825.8+ KB\n"
     ]
    }
   ],
   "source": [
    "df.info()"
   ],
   "metadata": {
    "collapsed": false,
    "ExecuteTime": {
     "end_time": "2024-02-14T15:47:48.598879269Z",
     "start_time": "2024-02-14T15:47:48.400610499Z"
    }
   },
   "id": "d0c68764bd3fe1f6",
   "execution_count": 989
  },
  {
   "cell_type": "code",
   "outputs": [
    {
     "data": {
      "text/plain": "'director'"
     },
     "execution_count": 990,
     "metadata": {},
     "output_type": "execute_result"
    }
   ],
   "source": [
    "# From above info: 'director', 'country', 'cast' have most nulls consecutively\n",
    "# Now confirm the column with most nulls\n",
    "most_nulls_column = df.isnull().sum().idxmax()\n",
    "most_nulls_column"
   ],
   "metadata": {
    "collapsed": false,
    "ExecuteTime": {
     "end_time": "2024-02-14T15:47:48.628858903Z",
     "start_time": "2024-02-14T15:47:48.430402786Z"
    }
   },
   "id": "8fe1ad24d4ae3aba",
   "execution_count": 990
  },
  {
   "cell_type": "markdown",
   "source": [
    "### Dealing with null values in 'director' column"
   ],
   "metadata": {
    "collapsed": false
   },
   "id": "6991df070658d55e"
  },
  {
   "cell_type": "code",
   "outputs": [
    {
     "data": {
      "text/plain": "array(['Kirsten Johnson', nan, 'Julien Leclercq', ..., 'Majid Al Ansari',\n       'Peter Hewitt', 'Mozez Singh'], dtype=object)"
     },
     "execution_count": 991,
     "metadata": {},
     "output_type": "execute_result"
    }
   ],
   "source": [
    "# Since 'director' column has most nulls, view what's the null designation\n",
    "# In this case it's 'NaN'\n",
    "df['director'].unique()"
   ],
   "metadata": {
    "collapsed": false,
    "ExecuteTime": {
     "end_time": "2024-02-14T15:47:48.764077239Z",
     "start_time": "2024-02-14T15:47:48.580120244Z"
    }
   },
   "id": "8695b60c508b2903",
   "execution_count": 991
  },
  {
   "cell_type": "code",
   "outputs": [
    {
     "data": {
      "text/plain": "2634"
     },
     "execution_count": 992,
     "metadata": {},
     "output_type": "execute_result"
    }
   ],
   "source": [
    "# Get the null values count\n",
    "df['director'].isnull().sum()"
   ],
   "metadata": {
    "collapsed": false,
    "ExecuteTime": {
     "end_time": "2024-02-14T15:47:48.847630517Z",
     "start_time": "2024-02-14T15:47:48.748525746Z"
    }
   },
   "id": "f7460483f8865afb",
   "execution_count": 992
  },
  {
   "cell_type": "code",
   "outputs": [
    {
     "data": {
      "text/plain": "{nan}"
     },
     "execution_count": 993,
     "metadata": {},
     "output_type": "execute_result"
    }
   ],
   "source": [
    "# Find how missing values are represented in the column: \n",
    "def missing_val_representation(column):\n",
    "    missing_val = set()\n",
    "    for val in column:\n",
    "        if pd.isna(val) or val == \"NaN\" or val == \"NA\":\n",
    "            missing_val.add(val)\n",
    "    return missing_val\n",
    "\n",
    "missing_val_representation(df['director'])"
   ],
   "metadata": {
    "collapsed": false,
    "ExecuteTime": {
     "end_time": "2024-02-14T15:47:49.015491812Z",
     "start_time": "2024-02-14T15:47:48.831334675Z"
    }
   },
   "id": "823279ac14efe260",
   "execution_count": 993
  },
  {
   "cell_type": "code",
   "outputs": [],
   "source": [
    "# Replace null values in director column with 'Unavailable'\n",
    "df['director'] = df['director'].apply(lambda x: 'Unavailable' if pd.isna(x) == True else x)"
   ],
   "metadata": {
    "collapsed": false,
    "ExecuteTime": {
     "end_time": "2024-02-14T15:47:49.128237212Z",
     "start_time": "2024-02-14T15:47:48.978501770Z"
    }
   },
   "id": "822f5626f5d0be4d",
   "execution_count": 994
  },
  {
   "cell_type": "code",
   "outputs": [
    {
     "data": {
      "text/plain": "0"
     },
     "execution_count": 995,
     "metadata": {},
     "output_type": "execute_result"
    }
   ],
   "source": [
    "# Check how many null values in 'director' column\n",
    "df['director'].isnull().sum()  # The count is now 0"
   ],
   "metadata": {
    "collapsed": false,
    "ExecuteTime": {
     "end_time": "2024-02-14T15:47:49.251211625Z",
     "start_time": "2024-02-14T15:47:49.096959910Z"
    }
   },
   "id": "a029e553e8eb1721",
   "execution_count": 995
  },
  {
   "cell_type": "code",
   "outputs": [
    {
     "name": "stdout",
     "output_type": "stream",
     "text": [
      "<class 'pandas.core.frame.DataFrame'>\n",
      "RangeIndex: 8807 entries, 0 to 8806\n",
      "Data columns (total 12 columns):\n",
      " #   Column        Non-Null Count  Dtype \n",
      "---  ------        --------------  ----- \n",
      " 0   show_id       8807 non-null   object\n",
      " 1   type          8807 non-null   object\n",
      " 2   title         8807 non-null   object\n",
      " 3   director      8807 non-null   object\n",
      " 4   cast          7982 non-null   object\n",
      " 5   country       7976 non-null   object\n",
      " 6   date_added    8797 non-null   object\n",
      " 7   release_year  8807 non-null   int64 \n",
      " 8   rating        8803 non-null   object\n",
      " 9   duration      8804 non-null   object\n",
      " 10  listed_in     8807 non-null   object\n",
      " 11  description   8807 non-null   object\n",
      "dtypes: int64(1), object(11)\n",
      "memory usage: 825.8+ KB\n"
     ]
    }
   ],
   "source": [
    "# Check the info summary once more\n",
    "df.info()"
   ],
   "metadata": {
    "collapsed": false,
    "ExecuteTime": {
     "end_time": "2024-02-14T15:47:49.373479522Z",
     "start_time": "2024-02-14T15:47:49.238249344Z"
    }
   },
   "id": "fa32f489ace739e6",
   "execution_count": 996
  },
  {
   "cell_type": "markdown",
   "source": [
    "### Dealing with null values in 'country' column"
   ],
   "metadata": {
    "collapsed": false
   },
   "id": "1914e43db5694743"
  },
  {
   "cell_type": "code",
   "outputs": [
    {
     "name": "stdout",
     "output_type": "stream",
     "text": [
      "Non-null value count in 'country': 7976\n",
      "Null value count in 'country': 831\n"
     ]
    }
   ],
   "source": [
    "# Confirm count of non-null values is equal to one above \n",
    "null_value_count_country_col = df['country'].isnull().sum()\n",
    "non_null_value_count_country_col = len(df) - null_value_count_country_col\n",
    "\n",
    "print(f\"Non-null value count in 'country': {non_null_value_count_country_col}\")\n",
    "print(f\"Null value count in 'country': {null_value_count_country_col}\")"
   ],
   "metadata": {
    "collapsed": false,
    "ExecuteTime": {
     "end_time": "2024-02-14T15:47:49.488740207Z",
     "start_time": "2024-02-14T15:47:49.364194809Z"
    }
   },
   "id": "661f13b3fc5c664b",
   "execution_count": 997
  },
  {
   "cell_type": "code",
   "outputs": [],
   "source": [
    "# Replace null values in ‘country’ column with ‘Not Available’\n",
    "df['country'] = df['country'].apply(lambda x: 'Unknown' if pd.isna(x) == True else x)"
   ],
   "metadata": {
    "collapsed": false,
    "ExecuteTime": {
     "end_time": "2024-02-14T15:47:49.630626788Z",
     "start_time": "2024-02-14T15:47:49.477065820Z"
    }
   },
   "id": "69331901aeb612cc",
   "execution_count": 998
  },
  {
   "cell_type": "code",
   "outputs": [
    {
     "name": "stdout",
     "output_type": "stream",
     "text": [
      "Null value count 'country' col after removal: 0\n"
     ]
    }
   ],
   "source": [
    "# Confirm all null values in 'country' have been replaced\n",
    "null_value_count_country_col = df['country'].isnull().sum()\n",
    "print(f\"Null value count 'country' col after removal: {null_value_count_country_col}\")"
   ],
   "metadata": {
    "collapsed": false,
    "ExecuteTime": {
     "end_time": "2024-02-14T15:47:49.789647034Z",
     "start_time": "2024-02-14T15:47:49.672575494Z"
    }
   },
   "id": "74a0e9d55987016e",
   "execution_count": 999
  },
  {
   "cell_type": "code",
   "outputs": [
    {
     "name": "stdout",
     "output_type": "stream",
     "text": [
      "<class 'pandas.core.frame.DataFrame'>\n",
      "RangeIndex: 8807 entries, 0 to 8806\n",
      "Data columns (total 12 columns):\n",
      " #   Column        Non-Null Count  Dtype \n",
      "---  ------        --------------  ----- \n",
      " 0   show_id       8807 non-null   object\n",
      " 1   type          8807 non-null   object\n",
      " 2   title         8807 non-null   object\n",
      " 3   director      8807 non-null   object\n",
      " 4   cast          7982 non-null   object\n",
      " 5   country       8807 non-null   object\n",
      " 6   date_added    8797 non-null   object\n",
      " 7   release_year  8807 non-null   int64 \n",
      " 8   rating        8803 non-null   object\n",
      " 9   duration      8804 non-null   object\n",
      " 10  listed_in     8807 non-null   object\n",
      " 11  description   8807 non-null   object\n",
      "dtypes: int64(1), object(11)\n",
      "memory usage: 825.8+ KB\n"
     ]
    }
   ],
   "source": [
    "df.info()"
   ],
   "metadata": {
    "collapsed": false,
    "ExecuteTime": {
     "end_time": "2024-02-14T15:47:49.947242231Z",
     "start_time": "2024-02-14T15:47:49.786444896Z"
    }
   },
   "id": "f5471fabee02261d",
   "execution_count": 1000
  },
  {
   "cell_type": "markdown",
   "source": [
    "### Dealing with null values in ‘cast’ column"
   ],
   "metadata": {
    "collapsed": false
   },
   "id": "5f38346fe022a575"
  },
  {
   "cell_type": "code",
   "outputs": [
    {
     "name": "stdout",
     "output_type": "stream",
     "text": [
      "Non-null value count in 'country': 7982\n",
      "Null value count in 'country': 825\n"
     ]
    }
   ],
   "source": [
    "# Confirm count of non values in 'cast' column (Hence all other values are null)\n",
    "null_vals_count_cast_col = df['cast'].isnull().sum()\n",
    "non_null_vals_in_cast_col = len(df) - null_vals_count_cast_col\n",
    "\n",
    "print(f\"Non-null value count in 'country': {non_null_vals_in_cast_col}\")\n",
    "print(f\"Null value count in 'country': {null_vals_count_cast_col}\")"
   ],
   "metadata": {
    "collapsed": false,
    "ExecuteTime": {
     "end_time": "2024-02-14T15:47:50.029636199Z",
     "start_time": "2024-02-14T15:47:49.944797171Z"
    }
   },
   "id": "4419218b9d38c5e7",
   "execution_count": 1001
  },
  {
   "cell_type": "code",
   "outputs": [],
   "source": [
    "# Replacing all null values in 'cast' column with \"Unavailable\"\n",
    "df['cast'] = df['cast'].apply(lambda x: \"Unavailable\" if pd.isna(x) == True else x)"
   ],
   "metadata": {
    "collapsed": false,
    "ExecuteTime": {
     "end_time": "2024-02-14T15:47:50.156107947Z",
     "start_time": "2024-02-14T15:47:50.029267117Z"
    }
   },
   "id": "daba650ef67ff4e0",
   "execution_count": 1002
  },
  {
   "cell_type": "code",
   "outputs": [
    {
     "data": {
      "text/plain": "0"
     },
     "execution_count": 1003,
     "metadata": {},
     "output_type": "execute_result"
    }
   ],
   "source": [
    "# Confirm all null values in 'cast' have been removed\n",
    "df['cast'].isnull().sum()"
   ],
   "metadata": {
    "collapsed": false,
    "ExecuteTime": {
     "end_time": "2024-02-14T15:47:50.211968236Z",
     "start_time": "2024-02-14T15:47:50.160303212Z"
    }
   },
   "id": "cf1501926a91c874",
   "execution_count": 1003
  },
  {
   "cell_type": "code",
   "outputs": [
    {
     "name": "stdout",
     "output_type": "stream",
     "text": [
      "<class 'pandas.core.frame.DataFrame'>\n",
      "RangeIndex: 8807 entries, 0 to 8806\n",
      "Data columns (total 12 columns):\n",
      " #   Column        Non-Null Count  Dtype \n",
      "---  ------        --------------  ----- \n",
      " 0   show_id       8807 non-null   object\n",
      " 1   type          8807 non-null   object\n",
      " 2   title         8807 non-null   object\n",
      " 3   director      8807 non-null   object\n",
      " 4   cast          8807 non-null   object\n",
      " 5   country       8807 non-null   object\n",
      " 6   date_added    8797 non-null   object\n",
      " 7   release_year  8807 non-null   int64 \n",
      " 8   rating        8803 non-null   object\n",
      " 9   duration      8804 non-null   object\n",
      " 10  listed_in     8807 non-null   object\n",
      " 11  description   8807 non-null   object\n",
      "dtypes: int64(1), object(11)\n",
      "memory usage: 825.8+ KB\n"
     ]
    }
   ],
   "source": [
    "# Confirm summary info once more\n",
    "df.info()"
   ],
   "metadata": {
    "collapsed": false,
    "ExecuteTime": {
     "end_time": "2024-02-14T15:47:50.400808892Z",
     "start_time": "2024-02-14T15:47:50.211386793Z"
    }
   },
   "id": "1a0fa575bef1646b",
   "execution_count": 1004
  },
  {
   "cell_type": "markdown",
   "source": [
    "### Cleaning date_added column"
   ],
   "metadata": {
    "collapsed": false
   },
   "id": "154a798c6b9c63b1"
  },
  {
   "cell_type": "code",
   "outputs": [
    {
     "name": "stdout",
     "output_type": "stream",
     "text": [
      "Non-null value count in 'country': 8797\n",
      "Null value count in 'country': 10\n"
     ]
    }
   ],
   "source": [
    "# Checking the number of null and non-null values\n",
    "# Confirm count of non values in 'cast' column (Hence all other values are null)\n",
    "null_vals_date_added_col = df['date_added'].isnull().sum()\n",
    "non_null_vals_date_added_col = len(df) - null_vals_date_added_col\n",
    "\n",
    "print(f\"Non-null value count in 'country': {non_null_vals_date_added_col}\")\n",
    "print(f\"Null value count in 'country': {null_vals_date_added_col}\")"
   ],
   "metadata": {
    "collapsed": false,
    "ExecuteTime": {
     "end_time": "2024-02-14T15:47:50.483535330Z",
     "start_time": "2024-02-14T15:47:50.404957327Z"
    }
   },
   "id": "d70e6db73526596e",
   "execution_count": 1005
  },
  {
   "cell_type": "code",
   "outputs": [
    {
     "data": {
      "text/plain": "     show_id     type                                        title  \\\n6066   s6067  TV Show  A Young Doctor's Notebook and Other Stories   \n6174   s6175  TV Show              Anthony Bourdain: Parts Unknown   \n6795   s6796  TV Show                                      Frasier   \n6806   s6807  TV Show                                      Friends   \n6901   s6902  TV Show                              Gunslinger Girl   \n7196   s7197  TV Show                                     Kikoriki   \n7254   s7255  TV Show                          La Familia P. Luche   \n7406   s7407  TV Show                                        Maron   \n7847   s7848  TV Show                                 Red vs. Blue   \n8182   s8183  TV Show                 The Adventures of Figaro Pho   \n\n         director                                               cast  \\\n6066  Unavailable  Daniel Radcliffe, Jon Hamm, Adam Godley, Chris...   \n6174  Unavailable                                   Anthony Bourdain   \n6795  Unavailable  Kelsey Grammer, Jane Leeves, David Hyde Pierce...   \n6806  Unavailable  Jennifer Aniston, Courteney Cox, Lisa Kudrow, ...   \n6901  Unavailable  Yuuka Nanri, Kanako Mitsuhashi, Eri Sendai, Am...   \n7196  Unavailable                                      Igor Dmitriev   \n7254  Unavailable  Eugenio Derbez, Consuelo Duval, Luis Manuel Áv...   \n7406  Unavailable  Marc Maron, Judd Hirsch, Josh Brener, Nora Zeh...   \n7847  Unavailable  Burnie Burns, Jason Saldaña, Gustavo Sorola, G...   \n8182  Unavailable  Luke Jurevicius, Craig Behenna, Charlotte Haml...   \n\n             country date_added  release_year rating    duration  \\\n6066  United Kingdom        NaN          2013  TV-MA   2 Seasons   \n6174   United States        NaN          2018  TV-PG   5 Seasons   \n6795   United States        NaN          2003  TV-PG  11 Seasons   \n6806   United States        NaN          2003  TV-14  10 Seasons   \n6901           Japan        NaN          2008  TV-14   2 Seasons   \n7196         Unknown        NaN          2010   TV-Y   2 Seasons   \n7254   United States        NaN          2012  TV-14   3 Seasons   \n7406   United States        NaN          2016  TV-MA   4 Seasons   \n7847   United States        NaN          2015     NR  13 Seasons   \n8182       Australia        NaN          2015  TV-Y7   2 Seasons   \n\n                                              listed_in  \\\n6066           British TV Shows, TV Comedies, TV Dramas   \n6174                                         Docuseries   \n6795                     Classic & Cult TV, TV Comedies   \n6806                     Classic & Cult TV, TV Comedies   \n6901                       Anime Series, Crime TV Shows   \n7196                                           Kids' TV   \n7254  International TV Shows, Spanish-Language TV Sh...   \n7406                                        TV Comedies   \n7847  TV Action & Adventure, TV Comedies, TV Sci-Fi ...   \n8182                              Kids' TV, TV Comedies   \n\n                                            description  \n6066  Set during the Russian Revolution, this comic ...  \n6174  This CNN original series has chef Anthony Bour...  \n6795  Frasier Crane is a snooty but lovable Seattle ...  \n6806  This hit sitcom follows the merry misadventure...  \n6901  On the surface, the Social Welfare Agency appe...  \n7196  A wacky rabbit and his gang of animal pals hav...  \n7254  This irreverent sitcom featues Ludovico, Feder...  \n7406  Marc Maron stars as Marc Maron, who interviews...  \n7847  This parody of first-person shooter games, mil...  \n8182  Imagine your worst fears, then multiply them: ...  ",
      "text/html": "<div>\n<style scoped>\n    .dataframe tbody tr th:only-of-type {\n        vertical-align: middle;\n    }\n\n    .dataframe tbody tr th {\n        vertical-align: top;\n    }\n\n    .dataframe thead th {\n        text-align: right;\n    }\n</style>\n<table border=\"1\" class=\"dataframe\">\n  <thead>\n    <tr style=\"text-align: right;\">\n      <th></th>\n      <th>show_id</th>\n      <th>type</th>\n      <th>title</th>\n      <th>director</th>\n      <th>cast</th>\n      <th>country</th>\n      <th>date_added</th>\n      <th>release_year</th>\n      <th>rating</th>\n      <th>duration</th>\n      <th>listed_in</th>\n      <th>description</th>\n    </tr>\n  </thead>\n  <tbody>\n    <tr>\n      <th>6066</th>\n      <td>s6067</td>\n      <td>TV Show</td>\n      <td>A Young Doctor's Notebook and Other Stories</td>\n      <td>Unavailable</td>\n      <td>Daniel Radcliffe, Jon Hamm, Adam Godley, Chris...</td>\n      <td>United Kingdom</td>\n      <td>NaN</td>\n      <td>2013</td>\n      <td>TV-MA</td>\n      <td>2 Seasons</td>\n      <td>British TV Shows, TV Comedies, TV Dramas</td>\n      <td>Set during the Russian Revolution, this comic ...</td>\n    </tr>\n    <tr>\n      <th>6174</th>\n      <td>s6175</td>\n      <td>TV Show</td>\n      <td>Anthony Bourdain: Parts Unknown</td>\n      <td>Unavailable</td>\n      <td>Anthony Bourdain</td>\n      <td>United States</td>\n      <td>NaN</td>\n      <td>2018</td>\n      <td>TV-PG</td>\n      <td>5 Seasons</td>\n      <td>Docuseries</td>\n      <td>This CNN original series has chef Anthony Bour...</td>\n    </tr>\n    <tr>\n      <th>6795</th>\n      <td>s6796</td>\n      <td>TV Show</td>\n      <td>Frasier</td>\n      <td>Unavailable</td>\n      <td>Kelsey Grammer, Jane Leeves, David Hyde Pierce...</td>\n      <td>United States</td>\n      <td>NaN</td>\n      <td>2003</td>\n      <td>TV-PG</td>\n      <td>11 Seasons</td>\n      <td>Classic &amp; Cult TV, TV Comedies</td>\n      <td>Frasier Crane is a snooty but lovable Seattle ...</td>\n    </tr>\n    <tr>\n      <th>6806</th>\n      <td>s6807</td>\n      <td>TV Show</td>\n      <td>Friends</td>\n      <td>Unavailable</td>\n      <td>Jennifer Aniston, Courteney Cox, Lisa Kudrow, ...</td>\n      <td>United States</td>\n      <td>NaN</td>\n      <td>2003</td>\n      <td>TV-14</td>\n      <td>10 Seasons</td>\n      <td>Classic &amp; Cult TV, TV Comedies</td>\n      <td>This hit sitcom follows the merry misadventure...</td>\n    </tr>\n    <tr>\n      <th>6901</th>\n      <td>s6902</td>\n      <td>TV Show</td>\n      <td>Gunslinger Girl</td>\n      <td>Unavailable</td>\n      <td>Yuuka Nanri, Kanako Mitsuhashi, Eri Sendai, Am...</td>\n      <td>Japan</td>\n      <td>NaN</td>\n      <td>2008</td>\n      <td>TV-14</td>\n      <td>2 Seasons</td>\n      <td>Anime Series, Crime TV Shows</td>\n      <td>On the surface, the Social Welfare Agency appe...</td>\n    </tr>\n    <tr>\n      <th>7196</th>\n      <td>s7197</td>\n      <td>TV Show</td>\n      <td>Kikoriki</td>\n      <td>Unavailable</td>\n      <td>Igor Dmitriev</td>\n      <td>Unknown</td>\n      <td>NaN</td>\n      <td>2010</td>\n      <td>TV-Y</td>\n      <td>2 Seasons</td>\n      <td>Kids' TV</td>\n      <td>A wacky rabbit and his gang of animal pals hav...</td>\n    </tr>\n    <tr>\n      <th>7254</th>\n      <td>s7255</td>\n      <td>TV Show</td>\n      <td>La Familia P. Luche</td>\n      <td>Unavailable</td>\n      <td>Eugenio Derbez, Consuelo Duval, Luis Manuel Áv...</td>\n      <td>United States</td>\n      <td>NaN</td>\n      <td>2012</td>\n      <td>TV-14</td>\n      <td>3 Seasons</td>\n      <td>International TV Shows, Spanish-Language TV Sh...</td>\n      <td>This irreverent sitcom featues Ludovico, Feder...</td>\n    </tr>\n    <tr>\n      <th>7406</th>\n      <td>s7407</td>\n      <td>TV Show</td>\n      <td>Maron</td>\n      <td>Unavailable</td>\n      <td>Marc Maron, Judd Hirsch, Josh Brener, Nora Zeh...</td>\n      <td>United States</td>\n      <td>NaN</td>\n      <td>2016</td>\n      <td>TV-MA</td>\n      <td>4 Seasons</td>\n      <td>TV Comedies</td>\n      <td>Marc Maron stars as Marc Maron, who interviews...</td>\n    </tr>\n    <tr>\n      <th>7847</th>\n      <td>s7848</td>\n      <td>TV Show</td>\n      <td>Red vs. Blue</td>\n      <td>Unavailable</td>\n      <td>Burnie Burns, Jason Saldaña, Gustavo Sorola, G...</td>\n      <td>United States</td>\n      <td>NaN</td>\n      <td>2015</td>\n      <td>NR</td>\n      <td>13 Seasons</td>\n      <td>TV Action &amp; Adventure, TV Comedies, TV Sci-Fi ...</td>\n      <td>This parody of first-person shooter games, mil...</td>\n    </tr>\n    <tr>\n      <th>8182</th>\n      <td>s8183</td>\n      <td>TV Show</td>\n      <td>The Adventures of Figaro Pho</td>\n      <td>Unavailable</td>\n      <td>Luke Jurevicius, Craig Behenna, Charlotte Haml...</td>\n      <td>Australia</td>\n      <td>NaN</td>\n      <td>2015</td>\n      <td>TV-Y7</td>\n      <td>2 Seasons</td>\n      <td>Kids' TV, TV Comedies</td>\n      <td>Imagine your worst fears, then multiply them: ...</td>\n    </tr>\n  </tbody>\n</table>\n</div>"
     },
     "execution_count": 1006,
     "metadata": {},
     "output_type": "execute_result"
    }
   ],
   "source": [
    "# Returning rows with null values\n",
    "rows_with_null_date_added_col = df[df['date_added'].isnull()]\n",
    "rows_with_null_date_added_col"
   ],
   "metadata": {
    "collapsed": false,
    "ExecuteTime": {
     "end_time": "2024-02-14T15:47:50.609263127Z",
     "start_time": "2024-02-14T15:47:50.484058603Z"
    }
   },
   "id": "db3dddee8ac1c9d8",
   "execution_count": 1006
  },
  {
   "cell_type": "code",
   "outputs": [
    {
     "data": {
      "text/plain": "     show_id     type                                         title  \\\n6065   s6066    Movie                             A Wrinkle in Time   \n6066   s6067  TV Show   A Young Doctor's Notebook and Other Stories   \n6067   s6068  TV Show                       A.D. Kingdom and Empire   \n6173   s6174    Movie                        Antariksha Ke Rakhwale   \n6174   s6175  TV Show               Anthony Bourdain: Parts Unknown   \n6175   s6176    Movie                                      Antidote   \n6794   s6795    Movie                                    Frances Ha   \n6795   s6796  TV Show                                       Frasier   \n6796   s6797    Movie                                    Freak Show   \n6805   s6806    Movie                                Friend Request   \n6806   s6807  TV Show                                       Friends   \n6807   s6808    Movie                           From Japan to Egypt   \n6900   s6901    Movie                                   Gun Runners   \n6901   s6902  TV Show                               Gunslinger Girl   \n6902   s6903    Movie  Guy Martin: Last Flight of the Vulcan Bomber   \n7195   s7196    Movie                       Kidnapping Mr. Heineken   \n7196   s7197  TV Show                                      Kikoriki   \n7197   s7198    Movie                             Kill Bill: Vol. 1   \n7253   s7254    Movie                        La Coppia dei Campioni   \n7254   s7255  TV Show                           La Familia P. Luche   \n7255   s7256  TV Show                                      La Femme   \n7405   s7406    Movie              Mark Gatiss: A Study in Sherlock   \n7406   s7407  TV Show                                         Maron   \n7407   s7408    Movie                                        Maroon   \n7846   s7847    Movie                                     Red Trees   \n7847   s7848  TV Show                                  Red vs. Blue   \n7848   s7849    Movie                                       Refugee   \n8181   s8182    Movie                            The Adventure Club   \n8182   s8183  TV Show                  The Adventures of Figaro Pho   \n8183   s8184    Movie       The Adventures of Sharkboy and Lavagirl   \n\n                             director  \\\n6065                     Ava DuVernay   \n6066                      Unavailable   \n6067                      Unavailable   \n6173                 Anirban Majumder   \n6174                      Unavailable   \n6175                       Ken Barbet   \n6794                    Noah Baumbach   \n6795                      Unavailable   \n6796                    Trudie Styler   \n6805                  Simon Verhoeven   \n6806                      Unavailable   \n6807                    Mahmoud Karim   \n6900                     Anjali Nayar   \n6901                      Unavailable   \n6902                  James Woodroffe   \n7195                 Daniel Alfredson   \n7196                      Unavailable   \n7197                Quentin Tarantino   \n7253                      Giulio Base   \n7254                      Unavailable   \n7255                      Unavailable   \n7405                    Nathan Landeg   \n7406                      Unavailable   \n7407                           Pulkit   \n7846                    Marina Willer   \n7847                      Unavailable   \n7848  Clementine Malpas, Leslie Knott   \n8181                   Geoff Anderson   \n8182                      Unavailable   \n8183                 Robert Rodriguez   \n\n                                                   cast  \\\n6065  Storm Reid, Oprah Winfrey, Reese Witherspoon, ...   \n6066  Daniel Radcliffe, Jon Hamm, Adam Godley, Chris...   \n6067  Juan Pablo Di Pace, Adam Levy, Chipo Chung, Ba...   \n6173  Sonal Kaushal, Rupa Bhimani, Julie Tejwani, Sa...   \n6174                                   Anthony Bourdain   \n6175  Randy Couture, Chuck Zito, Wil Traval, Celeste...   \n6794  Greta Gerwig, Mickey Sumner, Charlotte d'Amboi...   \n6795  Kelsey Grammer, Jane Leeves, David Hyde Pierce...   \n6796  Alex Lawther, Abigail Breslin, AnnaSophia Robb...   \n6805  Alycia Debnam-Carey, William Moseley, Connor P...   \n6806  Jennifer Aniston, Courteney Cox, Lisa Kudrow, ...   \n6807  Ahmed Eid, Saki Tsukamoto, Nada Moussa, Mohamm...   \n6900                                        Unavailable   \n6901  Yuuka Nanri, Kanako Mitsuhashi, Eri Sendai, Am...   \n6902              Guy Martin, Kevin Stone, Shaun Dooley   \n7195  Jim Sturgess, Sam Worthington, Ryan Kwanten, A...   \n7196                                      Igor Dmitriev   \n7197  Uma Thurman, Lucy Liu, Vivica A. Fox, Daryl Ha...   \n7253  Massimo Boldi, Massimiliano Tortora, Anna Mari...   \n7254  Eugenio Derbez, Consuelo Duval, Luis Manuel Áv...   \n7255  Zoe Tay, Ann Kok, Tiffany Leong, Tay Ping Hui,...   \n7405  Benedict Cumberbatch, Martin Freeman, Una Stub...   \n7406  Marc Maron, Judd Hirsch, Josh Brener, Nora Zeh...   \n7407  Manav Kaul, Devyani Cm, Saurabh Sachdeva, Sari...   \n7846                                  Tim Piggott-Smith   \n7847  Burnie Burns, Jason Saldaña, Gustavo Sorola, G...   \n7848  Cate Blanchett, Lynsey Addario, Omar Victor Di...   \n8181  Sam Ashe Arnold, Jakob Davies, Dalila Bela, Ro...   \n8182  Luke Jurevicius, Craig Behenna, Charlotte Haml...   \n8183  Taylor Lautner, Taylor Dooley, Cayden Boyd, Ge...   \n\n                                                country          date_added  \\\n6065                                      United States  September 25, 2018   \n6066                                     United Kingdom                 NaN   \n6067                                      United States   December 15, 2017   \n6173                                            Unknown       June 18, 2019   \n6174                                      United States                 NaN   \n6175                                      United States      April 14, 2019   \n6794                              United States, Brazil     October 1, 2017   \n6795                                      United States                 NaN   \n6796                                      United States     August 13, 2020   \n6805                                            Germany      April 18, 2018   \n6806                                      United States                 NaN   \n6807                                              Egypt        June 6, 2019   \n6900                                             Canada    February 1, 2017   \n6901                                              Japan                 NaN   \n6902                                     United Kingdom       July 26, 2019   \n7195  Netherlands, Belgium, United Kingdom, United S...   September 8, 2017   \n7196                                            Unknown                 NaN   \n7197                               United States, Japan     January 1, 2020   \n7253                                              Italy   February 15, 2017   \n7254                                      United States                 NaN   \n7255                                            Unknown    October 16, 2017   \n7405                                            Unknown         May 1, 2016   \n7406                                      United States                 NaN   \n7407                                              India    February 1, 2017   \n7846                                     United Kingdom      March 24, 2018   \n7847                                      United States                 NaN   \n7848                                            Unknown      March 10, 2017   \n8181                                             Canada        May 10, 2017   \n8182                                          Australia                 NaN   \n8183                                      United States    December 2, 2020   \n\n      release_year rating    duration  \\\n6065          2018     PG     110 min   \n6066          2013  TV-MA   2 Seasons   \n6067          2015  TV-14    1 Season   \n6173          2018  TV-Y7      65 min   \n6174          2018  TV-PG   5 Seasons   \n6175          2018  TV-MA      90 min   \n6794          2012      R      86 min   \n6795          2003  TV-PG  11 Seasons   \n6796          2018  TV-MA      91 min   \n6805          2016      R      92 min   \n6806          2003  TV-14  10 Seasons   \n6807          2017  TV-14      93 min   \n6900          2015  TV-PG      90 min   \n6901          2008  TV-14   2 Seasons   \n6902          2015   TV-G      57 min   \n7195          2015      R      95 min   \n7196          2010   TV-Y   2 Seasons   \n7197          2003      R     111 min   \n7253          2016  TV-MA      88 min   \n7254          2012  TV-14   3 Seasons   \n7255          2016  TV-14    1 Season   \n7405          2016  TV-14      29 min   \n7406          2016  TV-MA   4 Seasons   \n7407          2016  TV-MA      94 min   \n7846          2017  TV-PG      80 min   \n7847          2015     NR  13 Seasons   \n7848          2016  TV-PG      24 min   \n8181          2016  TV-Y7      88 min   \n8182          2015  TV-Y7   2 Seasons   \n8183          2005     PG      93 min   \n\n                                              listed_in  \\\n6065                           Children & Family Movies   \n6066           British TV Shows, TV Comedies, TV Dramas   \n6067                                          TV Dramas   \n6173                           Children & Family Movies   \n6174                                         Docuseries   \n6175                  Action & Adventure, Horror Movies   \n6794               Comedies, Dramas, Independent Movies   \n6795                     Classic & Cult TV, TV Comedies   \n6796               Comedies, Dramas, Independent Movies   \n6805                Horror Movies, International Movies   \n6806                     Classic & Cult TV, TV Comedies   \n6807         Children & Family Movies, Comedies, Dramas   \n6900  Documentaries, International Movies, Sports Mo...   \n6901                       Anime Series, Crime TV Shows   \n6902                Documentaries, International Movies   \n7195   Action & Adventure, Dramas, International Movies   \n7196                                           Kids' TV   \n7197                                 Action & Adventure   \n7253                     Comedies, International Movies   \n7254  International TV Shows, Spanish-Language TV Sh...   \n7255                  International TV Shows, TV Dramas   \n7405                                             Movies   \n7406                                        TV Comedies   \n7407   Dramas, Independent Movies, International Movies   \n7846                Documentaries, International Movies   \n7847  TV Action & Adventure, TV Comedies, TV Sci-Fi ...   \n7848                                      Documentaries   \n8181                           Children & Family Movies   \n8182                              Kids' TV, TV Comedies   \n8183                           Children & Family Movies   \n\n                                            description  \n6065  Years after their father disappears, Meg and h...  \n6066  Set during the Russian Revolution, this comic ...  \n6067  In the wake of Jesus Christ's crucifixion, his...  \n6173  Space villains have abducted all the superhero...  \n6174  This CNN original series has chef Anthony Bour...  \n6175  A tough-as-nails treasure hunter protects a hu...  \n6794  Determined to make it as a modern dancer in Ne...  \n6795  Frasier Crane is a snooty but lovable Seattle ...  \n6796  Forced to attend a new high school, a glamorou...  \n6805  A popular college student's love of social med...  \n6806  This hit sitcom follows the merry misadventure...  \n6807  After his wife relocates to her home country o...  \n6900  Two roaming Kenyan bandits attempt to change t...  \n6901  On the surface, the Social Welfare Agency appe...  \n6902  Guy Martin assists in preparing the last airwo...  \n7195  When beer magnate Alfred \"Freddy\" Heineken is ...  \n7196  A wacky rabbit and his gang of animal pals hav...  \n7197  An assassin is shot by her ruthless employer, ...  \n7253  After winning a shared trip to a soccer match,...  \n7254  This irreverent sitcom featues Ludovico, Feder...  \n7255  Personal desires guide the lives of a marriage...  \n7405  Mark Gatiss, who co-created “Sherlock” and pla...  \n7406  Marc Maron stars as Marc Maron, who interviews...  \n7407  When his wife goes missing, university profess...  \n7846  A documentarian details her Jewish family's es...  \n7847  This parody of first-person shooter games, mil...  \n7848  Five acclaimed photographers travel the world ...  \n8181  After finding a peculiar key, three smart and ...  \n8182  Imagine your worst fears, then multiply them: ...  \n8183  A 10-year-old dreamer's imaginary friends – mi...  ",
      "text/html": "<div>\n<style scoped>\n    .dataframe tbody tr th:only-of-type {\n        vertical-align: middle;\n    }\n\n    .dataframe tbody tr th {\n        vertical-align: top;\n    }\n\n    .dataframe thead th {\n        text-align: right;\n    }\n</style>\n<table border=\"1\" class=\"dataframe\">\n  <thead>\n    <tr style=\"text-align: right;\">\n      <th></th>\n      <th>show_id</th>\n      <th>type</th>\n      <th>title</th>\n      <th>director</th>\n      <th>cast</th>\n      <th>country</th>\n      <th>date_added</th>\n      <th>release_year</th>\n      <th>rating</th>\n      <th>duration</th>\n      <th>listed_in</th>\n      <th>description</th>\n    </tr>\n  </thead>\n  <tbody>\n    <tr>\n      <th>6065</th>\n      <td>s6066</td>\n      <td>Movie</td>\n      <td>A Wrinkle in Time</td>\n      <td>Ava DuVernay</td>\n      <td>Storm Reid, Oprah Winfrey, Reese Witherspoon, ...</td>\n      <td>United States</td>\n      <td>September 25, 2018</td>\n      <td>2018</td>\n      <td>PG</td>\n      <td>110 min</td>\n      <td>Children &amp; Family Movies</td>\n      <td>Years after their father disappears, Meg and h...</td>\n    </tr>\n    <tr>\n      <th>6066</th>\n      <td>s6067</td>\n      <td>TV Show</td>\n      <td>A Young Doctor's Notebook and Other Stories</td>\n      <td>Unavailable</td>\n      <td>Daniel Radcliffe, Jon Hamm, Adam Godley, Chris...</td>\n      <td>United Kingdom</td>\n      <td>NaN</td>\n      <td>2013</td>\n      <td>TV-MA</td>\n      <td>2 Seasons</td>\n      <td>British TV Shows, TV Comedies, TV Dramas</td>\n      <td>Set during the Russian Revolution, this comic ...</td>\n    </tr>\n    <tr>\n      <th>6067</th>\n      <td>s6068</td>\n      <td>TV Show</td>\n      <td>A.D. Kingdom and Empire</td>\n      <td>Unavailable</td>\n      <td>Juan Pablo Di Pace, Adam Levy, Chipo Chung, Ba...</td>\n      <td>United States</td>\n      <td>December 15, 2017</td>\n      <td>2015</td>\n      <td>TV-14</td>\n      <td>1 Season</td>\n      <td>TV Dramas</td>\n      <td>In the wake of Jesus Christ's crucifixion, his...</td>\n    </tr>\n    <tr>\n      <th>6173</th>\n      <td>s6174</td>\n      <td>Movie</td>\n      <td>Antariksha Ke Rakhwale</td>\n      <td>Anirban Majumder</td>\n      <td>Sonal Kaushal, Rupa Bhimani, Julie Tejwani, Sa...</td>\n      <td>Unknown</td>\n      <td>June 18, 2019</td>\n      <td>2018</td>\n      <td>TV-Y7</td>\n      <td>65 min</td>\n      <td>Children &amp; Family Movies</td>\n      <td>Space villains have abducted all the superhero...</td>\n    </tr>\n    <tr>\n      <th>6174</th>\n      <td>s6175</td>\n      <td>TV Show</td>\n      <td>Anthony Bourdain: Parts Unknown</td>\n      <td>Unavailable</td>\n      <td>Anthony Bourdain</td>\n      <td>United States</td>\n      <td>NaN</td>\n      <td>2018</td>\n      <td>TV-PG</td>\n      <td>5 Seasons</td>\n      <td>Docuseries</td>\n      <td>This CNN original series has chef Anthony Bour...</td>\n    </tr>\n    <tr>\n      <th>6175</th>\n      <td>s6176</td>\n      <td>Movie</td>\n      <td>Antidote</td>\n      <td>Ken Barbet</td>\n      <td>Randy Couture, Chuck Zito, Wil Traval, Celeste...</td>\n      <td>United States</td>\n      <td>April 14, 2019</td>\n      <td>2018</td>\n      <td>TV-MA</td>\n      <td>90 min</td>\n      <td>Action &amp; Adventure, Horror Movies</td>\n      <td>A tough-as-nails treasure hunter protects a hu...</td>\n    </tr>\n    <tr>\n      <th>6794</th>\n      <td>s6795</td>\n      <td>Movie</td>\n      <td>Frances Ha</td>\n      <td>Noah Baumbach</td>\n      <td>Greta Gerwig, Mickey Sumner, Charlotte d'Amboi...</td>\n      <td>United States, Brazil</td>\n      <td>October 1, 2017</td>\n      <td>2012</td>\n      <td>R</td>\n      <td>86 min</td>\n      <td>Comedies, Dramas, Independent Movies</td>\n      <td>Determined to make it as a modern dancer in Ne...</td>\n    </tr>\n    <tr>\n      <th>6795</th>\n      <td>s6796</td>\n      <td>TV Show</td>\n      <td>Frasier</td>\n      <td>Unavailable</td>\n      <td>Kelsey Grammer, Jane Leeves, David Hyde Pierce...</td>\n      <td>United States</td>\n      <td>NaN</td>\n      <td>2003</td>\n      <td>TV-PG</td>\n      <td>11 Seasons</td>\n      <td>Classic &amp; Cult TV, TV Comedies</td>\n      <td>Frasier Crane is a snooty but lovable Seattle ...</td>\n    </tr>\n    <tr>\n      <th>6796</th>\n      <td>s6797</td>\n      <td>Movie</td>\n      <td>Freak Show</td>\n      <td>Trudie Styler</td>\n      <td>Alex Lawther, Abigail Breslin, AnnaSophia Robb...</td>\n      <td>United States</td>\n      <td>August 13, 2020</td>\n      <td>2018</td>\n      <td>TV-MA</td>\n      <td>91 min</td>\n      <td>Comedies, Dramas, Independent Movies</td>\n      <td>Forced to attend a new high school, a glamorou...</td>\n    </tr>\n    <tr>\n      <th>6805</th>\n      <td>s6806</td>\n      <td>Movie</td>\n      <td>Friend Request</td>\n      <td>Simon Verhoeven</td>\n      <td>Alycia Debnam-Carey, William Moseley, Connor P...</td>\n      <td>Germany</td>\n      <td>April 18, 2018</td>\n      <td>2016</td>\n      <td>R</td>\n      <td>92 min</td>\n      <td>Horror Movies, International Movies</td>\n      <td>A popular college student's love of social med...</td>\n    </tr>\n    <tr>\n      <th>6806</th>\n      <td>s6807</td>\n      <td>TV Show</td>\n      <td>Friends</td>\n      <td>Unavailable</td>\n      <td>Jennifer Aniston, Courteney Cox, Lisa Kudrow, ...</td>\n      <td>United States</td>\n      <td>NaN</td>\n      <td>2003</td>\n      <td>TV-14</td>\n      <td>10 Seasons</td>\n      <td>Classic &amp; Cult TV, TV Comedies</td>\n      <td>This hit sitcom follows the merry misadventure...</td>\n    </tr>\n    <tr>\n      <th>6807</th>\n      <td>s6808</td>\n      <td>Movie</td>\n      <td>From Japan to Egypt</td>\n      <td>Mahmoud Karim</td>\n      <td>Ahmed Eid, Saki Tsukamoto, Nada Moussa, Mohamm...</td>\n      <td>Egypt</td>\n      <td>June 6, 2019</td>\n      <td>2017</td>\n      <td>TV-14</td>\n      <td>93 min</td>\n      <td>Children &amp; Family Movies, Comedies, Dramas</td>\n      <td>After his wife relocates to her home country o...</td>\n    </tr>\n    <tr>\n      <th>6900</th>\n      <td>s6901</td>\n      <td>Movie</td>\n      <td>Gun Runners</td>\n      <td>Anjali Nayar</td>\n      <td>Unavailable</td>\n      <td>Canada</td>\n      <td>February 1, 2017</td>\n      <td>2015</td>\n      <td>TV-PG</td>\n      <td>90 min</td>\n      <td>Documentaries, International Movies, Sports Mo...</td>\n      <td>Two roaming Kenyan bandits attempt to change t...</td>\n    </tr>\n    <tr>\n      <th>6901</th>\n      <td>s6902</td>\n      <td>TV Show</td>\n      <td>Gunslinger Girl</td>\n      <td>Unavailable</td>\n      <td>Yuuka Nanri, Kanako Mitsuhashi, Eri Sendai, Am...</td>\n      <td>Japan</td>\n      <td>NaN</td>\n      <td>2008</td>\n      <td>TV-14</td>\n      <td>2 Seasons</td>\n      <td>Anime Series, Crime TV Shows</td>\n      <td>On the surface, the Social Welfare Agency appe...</td>\n    </tr>\n    <tr>\n      <th>6902</th>\n      <td>s6903</td>\n      <td>Movie</td>\n      <td>Guy Martin: Last Flight of the Vulcan Bomber</td>\n      <td>James Woodroffe</td>\n      <td>Guy Martin, Kevin Stone, Shaun Dooley</td>\n      <td>United Kingdom</td>\n      <td>July 26, 2019</td>\n      <td>2015</td>\n      <td>TV-G</td>\n      <td>57 min</td>\n      <td>Documentaries, International Movies</td>\n      <td>Guy Martin assists in preparing the last airwo...</td>\n    </tr>\n    <tr>\n      <th>7195</th>\n      <td>s7196</td>\n      <td>Movie</td>\n      <td>Kidnapping Mr. Heineken</td>\n      <td>Daniel Alfredson</td>\n      <td>Jim Sturgess, Sam Worthington, Ryan Kwanten, A...</td>\n      <td>Netherlands, Belgium, United Kingdom, United S...</td>\n      <td>September 8, 2017</td>\n      <td>2015</td>\n      <td>R</td>\n      <td>95 min</td>\n      <td>Action &amp; Adventure, Dramas, International Movies</td>\n      <td>When beer magnate Alfred \"Freddy\" Heineken is ...</td>\n    </tr>\n    <tr>\n      <th>7196</th>\n      <td>s7197</td>\n      <td>TV Show</td>\n      <td>Kikoriki</td>\n      <td>Unavailable</td>\n      <td>Igor Dmitriev</td>\n      <td>Unknown</td>\n      <td>NaN</td>\n      <td>2010</td>\n      <td>TV-Y</td>\n      <td>2 Seasons</td>\n      <td>Kids' TV</td>\n      <td>A wacky rabbit and his gang of animal pals hav...</td>\n    </tr>\n    <tr>\n      <th>7197</th>\n      <td>s7198</td>\n      <td>Movie</td>\n      <td>Kill Bill: Vol. 1</td>\n      <td>Quentin Tarantino</td>\n      <td>Uma Thurman, Lucy Liu, Vivica A. Fox, Daryl Ha...</td>\n      <td>United States, Japan</td>\n      <td>January 1, 2020</td>\n      <td>2003</td>\n      <td>R</td>\n      <td>111 min</td>\n      <td>Action &amp; Adventure</td>\n      <td>An assassin is shot by her ruthless employer, ...</td>\n    </tr>\n    <tr>\n      <th>7253</th>\n      <td>s7254</td>\n      <td>Movie</td>\n      <td>La Coppia dei Campioni</td>\n      <td>Giulio Base</td>\n      <td>Massimo Boldi, Massimiliano Tortora, Anna Mari...</td>\n      <td>Italy</td>\n      <td>February 15, 2017</td>\n      <td>2016</td>\n      <td>TV-MA</td>\n      <td>88 min</td>\n      <td>Comedies, International Movies</td>\n      <td>After winning a shared trip to a soccer match,...</td>\n    </tr>\n    <tr>\n      <th>7254</th>\n      <td>s7255</td>\n      <td>TV Show</td>\n      <td>La Familia P. Luche</td>\n      <td>Unavailable</td>\n      <td>Eugenio Derbez, Consuelo Duval, Luis Manuel Áv...</td>\n      <td>United States</td>\n      <td>NaN</td>\n      <td>2012</td>\n      <td>TV-14</td>\n      <td>3 Seasons</td>\n      <td>International TV Shows, Spanish-Language TV Sh...</td>\n      <td>This irreverent sitcom featues Ludovico, Feder...</td>\n    </tr>\n    <tr>\n      <th>7255</th>\n      <td>s7256</td>\n      <td>TV Show</td>\n      <td>La Femme</td>\n      <td>Unavailable</td>\n      <td>Zoe Tay, Ann Kok, Tiffany Leong, Tay Ping Hui,...</td>\n      <td>Unknown</td>\n      <td>October 16, 2017</td>\n      <td>2016</td>\n      <td>TV-14</td>\n      <td>1 Season</td>\n      <td>International TV Shows, TV Dramas</td>\n      <td>Personal desires guide the lives of a marriage...</td>\n    </tr>\n    <tr>\n      <th>7405</th>\n      <td>s7406</td>\n      <td>Movie</td>\n      <td>Mark Gatiss: A Study in Sherlock</td>\n      <td>Nathan Landeg</td>\n      <td>Benedict Cumberbatch, Martin Freeman, Una Stub...</td>\n      <td>Unknown</td>\n      <td>May 1, 2016</td>\n      <td>2016</td>\n      <td>TV-14</td>\n      <td>29 min</td>\n      <td>Movies</td>\n      <td>Mark Gatiss, who co-created “Sherlock” and pla...</td>\n    </tr>\n    <tr>\n      <th>7406</th>\n      <td>s7407</td>\n      <td>TV Show</td>\n      <td>Maron</td>\n      <td>Unavailable</td>\n      <td>Marc Maron, Judd Hirsch, Josh Brener, Nora Zeh...</td>\n      <td>United States</td>\n      <td>NaN</td>\n      <td>2016</td>\n      <td>TV-MA</td>\n      <td>4 Seasons</td>\n      <td>TV Comedies</td>\n      <td>Marc Maron stars as Marc Maron, who interviews...</td>\n    </tr>\n    <tr>\n      <th>7407</th>\n      <td>s7408</td>\n      <td>Movie</td>\n      <td>Maroon</td>\n      <td>Pulkit</td>\n      <td>Manav Kaul, Devyani Cm, Saurabh Sachdeva, Sari...</td>\n      <td>India</td>\n      <td>February 1, 2017</td>\n      <td>2016</td>\n      <td>TV-MA</td>\n      <td>94 min</td>\n      <td>Dramas, Independent Movies, International Movies</td>\n      <td>When his wife goes missing, university profess...</td>\n    </tr>\n    <tr>\n      <th>7846</th>\n      <td>s7847</td>\n      <td>Movie</td>\n      <td>Red Trees</td>\n      <td>Marina Willer</td>\n      <td>Tim Piggott-Smith</td>\n      <td>United Kingdom</td>\n      <td>March 24, 2018</td>\n      <td>2017</td>\n      <td>TV-PG</td>\n      <td>80 min</td>\n      <td>Documentaries, International Movies</td>\n      <td>A documentarian details her Jewish family's es...</td>\n    </tr>\n    <tr>\n      <th>7847</th>\n      <td>s7848</td>\n      <td>TV Show</td>\n      <td>Red vs. Blue</td>\n      <td>Unavailable</td>\n      <td>Burnie Burns, Jason Saldaña, Gustavo Sorola, G...</td>\n      <td>United States</td>\n      <td>NaN</td>\n      <td>2015</td>\n      <td>NR</td>\n      <td>13 Seasons</td>\n      <td>TV Action &amp; Adventure, TV Comedies, TV Sci-Fi ...</td>\n      <td>This parody of first-person shooter games, mil...</td>\n    </tr>\n    <tr>\n      <th>7848</th>\n      <td>s7849</td>\n      <td>Movie</td>\n      <td>Refugee</td>\n      <td>Clementine Malpas, Leslie Knott</td>\n      <td>Cate Blanchett, Lynsey Addario, Omar Victor Di...</td>\n      <td>Unknown</td>\n      <td>March 10, 2017</td>\n      <td>2016</td>\n      <td>TV-PG</td>\n      <td>24 min</td>\n      <td>Documentaries</td>\n      <td>Five acclaimed photographers travel the world ...</td>\n    </tr>\n    <tr>\n      <th>8181</th>\n      <td>s8182</td>\n      <td>Movie</td>\n      <td>The Adventure Club</td>\n      <td>Geoff Anderson</td>\n      <td>Sam Ashe Arnold, Jakob Davies, Dalila Bela, Ro...</td>\n      <td>Canada</td>\n      <td>May 10, 2017</td>\n      <td>2016</td>\n      <td>TV-Y7</td>\n      <td>88 min</td>\n      <td>Children &amp; Family Movies</td>\n      <td>After finding a peculiar key, three smart and ...</td>\n    </tr>\n    <tr>\n      <th>8182</th>\n      <td>s8183</td>\n      <td>TV Show</td>\n      <td>The Adventures of Figaro Pho</td>\n      <td>Unavailable</td>\n      <td>Luke Jurevicius, Craig Behenna, Charlotte Haml...</td>\n      <td>Australia</td>\n      <td>NaN</td>\n      <td>2015</td>\n      <td>TV-Y7</td>\n      <td>2 Seasons</td>\n      <td>Kids' TV, TV Comedies</td>\n      <td>Imagine your worst fears, then multiply them: ...</td>\n    </tr>\n    <tr>\n      <th>8183</th>\n      <td>s8184</td>\n      <td>Movie</td>\n      <td>The Adventures of Sharkboy and Lavagirl</td>\n      <td>Robert Rodriguez</td>\n      <td>Taylor Lautner, Taylor Dooley, Cayden Boyd, Ge...</td>\n      <td>United States</td>\n      <td>December 2, 2020</td>\n      <td>2005</td>\n      <td>PG</td>\n      <td>93 min</td>\n      <td>Children &amp; Family Movies</td>\n      <td>A 10-year-old dreamer's imaginary friends – mi...</td>\n    </tr>\n  </tbody>\n</table>\n</div>"
     },
     "execution_count": 1007,
     "metadata": {},
     "output_type": "execute_result"
    }
   ],
   "source": [
    "# Returning null values rows together with adjacent rows to decide on the filling date\n",
    "# Whether to ffill or bfill\n",
    "\n",
    "null_indexes = df[df['date_added'].isnull()].index\n",
    "\n",
    "rows_to_include = []\n",
    "\n",
    "for index in null_indexes:\n",
    "    if index > 0:\n",
    "        rows_to_include.append(index - 1)\n",
    "    rows_to_include.append(index)\n",
    "    if index < len(df) - 1:\n",
    "        rows_to_include.append(index + 1)\n",
    "\n",
    "# iloc is used for integer-based indexing, selects rows at those indexes\n",
    "null_date_added_rows_plus_adjacent_ones = df.iloc[rows_to_include]\n",
    "null_date_added_rows_plus_adjacent_ones "
   ],
   "metadata": {
    "collapsed": false,
    "ExecuteTime": {
     "end_time": "2024-02-14T15:47:50.675254175Z",
     "start_time": "2024-02-14T15:47:50.610535288Z"
    }
   },
   "id": "f198074c19a4ee4f",
   "execution_count": 1007
  },
  {
   "cell_type": "code",
   "outputs": [
    {
     "data": {
      "text/plain": "Index([6066, 6174, 6795, 6806, 6901, 7196, 7254, 7406, 7847, 8182], dtype='int64')"
     },
     "execution_count": 1008,
     "metadata": {},
     "output_type": "execute_result"
    }
   ],
   "source": [
    "# Getting the indexes of the null values\n",
    "date_added_null_values_indexes = df[df['date_added'].isnull()].index\n",
    "date_added_null_values_indexes"
   ],
   "metadata": {
    "collapsed": false,
    "ExecuteTime": {
     "end_time": "2024-02-14T15:47:50.862358400Z",
     "start_time": "2024-02-14T15:47:50.662578019Z"
    }
   },
   "id": "e38de80b05773984",
   "execution_count": 1008
  },
  {
   "cell_type": "code",
   "outputs": [
    {
     "data": {
      "text/plain": "0    September 25, 2021\n1    September 24, 2021\n2    September 24, 2021\n3    September 24, 2021\n4    September 24, 2021\nName: date_added, dtype: object"
     },
     "execution_count": 1009,
     "metadata": {},
     "output_type": "execute_result"
    }
   ],
   "source": [
    "# Check date format\n",
    "df['date_added'].head()"
   ],
   "metadata": {
    "collapsed": false,
    "ExecuteTime": {
     "end_time": "2024-02-14T15:47:50.891393472Z",
     "start_time": "2024-02-14T15:47:50.786651518Z"
    }
   },
   "id": "f5e6d9d7cc434b99",
   "execution_count": 1009
  },
  {
   "cell_type": "code",
   "outputs": [
    {
     "data": {
      "text/plain": "str"
     },
     "execution_count": 1010,
     "metadata": {},
     "output_type": "execute_result"
    }
   ],
   "source": [
    "# Check if it's type date\n",
    "type(df['date_added'][0])"
   ],
   "metadata": {
    "collapsed": false,
    "ExecuteTime": {
     "end_time": "2024-02-14T15:47:51.063910434Z",
     "start_time": "2024-02-14T15:47:50.851107969Z"
    }
   },
   "id": "6804f985a782c630",
   "execution_count": 1010
  },
  {
   "cell_type": "code",
   "outputs": [],
   "source": [
    "# Since it's a string. Convert values in the column to datetime objects\n",
    "# df['date_added'] = pd.to_datetime(df['date_added'], format='%B %d, %Y', errors=\"coerce\")\n",
    "df['date_added'] = pd.to_datetime(df['date_added'], format='mixed', dayfirst=True)\n",
    "\n",
    "# Check if type has changed\n",
    "# type(df['date_added'][0])"
   ],
   "metadata": {
    "collapsed": false,
    "ExecuteTime": {
     "end_time": "2024-02-14T15:47:51.148284489Z",
     "start_time": "2024-02-14T15:47:50.905617072Z"
    }
   },
   "id": "90ef47ac9749ad55",
   "execution_count": 1011
  },
  {
   "cell_type": "code",
   "outputs": [
    {
     "data": {
      "text/plain": "<DatetimeArray>\n['2021-09-25 00:00:00', '2021-09-24 00:00:00', '2021-09-23 00:00:00',\n '2021-09-22 00:00:00', '2021-09-21 00:00:00', '2021-09-20 00:00:00',\n '2021-09-19 00:00:00', '2021-09-17 00:00:00', '2021-09-16 00:00:00',\n '2021-09-15 00:00:00',\n ...\n '2018-09-27 00:00:00', '2017-03-23 00:00:00', '2016-12-25 00:00:00',\n '2016-11-30 00:00:00', '2017-10-23 00:00:00', '2017-11-04 00:00:00',\n '2015-08-05 00:00:00', '2018-12-06 00:00:00', '2016-03-09 00:00:00',\n '2020-01-11 00:00:00']\nLength: 1715, dtype: datetime64[ns]"
     },
     "execution_count": 1012,
     "metadata": {},
     "output_type": "execute_result"
    }
   ],
   "source": [
    "df['date_added'].unique()"
   ],
   "metadata": {
    "collapsed": false,
    "ExecuteTime": {
     "end_time": "2024-02-14T15:47:51.192855725Z",
     "start_time": "2024-02-14T15:47:51.150216570Z"
    }
   },
   "id": "2dbddcb6f32a75bb",
   "execution_count": 1012
  },
  {
   "cell_type": "code",
   "outputs": [
    {
     "data": {
      "text/plain": "Index([6066, 6174, 6795, 6806, 6901, 7196, 7254, 7406, 7847, 8182], dtype='int64')"
     },
     "execution_count": 1013,
     "metadata": {},
     "output_type": "execute_result"
    }
   ],
   "source": [
    "# Confirming that only the original null values indexes still exist\n",
    "date_added_null_values_indexes = df[df['date_added'].isnull()].index\n",
    "date_added_null_values_indexes"
   ],
   "metadata": {
    "collapsed": false,
    "ExecuteTime": {
     "end_time": "2024-02-14T15:47:51.248657283Z",
     "start_time": "2024-02-14T15:47:51.192621838Z"
    }
   },
   "id": "45f1782d3e5a0758",
   "execution_count": 1013
  },
  {
   "cell_type": "code",
   "outputs": [
    {
     "data": {
      "text/plain": "10"
     },
     "execution_count": 1014,
     "metadata": {},
     "output_type": "execute_result"
    }
   ],
   "source": [
    "# Getting the count of null values\n",
    "null_vals_date_added_col = df['date_added'].isnull().sum()\n",
    "null_vals_date_added_col"
   ],
   "metadata": {
    "collapsed": false,
    "ExecuteTime": {
     "end_time": "2024-02-14T15:47:51.316790716Z",
     "start_time": "2024-02-14T15:47:51.247591819Z"
    }
   },
   "id": "55a95a60a17ff60f",
   "execution_count": 1014
  },
  {
   "cell_type": "code",
   "outputs": [
    {
     "data": {
      "text/plain": "pandas._libs.tslibs.timestamps.Timestamp"
     },
     "execution_count": 1015,
     "metadata": {},
     "output_type": "execute_result"
    }
   ],
   "source": [
    "# Checking the type of converted time column values\n",
    "type(df['date_added'][0])"
   ],
   "metadata": {
    "collapsed": false,
    "ExecuteTime": {
     "end_time": "2024-02-14T15:47:51.391131619Z",
     "start_time": "2024-02-14T15:47:51.316674559Z"
    }
   },
   "id": "e6b35ce5159fd104",
   "execution_count": 1015
  },
  {
   "cell_type": "code",
   "outputs": [],
   "source": [
    "# Interpolate the null date values\n",
    "df['date_added'] = df['date_added'].interpolate(method='linear')"
   ],
   "metadata": {
    "collapsed": false,
    "ExecuteTime": {
     "end_time": "2024-02-14T15:47:51.505668988Z",
     "start_time": "2024-02-14T15:47:51.391143262Z"
    }
   },
   "id": "296424f8ed256a20",
   "execution_count": 1016
  },
  {
   "cell_type": "code",
   "outputs": [
    {
     "data": {
      "text/plain": "0"
     },
     "execution_count": 1017,
     "metadata": {},
     "output_type": "execute_result"
    }
   ],
   "source": [
    "# Getting the count of null values\n",
    "null_vals_date_added_col = df['date_added'].isnull().sum()\n",
    "null_vals_date_added_col "
   ],
   "metadata": {
    "collapsed": false,
    "ExecuteTime": {
     "end_time": "2024-02-14T15:47:51.558203318Z",
     "start_time": "2024-02-14T15:47:51.508253014Z"
    }
   },
   "id": "b6e2c17dfc5a2d9c",
   "execution_count": 1017
  },
  {
   "cell_type": "code",
   "outputs": [
    {
     "data": {
      "text/plain": "     show_id     type                                         title  \\\n6065   s6066    Movie                             A Wrinkle in Time   \n6066   s6067  TV Show   A Young Doctor's Notebook and Other Stories   \n6067   s6068  TV Show                       A.D. Kingdom and Empire   \n6173   s6174    Movie                        Antariksha Ke Rakhwale   \n6174   s6175  TV Show               Anthony Bourdain: Parts Unknown   \n6175   s6176    Movie                                      Antidote   \n6794   s6795    Movie                                    Frances Ha   \n6795   s6796  TV Show                                       Frasier   \n6796   s6797    Movie                                    Freak Show   \n6805   s6806    Movie                                Friend Request   \n6806   s6807  TV Show                                       Friends   \n6807   s6808    Movie                           From Japan to Egypt   \n6900   s6901    Movie                                   Gun Runners   \n6901   s6902  TV Show                               Gunslinger Girl   \n6902   s6903    Movie  Guy Martin: Last Flight of the Vulcan Bomber   \n7195   s7196    Movie                       Kidnapping Mr. Heineken   \n7196   s7197  TV Show                                      Kikoriki   \n7197   s7198    Movie                             Kill Bill: Vol. 1   \n7253   s7254    Movie                        La Coppia dei Campioni   \n7254   s7255  TV Show                           La Familia P. Luche   \n7255   s7256  TV Show                                      La Femme   \n7405   s7406    Movie              Mark Gatiss: A Study in Sherlock   \n7406   s7407  TV Show                                         Maron   \n7407   s7408    Movie                                        Maroon   \n7846   s7847    Movie                                     Red Trees   \n7847   s7848  TV Show                                  Red vs. Blue   \n7848   s7849    Movie                                       Refugee   \n8181   s8182    Movie                            The Adventure Club   \n8182   s8183  TV Show                  The Adventures of Figaro Pho   \n8183   s8184    Movie       The Adventures of Sharkboy and Lavagirl   \n\n                             director  \\\n6065                     Ava DuVernay   \n6066                      Unavailable   \n6067                      Unavailable   \n6173                 Anirban Majumder   \n6174                      Unavailable   \n6175                       Ken Barbet   \n6794                    Noah Baumbach   \n6795                      Unavailable   \n6796                    Trudie Styler   \n6805                  Simon Verhoeven   \n6806                      Unavailable   \n6807                    Mahmoud Karim   \n6900                     Anjali Nayar   \n6901                      Unavailable   \n6902                  James Woodroffe   \n7195                 Daniel Alfredson   \n7196                      Unavailable   \n7197                Quentin Tarantino   \n7253                      Giulio Base   \n7254                      Unavailable   \n7255                      Unavailable   \n7405                    Nathan Landeg   \n7406                      Unavailable   \n7407                           Pulkit   \n7846                    Marina Willer   \n7847                      Unavailable   \n7848  Clementine Malpas, Leslie Knott   \n8181                   Geoff Anderson   \n8182                      Unavailable   \n8183                 Robert Rodriguez   \n\n                                                   cast  \\\n6065  Storm Reid, Oprah Winfrey, Reese Witherspoon, ...   \n6066  Daniel Radcliffe, Jon Hamm, Adam Godley, Chris...   \n6067  Juan Pablo Di Pace, Adam Levy, Chipo Chung, Ba...   \n6173  Sonal Kaushal, Rupa Bhimani, Julie Tejwani, Sa...   \n6174                                   Anthony Bourdain   \n6175  Randy Couture, Chuck Zito, Wil Traval, Celeste...   \n6794  Greta Gerwig, Mickey Sumner, Charlotte d'Amboi...   \n6795  Kelsey Grammer, Jane Leeves, David Hyde Pierce...   \n6796  Alex Lawther, Abigail Breslin, AnnaSophia Robb...   \n6805  Alycia Debnam-Carey, William Moseley, Connor P...   \n6806  Jennifer Aniston, Courteney Cox, Lisa Kudrow, ...   \n6807  Ahmed Eid, Saki Tsukamoto, Nada Moussa, Mohamm...   \n6900                                        Unavailable   \n6901  Yuuka Nanri, Kanako Mitsuhashi, Eri Sendai, Am...   \n6902              Guy Martin, Kevin Stone, Shaun Dooley   \n7195  Jim Sturgess, Sam Worthington, Ryan Kwanten, A...   \n7196                                      Igor Dmitriev   \n7197  Uma Thurman, Lucy Liu, Vivica A. Fox, Daryl Ha...   \n7253  Massimo Boldi, Massimiliano Tortora, Anna Mari...   \n7254  Eugenio Derbez, Consuelo Duval, Luis Manuel Áv...   \n7255  Zoe Tay, Ann Kok, Tiffany Leong, Tay Ping Hui,...   \n7405  Benedict Cumberbatch, Martin Freeman, Una Stub...   \n7406  Marc Maron, Judd Hirsch, Josh Brener, Nora Zeh...   \n7407  Manav Kaul, Devyani Cm, Saurabh Sachdeva, Sari...   \n7846                                  Tim Piggott-Smith   \n7847  Burnie Burns, Jason Saldaña, Gustavo Sorola, G...   \n7848  Cate Blanchett, Lynsey Addario, Omar Victor Di...   \n8181  Sam Ashe Arnold, Jakob Davies, Dalila Bela, Ro...   \n8182  Luke Jurevicius, Craig Behenna, Charlotte Haml...   \n8183  Taylor Lautner, Taylor Dooley, Cayden Boyd, Ge...   \n\n                                                country          date_added  \\\n6065                                      United States 2018-09-25 00:00:00   \n6066                                     United Kingdom 2018-05-06 00:00:00   \n6067                                      United States 2017-12-15 00:00:00   \n6173                                            Unknown 2019-06-18 00:00:00   \n6174                                      United States 2019-05-16 12:00:00   \n6175                                      United States 2019-04-14 00:00:00   \n6794                              United States, Brazil 2017-10-01 00:00:00   \n6795                                      United States 2019-03-08 12:00:00   \n6796                                      United States 2020-08-13 00:00:00   \n6805                                            Germany 2018-04-18 00:00:00   \n6806                                      United States 2018-11-11 00:00:00   \n6807                                              Egypt 2019-06-06 00:00:00   \n6900                                             Canada 2017-02-01 00:00:00   \n6901                                              Japan 2018-04-29 12:00:00   \n6902                                     United Kingdom 2019-07-26 00:00:00   \n7195  Netherlands, Belgium, United Kingdom, United S... 2017-09-08 00:00:00   \n7196                                            Unknown 2018-11-04 12:00:00   \n7197                               United States, Japan 2020-01-01 00:00:00   \n7253                                              Italy 2017-02-15 00:00:00   \n7254                                      United States 2017-06-16 12:00:00   \n7255                                            Unknown 2017-10-16 00:00:00   \n7405                                            Unknown 2016-05-01 00:00:00   \n7406                                      United States 2016-09-16 00:00:00   \n7407                                              India 2017-02-01 00:00:00   \n7846                                     United Kingdom 2018-03-24 00:00:00   \n7847                                      United States 2017-09-15 12:00:00   \n7848                                            Unknown 2017-03-10 00:00:00   \n8181                                             Canada 2017-05-10 00:00:00   \n8182                                          Australia 2019-02-20 00:00:00   \n8183                                      United States 2020-12-02 00:00:00   \n\n      release_year rating    duration  \\\n6065          2018     PG     110 min   \n6066          2013  TV-MA   2 Seasons   \n6067          2015  TV-14    1 Season   \n6173          2018  TV-Y7      65 min   \n6174          2018  TV-PG   5 Seasons   \n6175          2018  TV-MA      90 min   \n6794          2012      R      86 min   \n6795          2003  TV-PG  11 Seasons   \n6796          2018  TV-MA      91 min   \n6805          2016      R      92 min   \n6806          2003  TV-14  10 Seasons   \n6807          2017  TV-14      93 min   \n6900          2015  TV-PG      90 min   \n6901          2008  TV-14   2 Seasons   \n6902          2015   TV-G      57 min   \n7195          2015      R      95 min   \n7196          2010   TV-Y   2 Seasons   \n7197          2003      R     111 min   \n7253          2016  TV-MA      88 min   \n7254          2012  TV-14   3 Seasons   \n7255          2016  TV-14    1 Season   \n7405          2016  TV-14      29 min   \n7406          2016  TV-MA   4 Seasons   \n7407          2016  TV-MA      94 min   \n7846          2017  TV-PG      80 min   \n7847          2015     NR  13 Seasons   \n7848          2016  TV-PG      24 min   \n8181          2016  TV-Y7      88 min   \n8182          2015  TV-Y7   2 Seasons   \n8183          2005     PG      93 min   \n\n                                              listed_in  \\\n6065                           Children & Family Movies   \n6066           British TV Shows, TV Comedies, TV Dramas   \n6067                                          TV Dramas   \n6173                           Children & Family Movies   \n6174                                         Docuseries   \n6175                  Action & Adventure, Horror Movies   \n6794               Comedies, Dramas, Independent Movies   \n6795                     Classic & Cult TV, TV Comedies   \n6796               Comedies, Dramas, Independent Movies   \n6805                Horror Movies, International Movies   \n6806                     Classic & Cult TV, TV Comedies   \n6807         Children & Family Movies, Comedies, Dramas   \n6900  Documentaries, International Movies, Sports Mo...   \n6901                       Anime Series, Crime TV Shows   \n6902                Documentaries, International Movies   \n7195   Action & Adventure, Dramas, International Movies   \n7196                                           Kids' TV   \n7197                                 Action & Adventure   \n7253                     Comedies, International Movies   \n7254  International TV Shows, Spanish-Language TV Sh...   \n7255                  International TV Shows, TV Dramas   \n7405                                             Movies   \n7406                                        TV Comedies   \n7407   Dramas, Independent Movies, International Movies   \n7846                Documentaries, International Movies   \n7847  TV Action & Adventure, TV Comedies, TV Sci-Fi ...   \n7848                                      Documentaries   \n8181                           Children & Family Movies   \n8182                              Kids' TV, TV Comedies   \n8183                           Children & Family Movies   \n\n                                            description  \n6065  Years after their father disappears, Meg and h...  \n6066  Set during the Russian Revolution, this comic ...  \n6067  In the wake of Jesus Christ's crucifixion, his...  \n6173  Space villains have abducted all the superhero...  \n6174  This CNN original series has chef Anthony Bour...  \n6175  A tough-as-nails treasure hunter protects a hu...  \n6794  Determined to make it as a modern dancer in Ne...  \n6795  Frasier Crane is a snooty but lovable Seattle ...  \n6796  Forced to attend a new high school, a glamorou...  \n6805  A popular college student's love of social med...  \n6806  This hit sitcom follows the merry misadventure...  \n6807  After his wife relocates to her home country o...  \n6900  Two roaming Kenyan bandits attempt to change t...  \n6901  On the surface, the Social Welfare Agency appe...  \n6902  Guy Martin assists in preparing the last airwo...  \n7195  When beer magnate Alfred \"Freddy\" Heineken is ...  \n7196  A wacky rabbit and his gang of animal pals hav...  \n7197  An assassin is shot by her ruthless employer, ...  \n7253  After winning a shared trip to a soccer match,...  \n7254  This irreverent sitcom featues Ludovico, Feder...  \n7255  Personal desires guide the lives of a marriage...  \n7405  Mark Gatiss, who co-created “Sherlock” and pla...  \n7406  Marc Maron stars as Marc Maron, who interviews...  \n7407  When his wife goes missing, university profess...  \n7846  A documentarian details her Jewish family's es...  \n7847  This parody of first-person shooter games, mil...  \n7848  Five acclaimed photographers travel the world ...  \n8181  After finding a peculiar key, three smart and ...  \n8182  Imagine your worst fears, then multiply them: ...  \n8183  A 10-year-old dreamer's imaginary friends – mi...  ",
      "text/html": "<div>\n<style scoped>\n    .dataframe tbody tr th:only-of-type {\n        vertical-align: middle;\n    }\n\n    .dataframe tbody tr th {\n        vertical-align: top;\n    }\n\n    .dataframe thead th {\n        text-align: right;\n    }\n</style>\n<table border=\"1\" class=\"dataframe\">\n  <thead>\n    <tr style=\"text-align: right;\">\n      <th></th>\n      <th>show_id</th>\n      <th>type</th>\n      <th>title</th>\n      <th>director</th>\n      <th>cast</th>\n      <th>country</th>\n      <th>date_added</th>\n      <th>release_year</th>\n      <th>rating</th>\n      <th>duration</th>\n      <th>listed_in</th>\n      <th>description</th>\n    </tr>\n  </thead>\n  <tbody>\n    <tr>\n      <th>6065</th>\n      <td>s6066</td>\n      <td>Movie</td>\n      <td>A Wrinkle in Time</td>\n      <td>Ava DuVernay</td>\n      <td>Storm Reid, Oprah Winfrey, Reese Witherspoon, ...</td>\n      <td>United States</td>\n      <td>2018-09-25 00:00:00</td>\n      <td>2018</td>\n      <td>PG</td>\n      <td>110 min</td>\n      <td>Children &amp; Family Movies</td>\n      <td>Years after their father disappears, Meg and h...</td>\n    </tr>\n    <tr>\n      <th>6066</th>\n      <td>s6067</td>\n      <td>TV Show</td>\n      <td>A Young Doctor's Notebook and Other Stories</td>\n      <td>Unavailable</td>\n      <td>Daniel Radcliffe, Jon Hamm, Adam Godley, Chris...</td>\n      <td>United Kingdom</td>\n      <td>2018-05-06 00:00:00</td>\n      <td>2013</td>\n      <td>TV-MA</td>\n      <td>2 Seasons</td>\n      <td>British TV Shows, TV Comedies, TV Dramas</td>\n      <td>Set during the Russian Revolution, this comic ...</td>\n    </tr>\n    <tr>\n      <th>6067</th>\n      <td>s6068</td>\n      <td>TV Show</td>\n      <td>A.D. Kingdom and Empire</td>\n      <td>Unavailable</td>\n      <td>Juan Pablo Di Pace, Adam Levy, Chipo Chung, Ba...</td>\n      <td>United States</td>\n      <td>2017-12-15 00:00:00</td>\n      <td>2015</td>\n      <td>TV-14</td>\n      <td>1 Season</td>\n      <td>TV Dramas</td>\n      <td>In the wake of Jesus Christ's crucifixion, his...</td>\n    </tr>\n    <tr>\n      <th>6173</th>\n      <td>s6174</td>\n      <td>Movie</td>\n      <td>Antariksha Ke Rakhwale</td>\n      <td>Anirban Majumder</td>\n      <td>Sonal Kaushal, Rupa Bhimani, Julie Tejwani, Sa...</td>\n      <td>Unknown</td>\n      <td>2019-06-18 00:00:00</td>\n      <td>2018</td>\n      <td>TV-Y7</td>\n      <td>65 min</td>\n      <td>Children &amp; Family Movies</td>\n      <td>Space villains have abducted all the superhero...</td>\n    </tr>\n    <tr>\n      <th>6174</th>\n      <td>s6175</td>\n      <td>TV Show</td>\n      <td>Anthony Bourdain: Parts Unknown</td>\n      <td>Unavailable</td>\n      <td>Anthony Bourdain</td>\n      <td>United States</td>\n      <td>2019-05-16 12:00:00</td>\n      <td>2018</td>\n      <td>TV-PG</td>\n      <td>5 Seasons</td>\n      <td>Docuseries</td>\n      <td>This CNN original series has chef Anthony Bour...</td>\n    </tr>\n    <tr>\n      <th>6175</th>\n      <td>s6176</td>\n      <td>Movie</td>\n      <td>Antidote</td>\n      <td>Ken Barbet</td>\n      <td>Randy Couture, Chuck Zito, Wil Traval, Celeste...</td>\n      <td>United States</td>\n      <td>2019-04-14 00:00:00</td>\n      <td>2018</td>\n      <td>TV-MA</td>\n      <td>90 min</td>\n      <td>Action &amp; Adventure, Horror Movies</td>\n      <td>A tough-as-nails treasure hunter protects a hu...</td>\n    </tr>\n    <tr>\n      <th>6794</th>\n      <td>s6795</td>\n      <td>Movie</td>\n      <td>Frances Ha</td>\n      <td>Noah Baumbach</td>\n      <td>Greta Gerwig, Mickey Sumner, Charlotte d'Amboi...</td>\n      <td>United States, Brazil</td>\n      <td>2017-10-01 00:00:00</td>\n      <td>2012</td>\n      <td>R</td>\n      <td>86 min</td>\n      <td>Comedies, Dramas, Independent Movies</td>\n      <td>Determined to make it as a modern dancer in Ne...</td>\n    </tr>\n    <tr>\n      <th>6795</th>\n      <td>s6796</td>\n      <td>TV Show</td>\n      <td>Frasier</td>\n      <td>Unavailable</td>\n      <td>Kelsey Grammer, Jane Leeves, David Hyde Pierce...</td>\n      <td>United States</td>\n      <td>2019-03-08 12:00:00</td>\n      <td>2003</td>\n      <td>TV-PG</td>\n      <td>11 Seasons</td>\n      <td>Classic &amp; Cult TV, TV Comedies</td>\n      <td>Frasier Crane is a snooty but lovable Seattle ...</td>\n    </tr>\n    <tr>\n      <th>6796</th>\n      <td>s6797</td>\n      <td>Movie</td>\n      <td>Freak Show</td>\n      <td>Trudie Styler</td>\n      <td>Alex Lawther, Abigail Breslin, AnnaSophia Robb...</td>\n      <td>United States</td>\n      <td>2020-08-13 00:00:00</td>\n      <td>2018</td>\n      <td>TV-MA</td>\n      <td>91 min</td>\n      <td>Comedies, Dramas, Independent Movies</td>\n      <td>Forced to attend a new high school, a glamorou...</td>\n    </tr>\n    <tr>\n      <th>6805</th>\n      <td>s6806</td>\n      <td>Movie</td>\n      <td>Friend Request</td>\n      <td>Simon Verhoeven</td>\n      <td>Alycia Debnam-Carey, William Moseley, Connor P...</td>\n      <td>Germany</td>\n      <td>2018-04-18 00:00:00</td>\n      <td>2016</td>\n      <td>R</td>\n      <td>92 min</td>\n      <td>Horror Movies, International Movies</td>\n      <td>A popular college student's love of social med...</td>\n    </tr>\n    <tr>\n      <th>6806</th>\n      <td>s6807</td>\n      <td>TV Show</td>\n      <td>Friends</td>\n      <td>Unavailable</td>\n      <td>Jennifer Aniston, Courteney Cox, Lisa Kudrow, ...</td>\n      <td>United States</td>\n      <td>2018-11-11 00:00:00</td>\n      <td>2003</td>\n      <td>TV-14</td>\n      <td>10 Seasons</td>\n      <td>Classic &amp; Cult TV, TV Comedies</td>\n      <td>This hit sitcom follows the merry misadventure...</td>\n    </tr>\n    <tr>\n      <th>6807</th>\n      <td>s6808</td>\n      <td>Movie</td>\n      <td>From Japan to Egypt</td>\n      <td>Mahmoud Karim</td>\n      <td>Ahmed Eid, Saki Tsukamoto, Nada Moussa, Mohamm...</td>\n      <td>Egypt</td>\n      <td>2019-06-06 00:00:00</td>\n      <td>2017</td>\n      <td>TV-14</td>\n      <td>93 min</td>\n      <td>Children &amp; Family Movies, Comedies, Dramas</td>\n      <td>After his wife relocates to her home country o...</td>\n    </tr>\n    <tr>\n      <th>6900</th>\n      <td>s6901</td>\n      <td>Movie</td>\n      <td>Gun Runners</td>\n      <td>Anjali Nayar</td>\n      <td>Unavailable</td>\n      <td>Canada</td>\n      <td>2017-02-01 00:00:00</td>\n      <td>2015</td>\n      <td>TV-PG</td>\n      <td>90 min</td>\n      <td>Documentaries, International Movies, Sports Mo...</td>\n      <td>Two roaming Kenyan bandits attempt to change t...</td>\n    </tr>\n    <tr>\n      <th>6901</th>\n      <td>s6902</td>\n      <td>TV Show</td>\n      <td>Gunslinger Girl</td>\n      <td>Unavailable</td>\n      <td>Yuuka Nanri, Kanako Mitsuhashi, Eri Sendai, Am...</td>\n      <td>Japan</td>\n      <td>2018-04-29 12:00:00</td>\n      <td>2008</td>\n      <td>TV-14</td>\n      <td>2 Seasons</td>\n      <td>Anime Series, Crime TV Shows</td>\n      <td>On the surface, the Social Welfare Agency appe...</td>\n    </tr>\n    <tr>\n      <th>6902</th>\n      <td>s6903</td>\n      <td>Movie</td>\n      <td>Guy Martin: Last Flight of the Vulcan Bomber</td>\n      <td>James Woodroffe</td>\n      <td>Guy Martin, Kevin Stone, Shaun Dooley</td>\n      <td>United Kingdom</td>\n      <td>2019-07-26 00:00:00</td>\n      <td>2015</td>\n      <td>TV-G</td>\n      <td>57 min</td>\n      <td>Documentaries, International Movies</td>\n      <td>Guy Martin assists in preparing the last airwo...</td>\n    </tr>\n    <tr>\n      <th>7195</th>\n      <td>s7196</td>\n      <td>Movie</td>\n      <td>Kidnapping Mr. Heineken</td>\n      <td>Daniel Alfredson</td>\n      <td>Jim Sturgess, Sam Worthington, Ryan Kwanten, A...</td>\n      <td>Netherlands, Belgium, United Kingdom, United S...</td>\n      <td>2017-09-08 00:00:00</td>\n      <td>2015</td>\n      <td>R</td>\n      <td>95 min</td>\n      <td>Action &amp; Adventure, Dramas, International Movies</td>\n      <td>When beer magnate Alfred \"Freddy\" Heineken is ...</td>\n    </tr>\n    <tr>\n      <th>7196</th>\n      <td>s7197</td>\n      <td>TV Show</td>\n      <td>Kikoriki</td>\n      <td>Unavailable</td>\n      <td>Igor Dmitriev</td>\n      <td>Unknown</td>\n      <td>2018-11-04 12:00:00</td>\n      <td>2010</td>\n      <td>TV-Y</td>\n      <td>2 Seasons</td>\n      <td>Kids' TV</td>\n      <td>A wacky rabbit and his gang of animal pals hav...</td>\n    </tr>\n    <tr>\n      <th>7197</th>\n      <td>s7198</td>\n      <td>Movie</td>\n      <td>Kill Bill: Vol. 1</td>\n      <td>Quentin Tarantino</td>\n      <td>Uma Thurman, Lucy Liu, Vivica A. Fox, Daryl Ha...</td>\n      <td>United States, Japan</td>\n      <td>2020-01-01 00:00:00</td>\n      <td>2003</td>\n      <td>R</td>\n      <td>111 min</td>\n      <td>Action &amp; Adventure</td>\n      <td>An assassin is shot by her ruthless employer, ...</td>\n    </tr>\n    <tr>\n      <th>7253</th>\n      <td>s7254</td>\n      <td>Movie</td>\n      <td>La Coppia dei Campioni</td>\n      <td>Giulio Base</td>\n      <td>Massimo Boldi, Massimiliano Tortora, Anna Mari...</td>\n      <td>Italy</td>\n      <td>2017-02-15 00:00:00</td>\n      <td>2016</td>\n      <td>TV-MA</td>\n      <td>88 min</td>\n      <td>Comedies, International Movies</td>\n      <td>After winning a shared trip to a soccer match,...</td>\n    </tr>\n    <tr>\n      <th>7254</th>\n      <td>s7255</td>\n      <td>TV Show</td>\n      <td>La Familia P. Luche</td>\n      <td>Unavailable</td>\n      <td>Eugenio Derbez, Consuelo Duval, Luis Manuel Áv...</td>\n      <td>United States</td>\n      <td>2017-06-16 12:00:00</td>\n      <td>2012</td>\n      <td>TV-14</td>\n      <td>3 Seasons</td>\n      <td>International TV Shows, Spanish-Language TV Sh...</td>\n      <td>This irreverent sitcom featues Ludovico, Feder...</td>\n    </tr>\n    <tr>\n      <th>7255</th>\n      <td>s7256</td>\n      <td>TV Show</td>\n      <td>La Femme</td>\n      <td>Unavailable</td>\n      <td>Zoe Tay, Ann Kok, Tiffany Leong, Tay Ping Hui,...</td>\n      <td>Unknown</td>\n      <td>2017-10-16 00:00:00</td>\n      <td>2016</td>\n      <td>TV-14</td>\n      <td>1 Season</td>\n      <td>International TV Shows, TV Dramas</td>\n      <td>Personal desires guide the lives of a marriage...</td>\n    </tr>\n    <tr>\n      <th>7405</th>\n      <td>s7406</td>\n      <td>Movie</td>\n      <td>Mark Gatiss: A Study in Sherlock</td>\n      <td>Nathan Landeg</td>\n      <td>Benedict Cumberbatch, Martin Freeman, Una Stub...</td>\n      <td>Unknown</td>\n      <td>2016-05-01 00:00:00</td>\n      <td>2016</td>\n      <td>TV-14</td>\n      <td>29 min</td>\n      <td>Movies</td>\n      <td>Mark Gatiss, who co-created “Sherlock” and pla...</td>\n    </tr>\n    <tr>\n      <th>7406</th>\n      <td>s7407</td>\n      <td>TV Show</td>\n      <td>Maron</td>\n      <td>Unavailable</td>\n      <td>Marc Maron, Judd Hirsch, Josh Brener, Nora Zeh...</td>\n      <td>United States</td>\n      <td>2016-09-16 00:00:00</td>\n      <td>2016</td>\n      <td>TV-MA</td>\n      <td>4 Seasons</td>\n      <td>TV Comedies</td>\n      <td>Marc Maron stars as Marc Maron, who interviews...</td>\n    </tr>\n    <tr>\n      <th>7407</th>\n      <td>s7408</td>\n      <td>Movie</td>\n      <td>Maroon</td>\n      <td>Pulkit</td>\n      <td>Manav Kaul, Devyani Cm, Saurabh Sachdeva, Sari...</td>\n      <td>India</td>\n      <td>2017-02-01 00:00:00</td>\n      <td>2016</td>\n      <td>TV-MA</td>\n      <td>94 min</td>\n      <td>Dramas, Independent Movies, International Movies</td>\n      <td>When his wife goes missing, university profess...</td>\n    </tr>\n    <tr>\n      <th>7846</th>\n      <td>s7847</td>\n      <td>Movie</td>\n      <td>Red Trees</td>\n      <td>Marina Willer</td>\n      <td>Tim Piggott-Smith</td>\n      <td>United Kingdom</td>\n      <td>2018-03-24 00:00:00</td>\n      <td>2017</td>\n      <td>TV-PG</td>\n      <td>80 min</td>\n      <td>Documentaries, International Movies</td>\n      <td>A documentarian details her Jewish family's es...</td>\n    </tr>\n    <tr>\n      <th>7847</th>\n      <td>s7848</td>\n      <td>TV Show</td>\n      <td>Red vs. Blue</td>\n      <td>Unavailable</td>\n      <td>Burnie Burns, Jason Saldaña, Gustavo Sorola, G...</td>\n      <td>United States</td>\n      <td>2017-09-15 12:00:00</td>\n      <td>2015</td>\n      <td>NR</td>\n      <td>13 Seasons</td>\n      <td>TV Action &amp; Adventure, TV Comedies, TV Sci-Fi ...</td>\n      <td>This parody of first-person shooter games, mil...</td>\n    </tr>\n    <tr>\n      <th>7848</th>\n      <td>s7849</td>\n      <td>Movie</td>\n      <td>Refugee</td>\n      <td>Clementine Malpas, Leslie Knott</td>\n      <td>Cate Blanchett, Lynsey Addario, Omar Victor Di...</td>\n      <td>Unknown</td>\n      <td>2017-03-10 00:00:00</td>\n      <td>2016</td>\n      <td>TV-PG</td>\n      <td>24 min</td>\n      <td>Documentaries</td>\n      <td>Five acclaimed photographers travel the world ...</td>\n    </tr>\n    <tr>\n      <th>8181</th>\n      <td>s8182</td>\n      <td>Movie</td>\n      <td>The Adventure Club</td>\n      <td>Geoff Anderson</td>\n      <td>Sam Ashe Arnold, Jakob Davies, Dalila Bela, Ro...</td>\n      <td>Canada</td>\n      <td>2017-05-10 00:00:00</td>\n      <td>2016</td>\n      <td>TV-Y7</td>\n      <td>88 min</td>\n      <td>Children &amp; Family Movies</td>\n      <td>After finding a peculiar key, three smart and ...</td>\n    </tr>\n    <tr>\n      <th>8182</th>\n      <td>s8183</td>\n      <td>TV Show</td>\n      <td>The Adventures of Figaro Pho</td>\n      <td>Unavailable</td>\n      <td>Luke Jurevicius, Craig Behenna, Charlotte Haml...</td>\n      <td>Australia</td>\n      <td>2019-02-20 00:00:00</td>\n      <td>2015</td>\n      <td>TV-Y7</td>\n      <td>2 Seasons</td>\n      <td>Kids' TV, TV Comedies</td>\n      <td>Imagine your worst fears, then multiply them: ...</td>\n    </tr>\n    <tr>\n      <th>8183</th>\n      <td>s8184</td>\n      <td>Movie</td>\n      <td>The Adventures of Sharkboy and Lavagirl</td>\n      <td>Robert Rodriguez</td>\n      <td>Taylor Lautner, Taylor Dooley, Cayden Boyd, Ge...</td>\n      <td>United States</td>\n      <td>2020-12-02 00:00:00</td>\n      <td>2005</td>\n      <td>PG</td>\n      <td>93 min</td>\n      <td>Children &amp; Family Movies</td>\n      <td>A 10-year-old dreamer's imaginary friends – mi...</td>\n    </tr>\n  </tbody>\n</table>\n</div>"
     },
     "execution_count": 1018,
     "metadata": {},
     "output_type": "execute_result"
    }
   ],
   "source": [
    "# iloc is used for integer-based indexing, selects rows at those indexes\n",
    "null_date_added_rows_plus_adjacent_ones = df.iloc[rows_to_include]\n",
    "null_date_added_rows_plus_adjacent_ones "
   ],
   "metadata": {
    "collapsed": false,
    "ExecuteTime": {
     "end_time": "2024-02-14T15:47:51.642349665Z",
     "start_time": "2024-02-14T15:47:51.560223625Z"
    }
   },
   "id": "5eaa479ad1fb4b9d",
   "execution_count": 1018
  },
  {
   "cell_type": "code",
   "outputs": [
    {
     "data": {
      "text/plain": "datetime.date"
     },
     "execution_count": 1019,
     "metadata": {},
     "output_type": "execute_result"
    }
   ],
   "source": [
    "# Converting date_added col from Timestamp (date & time) to date only\n",
    "# after interpolating the null values\n",
    "df['date_added'] = df['date_added'].dt.date\n",
    "\n",
    "# Now checking the type of the converted column\n",
    "type(df['date_added'][0])"
   ],
   "metadata": {
    "collapsed": false,
    "ExecuteTime": {
     "end_time": "2024-02-14T15:47:51.805905345Z",
     "start_time": "2024-02-14T15:47:51.641075561Z"
    }
   },
   "id": "70f366dcf27152d5",
   "execution_count": 1019
  },
  {
   "cell_type": "code",
   "outputs": [
    {
     "data": {
      "text/plain": "0    2021-09-25\n1    2021-09-24\n2    2021-09-24\n3    2021-09-24\n4    2021-09-24\nName: date_added, dtype: object"
     },
     "execution_count": 1020,
     "metadata": {},
     "output_type": "execute_result"
    }
   ],
   "source": [
    "# Viewing the converted types\n",
    "df['date_added'].head()"
   ],
   "metadata": {
    "collapsed": false,
    "ExecuteTime": {
     "end_time": "2024-02-14T15:47:51.865996852Z",
     "start_time": "2024-02-14T15:47:51.692732097Z"
    }
   },
   "id": "2439b4159815f6a2",
   "execution_count": 1020
  },
  {
   "cell_type": "code",
   "outputs": [
    {
     "name": "stdout",
     "output_type": "stream",
     "text": [
      "<class 'pandas.core.frame.DataFrame'>\n",
      "RangeIndex: 8807 entries, 0 to 8806\n",
      "Data columns (total 12 columns):\n",
      " #   Column        Non-Null Count  Dtype \n",
      "---  ------        --------------  ----- \n",
      " 0   show_id       8807 non-null   object\n",
      " 1   type          8807 non-null   object\n",
      " 2   title         8807 non-null   object\n",
      " 3   director      8807 non-null   object\n",
      " 4   cast          8807 non-null   object\n",
      " 5   country       8807 non-null   object\n",
      " 6   date_added    8807 non-null   object\n",
      " 7   release_year  8807 non-null   int64 \n",
      " 8   rating        8803 non-null   object\n",
      " 9   duration      8804 non-null   object\n",
      " 10  listed_in     8807 non-null   object\n",
      " 11  description   8807 non-null   object\n",
      "dtypes: int64(1), object(11)\n",
      "memory usage: 825.8+ KB\n"
     ]
    }
   ],
   "source": [
    "df.info()"
   ],
   "metadata": {
    "collapsed": false,
    "ExecuteTime": {
     "end_time": "2024-02-14T15:47:51.898035059Z",
     "start_time": "2024-02-14T15:47:51.824861543Z"
    }
   },
   "id": "509b8c7191a9ed77",
   "execution_count": 1021
  },
  {
   "cell_type": "markdown",
   "source": [
    "## Dropping the null rows"
   ],
   "metadata": {
    "collapsed": false
   },
   "id": "949d8e74b7701d76"
  },
  {
   "cell_type": "code",
   "outputs": [],
   "source": [
    "df.dropna(inplace=True)"
   ],
   "metadata": {
    "collapsed": false,
    "ExecuteTime": {
     "end_time": "2024-02-14T15:47:51.986441196Z",
     "start_time": "2024-02-14T15:47:51.898384819Z"
    }
   },
   "id": "a4da81a4b645fae1",
   "execution_count": 1022
  },
  {
   "cell_type": "code",
   "outputs": [
    {
     "name": "stdout",
     "output_type": "stream",
     "text": [
      "<class 'pandas.core.frame.DataFrame'>\n",
      "Index: 8800 entries, 0 to 8806\n",
      "Data columns (total 12 columns):\n",
      " #   Column        Non-Null Count  Dtype \n",
      "---  ------        --------------  ----- \n",
      " 0   show_id       8800 non-null   object\n",
      " 1   type          8800 non-null   object\n",
      " 2   title         8800 non-null   object\n",
      " 3   director      8800 non-null   object\n",
      " 4   cast          8800 non-null   object\n",
      " 5   country       8800 non-null   object\n",
      " 6   date_added    8800 non-null   object\n",
      " 7   release_year  8800 non-null   int64 \n",
      " 8   rating        8800 non-null   object\n",
      " 9   duration      8800 non-null   object\n",
      " 10  listed_in     8800 non-null   object\n",
      " 11  description   8800 non-null   object\n",
      "dtypes: int64(1), object(11)\n",
      "memory usage: 893.8+ KB\n"
     ]
    }
   ],
   "source": [
    "df.info()"
   ],
   "metadata": {
    "collapsed": false,
    "ExecuteTime": {
     "end_time": "2024-02-14T15:47:52.091625607Z",
     "start_time": "2024-02-14T15:47:51.986611407Z"
    }
   },
   "id": "93aef7fc6385f90b",
   "execution_count": 1023
  },
  {
   "cell_type": "code",
   "outputs": [
    {
     "data": {
      "text/plain": "0       90 min\n1    2 Seasons\n2     1 Season\n3     1 Season\n4    2 Seasons\nName: duration, dtype: object"
     },
     "execution_count": 1024,
     "metadata": {},
     "output_type": "execute_result"
    }
   ],
   "source": [
    "# Convert movies duration to minutes\n",
    "df.duration.head()"
   ],
   "metadata": {
    "collapsed": false,
    "ExecuteTime": {
     "end_time": "2024-02-14T15:47:52.150875281Z",
     "start_time": "2024-02-14T15:47:52.090650385Z"
    }
   },
   "id": "28196175c599f76",
   "execution_count": 1024
  },
  {
   "cell_type": "markdown",
   "source": [
    "## Drop the show_id column "
   ],
   "metadata": {
    "collapsed": false
   },
   "id": "9142991002a934f6"
  },
  {
   "cell_type": "code",
   "outputs": [],
   "source": [
    "df = df.drop(['show_id'], axis=1)"
   ],
   "metadata": {
    "collapsed": false,
    "ExecuteTime": {
     "end_time": "2024-02-14T15:47:52.207703325Z",
     "start_time": "2024-02-14T15:47:52.150372322Z"
    }
   },
   "id": "240d4d3005fcfde2",
   "execution_count": 1025
  },
  {
   "cell_type": "markdown",
   "source": [
    "## Cleaning the 'country' column"
   ],
   "metadata": {
    "collapsed": false
   },
   "id": "eb2df67a61436d8a"
  },
  {
   "cell_type": "code",
   "outputs": [
    {
     "data": {
      "text/plain": "0                                        United States\n1                                         South Africa\n2                                              Unknown\n3                                              Unknown\n4                                                India\n5                                              Unknown\n6                                              Unknown\n7    United States, Ghana, Burkina Faso, United Kin...\n8                                       United Kingdom\n9                                        United States\nName: country, dtype: object"
     },
     "execution_count": 1026,
     "metadata": {},
     "output_type": "execute_result"
    }
   ],
   "source": [
    "# Check first few columns first\n",
    "df['country'].head(10)"
   ],
   "metadata": {
    "collapsed": false,
    "ExecuteTime": {
     "end_time": "2024-02-14T15:47:52.256507705Z",
     "start_time": "2024-02-14T15:47:52.201336918Z"
    }
   },
   "id": "da8dbdc33ddfaa4b",
   "execution_count": 1026
  },
  {
   "cell_type": "code",
   "outputs": [
    {
     "data": {
      "text/plain": "      type                             title                       director  \\\n0    Movie              Dick Johnson Is Dead                Kirsten Johnson   \n1  TV Show                     Blood & Water                    Unavailable   \n2  TV Show                         Ganglands                Julien Leclercq   \n3  TV Show             Jailbirds New Orleans                    Unavailable   \n4  TV Show                      Kota Factory                    Unavailable   \n5  TV Show                     Midnight Mass                  Mike Flanagan   \n6    Movie  My Little Pony: A New Generation  Robert Cullen, José Luis Ucha   \n7    Movie                           Sankofa                   Haile Gerima   \n8  TV Show     The Great British Baking Show                Andy Devonshire   \n9    Movie                      The Starling                 Theodore Melfi   \n\n                                                cast  \\\n0                                        Unavailable   \n1  Ama Qamata, Khosi Ngema, Gail Mabalane, Thaban...   \n2  Sami Bouajila, Tracy Gotoas, Samuel Jouy, Nabi...   \n3                                        Unavailable   \n4  Mayur More, Jitendra Kumar, Ranjan Raj, Alam K...   \n5  Kate Siegel, Zach Gilford, Hamish Linklater, H...   \n6  Vanessa Hudgens, Kimiko Glenn, James Marsden, ...   \n7  Kofi Ghanaba, Oyafunmike Ogunlano, Alexandra D...   \n8  Mel Giedroyc, Sue Perkins, Mary Berry, Paul Ho...   \n9  Melissa McCarthy, Chris O'Dowd, Kevin Kline, T...   \n\n                                             country  date_added  \\\n0                                      United States  2021-09-25   \n1                                       South Africa  2021-09-24   \n2                                            Unknown  2021-09-24   \n3                                            Unknown  2021-09-24   \n4                                              India  2021-09-24   \n5                                            Unknown  2021-09-24   \n6                                            Unknown  2021-09-24   \n7  United States, Ghana, Burkina Faso, United Kin...  2021-09-24   \n8                                     United Kingdom  2021-09-24   \n9                                      United States  2021-09-24   \n\n   release_year rating   duration  \\\n0          2020  PG-13     90 min   \n1          2021  TV-MA  2 Seasons   \n2          2021  TV-MA   1 Season   \n3          2021  TV-MA   1 Season   \n4          2021  TV-MA  2 Seasons   \n5          2021  TV-MA   1 Season   \n6          2021     PG     91 min   \n7          1993  TV-MA    125 min   \n8          2021  TV-14  9 Seasons   \n9          2021  PG-13    104 min   \n\n                                           listed_in  \\\n0                                      Documentaries   \n1    International TV Shows, TV Dramas, TV Mysteries   \n2  Crime TV Shows, International TV Shows, TV Act...   \n3                             Docuseries, Reality TV   \n4  International TV Shows, Romantic TV Shows, TV ...   \n5                 TV Dramas, TV Horror, TV Mysteries   \n6                           Children & Family Movies   \n7   Dramas, Independent Movies, International Movies   \n8                       British TV Shows, Reality TV   \n9                                   Comedies, Dramas   \n\n                                         description  \n0  As her father nears the end of his life, filmm...  \n1  After crossing paths at a party, a Cape Town t...  \n2  To protect his family from a powerful drug lor...  \n3  Feuds, flirtations and toilet talk go down amo...  \n4  In a city of coaching centers known to train I...  \n5  The arrival of a charismatic young priest brin...  \n6  Equestria's divided. But a bright-eyed hero be...  \n7  On a photo shoot in Ghana, an American model s...  \n8  A talented batch of amateur bakers face off in...  \n9  A woman adjusting to life after a loss contend...  ",
      "text/html": "<div>\n<style scoped>\n    .dataframe tbody tr th:only-of-type {\n        vertical-align: middle;\n    }\n\n    .dataframe tbody tr th {\n        vertical-align: top;\n    }\n\n    .dataframe thead th {\n        text-align: right;\n    }\n</style>\n<table border=\"1\" class=\"dataframe\">\n  <thead>\n    <tr style=\"text-align: right;\">\n      <th></th>\n      <th>type</th>\n      <th>title</th>\n      <th>director</th>\n      <th>cast</th>\n      <th>country</th>\n      <th>date_added</th>\n      <th>release_year</th>\n      <th>rating</th>\n      <th>duration</th>\n      <th>listed_in</th>\n      <th>description</th>\n    </tr>\n  </thead>\n  <tbody>\n    <tr>\n      <th>0</th>\n      <td>Movie</td>\n      <td>Dick Johnson Is Dead</td>\n      <td>Kirsten Johnson</td>\n      <td>Unavailable</td>\n      <td>United States</td>\n      <td>2021-09-25</td>\n      <td>2020</td>\n      <td>PG-13</td>\n      <td>90 min</td>\n      <td>Documentaries</td>\n      <td>As her father nears the end of his life, filmm...</td>\n    </tr>\n    <tr>\n      <th>1</th>\n      <td>TV Show</td>\n      <td>Blood &amp; Water</td>\n      <td>Unavailable</td>\n      <td>Ama Qamata, Khosi Ngema, Gail Mabalane, Thaban...</td>\n      <td>South Africa</td>\n      <td>2021-09-24</td>\n      <td>2021</td>\n      <td>TV-MA</td>\n      <td>2 Seasons</td>\n      <td>International TV Shows, TV Dramas, TV Mysteries</td>\n      <td>After crossing paths at a party, a Cape Town t...</td>\n    </tr>\n    <tr>\n      <th>2</th>\n      <td>TV Show</td>\n      <td>Ganglands</td>\n      <td>Julien Leclercq</td>\n      <td>Sami Bouajila, Tracy Gotoas, Samuel Jouy, Nabi...</td>\n      <td>Unknown</td>\n      <td>2021-09-24</td>\n      <td>2021</td>\n      <td>TV-MA</td>\n      <td>1 Season</td>\n      <td>Crime TV Shows, International TV Shows, TV Act...</td>\n      <td>To protect his family from a powerful drug lor...</td>\n    </tr>\n    <tr>\n      <th>3</th>\n      <td>TV Show</td>\n      <td>Jailbirds New Orleans</td>\n      <td>Unavailable</td>\n      <td>Unavailable</td>\n      <td>Unknown</td>\n      <td>2021-09-24</td>\n      <td>2021</td>\n      <td>TV-MA</td>\n      <td>1 Season</td>\n      <td>Docuseries, Reality TV</td>\n      <td>Feuds, flirtations and toilet talk go down amo...</td>\n    </tr>\n    <tr>\n      <th>4</th>\n      <td>TV Show</td>\n      <td>Kota Factory</td>\n      <td>Unavailable</td>\n      <td>Mayur More, Jitendra Kumar, Ranjan Raj, Alam K...</td>\n      <td>India</td>\n      <td>2021-09-24</td>\n      <td>2021</td>\n      <td>TV-MA</td>\n      <td>2 Seasons</td>\n      <td>International TV Shows, Romantic TV Shows, TV ...</td>\n      <td>In a city of coaching centers known to train I...</td>\n    </tr>\n    <tr>\n      <th>5</th>\n      <td>TV Show</td>\n      <td>Midnight Mass</td>\n      <td>Mike Flanagan</td>\n      <td>Kate Siegel, Zach Gilford, Hamish Linklater, H...</td>\n      <td>Unknown</td>\n      <td>2021-09-24</td>\n      <td>2021</td>\n      <td>TV-MA</td>\n      <td>1 Season</td>\n      <td>TV Dramas, TV Horror, TV Mysteries</td>\n      <td>The arrival of a charismatic young priest brin...</td>\n    </tr>\n    <tr>\n      <th>6</th>\n      <td>Movie</td>\n      <td>My Little Pony: A New Generation</td>\n      <td>Robert Cullen, José Luis Ucha</td>\n      <td>Vanessa Hudgens, Kimiko Glenn, James Marsden, ...</td>\n      <td>Unknown</td>\n      <td>2021-09-24</td>\n      <td>2021</td>\n      <td>PG</td>\n      <td>91 min</td>\n      <td>Children &amp; Family Movies</td>\n      <td>Equestria's divided. But a bright-eyed hero be...</td>\n    </tr>\n    <tr>\n      <th>7</th>\n      <td>Movie</td>\n      <td>Sankofa</td>\n      <td>Haile Gerima</td>\n      <td>Kofi Ghanaba, Oyafunmike Ogunlano, Alexandra D...</td>\n      <td>United States, Ghana, Burkina Faso, United Kin...</td>\n      <td>2021-09-24</td>\n      <td>1993</td>\n      <td>TV-MA</td>\n      <td>125 min</td>\n      <td>Dramas, Independent Movies, International Movies</td>\n      <td>On a photo shoot in Ghana, an American model s...</td>\n    </tr>\n    <tr>\n      <th>8</th>\n      <td>TV Show</td>\n      <td>The Great British Baking Show</td>\n      <td>Andy Devonshire</td>\n      <td>Mel Giedroyc, Sue Perkins, Mary Berry, Paul Ho...</td>\n      <td>United Kingdom</td>\n      <td>2021-09-24</td>\n      <td>2021</td>\n      <td>TV-14</td>\n      <td>9 Seasons</td>\n      <td>British TV Shows, Reality TV</td>\n      <td>A talented batch of amateur bakers face off in...</td>\n    </tr>\n    <tr>\n      <th>9</th>\n      <td>Movie</td>\n      <td>The Starling</td>\n      <td>Theodore Melfi</td>\n      <td>Melissa McCarthy, Chris O'Dowd, Kevin Kline, T...</td>\n      <td>United States</td>\n      <td>2021-09-24</td>\n      <td>2021</td>\n      <td>PG-13</td>\n      <td>104 min</td>\n      <td>Comedies, Dramas</td>\n      <td>A woman adjusting to life after a loss contend...</td>\n    </tr>\n  </tbody>\n</table>\n</div>"
     },
     "execution_count": 1027,
     "metadata": {},
     "output_type": "execute_result"
    }
   ],
   "source": [
    "df.head(10)"
   ],
   "metadata": {
    "collapsed": false,
    "ExecuteTime": {
     "end_time": "2024-02-14T15:47:52.355447569Z",
     "start_time": "2024-02-14T15:47:52.256616648Z"
    }
   },
   "id": "e3ced954f5df27ce",
   "execution_count": 1027
  },
  {
   "cell_type": "markdown",
   "source": [
    "#### Splitting the rows with multiple countries in a cell into as many rows as countries"
   ],
   "metadata": {
    "collapsed": false
   },
   "id": "4081ce6214bb5cb0"
  },
  {
   "cell_type": "code",
   "outputs": [
    {
     "name": "stdout",
     "output_type": "stream",
     "text": [
      "<class 'pandas.core.frame.DataFrame'>\n",
      "RangeIndex: 10838 entries, 0 to 10837\n",
      "Data columns (total 11 columns):\n",
      " #   Column        Non-Null Count  Dtype \n",
      "---  ------        --------------  ----- \n",
      " 0   type          10838 non-null  object\n",
      " 1   title         10838 non-null  object\n",
      " 2   director      10838 non-null  object\n",
      " 3   cast          10838 non-null  object\n",
      " 4   country       10838 non-null  object\n",
      " 5   date_added    10838 non-null  object\n",
      " 6   release_year  10838 non-null  int64 \n",
      " 7   rating        10838 non-null  object\n",
      " 8   duration      10838 non-null  object\n",
      " 9   listed_in     10838 non-null  object\n",
      " 10  description   10838 non-null  object\n",
      "dtypes: int64(1), object(10)\n",
      "memory usage: 931.5+ KB\n"
     ]
    }
   ],
   "source": [
    "# # Explode the rows with multiple countries to each country own row...\n",
    "# # ... but retaining all other columns the same\n",
    "# SOLUTION 1: MEMORY OVERFLOW\n",
    "# def split_rows_with_multiple_countries(df):\n",
    "#     rows_to_append = []\n",
    "#     for idx, row in df.iterrows():\n",
    "#         nations = df['country'].str.split(', ')\n",
    "#         if len(nations) > 1: \n",
    "#             for nation in nations:\n",
    "#                 new_row = row.copy()\n",
    "#                 new_row['country'] = nation\n",
    "#                 rows_to_append.append(new_row)\n",
    "#     df = pd.concat([df, pd.DataFrame(rows_to_append)], ignore_index=True)\n",
    "#     df = df.reset_index(drop=True)  # Create a new index\n",
    "#     # Remove original rows with multiple countries with boolean mask\n",
    "#     return df[df['country'].str.contains(', ') == False] \n",
    "\n",
    "\n",
    "# SOLUTION 2: MEMORY OVERFLOW\n",
    "# def split_rows_with_multiple_countries(ddf):\n",
    "#     def explode(row):\n",
    "#         countries = row['country'].str.split(', ')\n",
    "#         for country in countries:\n",
    "#             yield {'country': country, **row.iloc[:-1]}  # Unpack other columns\n",
    "#     return ddf.explode('country').to_pandas()\n",
    "# \n",
    "# ddf = dd.from_pandas(df, npartitions=4)\n",
    "# df = split_rows_with_multiple_countries(ddf)\n",
    "# df.info()\n",
    "\n",
    "\n",
    "\n",
    "# SOLUTION 3: MEMORY EFFICIENT\n",
    "def split_rows_with_multiple_countries(df):\n",
    "    rows_to_append = []\n",
    "    # Split the 'country' column once (Adds a new column called 'country_split')\n",
    "    df['country_split'] = df['country'].str.split(', ')\n",
    "    # Iterate over each row\n",
    "    for idx, row in df.iterrows():\n",
    "        nations = row['country_split']\n",
    "        # nations = df['country'].str.split(', ')\n",
    "        if len(nations) > 1:\n",
    "            for nation in nations:\n",
    "                new_row = row.copy()\n",
    "                new_row['country'] = nation\n",
    "                rows_to_append.append(new_row.to_dict())\n",
    "    # Concatenate the original DataFrame with the new rows\n",
    "    df = pd.concat([df, pd.DataFrame(rows_to_append)], ignore_index=True)\n",
    "    # Remove original rows with multiple countries using boolean mask\n",
    "    df = df[df['country'].str.contains(', ') == False]\n",
    "    # Reset index\n",
    "    df = df.reset_index(drop=True)\n",
    "    # Drop the temporary 'country_split' column\n",
    "    df.drop(columns=['country_split'], inplace=True)\n",
    "    return df\n",
    "    \n",
    "\n",
    "df = split_rows_with_multiple_countries(df)\n",
    "df.info()"
   ],
   "metadata": {
    "collapsed": false,
    "ExecuteTime": {
     "end_time": "2024-02-14T15:47:52.928749744Z",
     "start_time": "2024-02-14T15:47:52.360200486Z"
    }
   },
   "id": "e10b5db13c96dd0e",
   "execution_count": 1028
  },
  {
   "cell_type": "markdown",
   "source": [
    "#### The rows with multiple countries have now been split as shown below\n",
    "__-Film titled \"Sankofa\" was at index 7 before splitting & is now 6 rows diff'nt countries__"
   ],
   "metadata": {
    "collapsed": false
   },
   "id": "cbddcd56a99467f1"
  },
  {
   "cell_type": "code",
   "outputs": [
    {
     "data": {
      "text/plain": "       type    title      director  \\\n7484  Movie  Sankofa  Haile Gerima   \n7485  Movie  Sankofa  Haile Gerima   \n7486  Movie  Sankofa  Haile Gerima   \n7487  Movie  Sankofa  Haile Gerima   \n7488  Movie  Sankofa  Haile Gerima   \n7489  Movie  Sankofa  Haile Gerima   \n\n                                                   cast         country  \\\n7484  Kofi Ghanaba, Oyafunmike Ogunlano, Alexandra D...   United States   \n7485  Kofi Ghanaba, Oyafunmike Ogunlano, Alexandra D...           Ghana   \n7486  Kofi Ghanaba, Oyafunmike Ogunlano, Alexandra D...    Burkina Faso   \n7487  Kofi Ghanaba, Oyafunmike Ogunlano, Alexandra D...  United Kingdom   \n7488  Kofi Ghanaba, Oyafunmike Ogunlano, Alexandra D...         Germany   \n7489  Kofi Ghanaba, Oyafunmike Ogunlano, Alexandra D...        Ethiopia   \n\n      date_added  release_year rating duration  \\\n7484  2021-09-24          1993  TV-MA  125 min   \n7485  2021-09-24          1993  TV-MA  125 min   \n7486  2021-09-24          1993  TV-MA  125 min   \n7487  2021-09-24          1993  TV-MA  125 min   \n7488  2021-09-24          1993  TV-MA  125 min   \n7489  2021-09-24          1993  TV-MA  125 min   \n\n                                             listed_in  \\\n7484  Dramas, Independent Movies, International Movies   \n7485  Dramas, Independent Movies, International Movies   \n7486  Dramas, Independent Movies, International Movies   \n7487  Dramas, Independent Movies, International Movies   \n7488  Dramas, Independent Movies, International Movies   \n7489  Dramas, Independent Movies, International Movies   \n\n                                            description  \n7484  On a photo shoot in Ghana, an American model s...  \n7485  On a photo shoot in Ghana, an American model s...  \n7486  On a photo shoot in Ghana, an American model s...  \n7487  On a photo shoot in Ghana, an American model s...  \n7488  On a photo shoot in Ghana, an American model s...  \n7489  On a photo shoot in Ghana, an American model s...  ",
      "text/html": "<div>\n<style scoped>\n    .dataframe tbody tr th:only-of-type {\n        vertical-align: middle;\n    }\n\n    .dataframe tbody tr th {\n        vertical-align: top;\n    }\n\n    .dataframe thead th {\n        text-align: right;\n    }\n</style>\n<table border=\"1\" class=\"dataframe\">\n  <thead>\n    <tr style=\"text-align: right;\">\n      <th></th>\n      <th>type</th>\n      <th>title</th>\n      <th>director</th>\n      <th>cast</th>\n      <th>country</th>\n      <th>date_added</th>\n      <th>release_year</th>\n      <th>rating</th>\n      <th>duration</th>\n      <th>listed_in</th>\n      <th>description</th>\n    </tr>\n  </thead>\n  <tbody>\n    <tr>\n      <th>7484</th>\n      <td>Movie</td>\n      <td>Sankofa</td>\n      <td>Haile Gerima</td>\n      <td>Kofi Ghanaba, Oyafunmike Ogunlano, Alexandra D...</td>\n      <td>United States</td>\n      <td>2021-09-24</td>\n      <td>1993</td>\n      <td>TV-MA</td>\n      <td>125 min</td>\n      <td>Dramas, Independent Movies, International Movies</td>\n      <td>On a photo shoot in Ghana, an American model s...</td>\n    </tr>\n    <tr>\n      <th>7485</th>\n      <td>Movie</td>\n      <td>Sankofa</td>\n      <td>Haile Gerima</td>\n      <td>Kofi Ghanaba, Oyafunmike Ogunlano, Alexandra D...</td>\n      <td>Ghana</td>\n      <td>2021-09-24</td>\n      <td>1993</td>\n      <td>TV-MA</td>\n      <td>125 min</td>\n      <td>Dramas, Independent Movies, International Movies</td>\n      <td>On a photo shoot in Ghana, an American model s...</td>\n    </tr>\n    <tr>\n      <th>7486</th>\n      <td>Movie</td>\n      <td>Sankofa</td>\n      <td>Haile Gerima</td>\n      <td>Kofi Ghanaba, Oyafunmike Ogunlano, Alexandra D...</td>\n      <td>Burkina Faso</td>\n      <td>2021-09-24</td>\n      <td>1993</td>\n      <td>TV-MA</td>\n      <td>125 min</td>\n      <td>Dramas, Independent Movies, International Movies</td>\n      <td>On a photo shoot in Ghana, an American model s...</td>\n    </tr>\n    <tr>\n      <th>7487</th>\n      <td>Movie</td>\n      <td>Sankofa</td>\n      <td>Haile Gerima</td>\n      <td>Kofi Ghanaba, Oyafunmike Ogunlano, Alexandra D...</td>\n      <td>United Kingdom</td>\n      <td>2021-09-24</td>\n      <td>1993</td>\n      <td>TV-MA</td>\n      <td>125 min</td>\n      <td>Dramas, Independent Movies, International Movies</td>\n      <td>On a photo shoot in Ghana, an American model s...</td>\n    </tr>\n    <tr>\n      <th>7488</th>\n      <td>Movie</td>\n      <td>Sankofa</td>\n      <td>Haile Gerima</td>\n      <td>Kofi Ghanaba, Oyafunmike Ogunlano, Alexandra D...</td>\n      <td>Germany</td>\n      <td>2021-09-24</td>\n      <td>1993</td>\n      <td>TV-MA</td>\n      <td>125 min</td>\n      <td>Dramas, Independent Movies, International Movies</td>\n      <td>On a photo shoot in Ghana, an American model s...</td>\n    </tr>\n    <tr>\n      <th>7489</th>\n      <td>Movie</td>\n      <td>Sankofa</td>\n      <td>Haile Gerima</td>\n      <td>Kofi Ghanaba, Oyafunmike Ogunlano, Alexandra D...</td>\n      <td>Ethiopia</td>\n      <td>2021-09-24</td>\n      <td>1993</td>\n      <td>TV-MA</td>\n      <td>125 min</td>\n      <td>Dramas, Independent Movies, International Movies</td>\n      <td>On a photo shoot in Ghana, an American model s...</td>\n    </tr>\n  </tbody>\n</table>\n</div>"
     },
     "execution_count": 1029,
     "metadata": {},
     "output_type": "execute_result"
    }
   ],
   "source": [
    "df[df['title'] == \"Sankofa\"]"
   ],
   "metadata": {
    "collapsed": false,
    "ExecuteTime": {
     "end_time": "2024-02-14T15:47:52.938780936Z",
     "start_time": "2024-02-14T15:47:52.928030156Z"
    }
   },
   "id": "668d9c68e57fb71c",
   "execution_count": 1029
  },
  {
   "cell_type": "markdown",
   "source": [
    "# DATA VISUALIZATION SECTION"
   ],
   "metadata": {
    "collapsed": false
   },
   "id": "2e43d91b4367063"
  },
  {
   "cell_type": "markdown",
   "source": [
    "## 1) Understanding what content is available in different countries."
   ],
   "metadata": {
    "collapsed": false
   },
   "id": "21f63e0c12b10603"
  },
  {
   "cell_type": "markdown",
   "source": [
    "### Plotting country counts"
   ],
   "metadata": {
    "collapsed": false
   },
   "id": "6b3469976ceb9789"
  },
  {
   "cell_type": "code",
   "outputs": [
    {
     "data": {
      "text/plain": "128"
     },
     "execution_count": 1030,
     "metadata": {},
     "output_type": "execute_result"
    }
   ],
   "source": [
    "# Show the counts of different countries\n",
    "df['country'].nunique()"
   ],
   "metadata": {
    "collapsed": false,
    "ExecuteTime": {
     "end_time": "2024-02-14T15:47:53.114137570Z",
     "start_time": "2024-02-14T15:47:52.937968767Z"
    }
   },
   "id": "92b6bc16507b8897",
   "execution_count": 1030
  },
  {
   "cell_type": "code",
   "outputs": [
    {
     "data": {
      "text/plain": "array(['United States', 'South Africa', 'Unknown', 'India',\n       'United Kingdom', 'Mexico', 'Turkey', 'Australia', 'Finland',\n       'Nigeria', 'Japan', 'France', 'Belgium', 'South Korea', 'Spain',\n       'Russia', 'Canada', 'Hong Kong', 'Ireland', 'Italy', 'Argentina',\n       'Jordan', 'Colombia', 'Brazil', 'Taiwan', 'Poland', 'Germany',\n       'New Zealand', 'Saudi Arabia', 'Thailand', 'Indonesia', 'Egypt',\n       'Malaysia', 'Israel', 'Vietnam', 'Sweden', 'China', 'Lebanon',\n       'Romania', 'Philippines', 'Iceland', 'Denmark',\n       'United Arab Emirates', 'Netherlands', 'Mauritius', 'Austria',\n       'Cameroon', 'United Kingdom,', 'Kenya', 'Uruguay', 'Luxembourg',\n       'Bangladesh', 'Norway', 'Senegal', 'Singapore', 'Kuwait',\n       'Namibia', 'Mozambique', 'Belarus', 'Ghana', 'Chile', 'Zimbabwe',\n       'Hungary', 'Cyprus', 'Switzerland', 'Pakistan', 'Croatia', 'Peru',\n       'United States,', 'Cambodia', 'Bulgaria', 'Georgia',\n       'West Germany', 'Venezuela', 'Poland,', 'Guatemala', 'Ukraine',\n       'Burkina Faso', 'Ethiopia', 'Czech Republic', '', 'Nepal',\n       'Greece', 'Algeria', 'Syria', 'Qatar', 'Palestine', 'Portugal',\n       'Cayman Islands', 'Serbia', 'Malta', 'Angola', 'Cambodia,',\n       'Puerto Rico', 'Iraq', 'Malawi', 'Paraguay', 'Iran', 'Albania',\n       'Soviet Union', 'Morocco', 'Slovakia', 'Bermuda', 'Ecuador',\n       'Armenia', 'Mongolia', 'Bahamas', 'Sri Lanka', 'Latvia',\n       'Liechtenstein', 'Cuba', 'Nicaragua', 'Slovenia',\n       'Dominican Republic', 'Samoa', 'Azerbaijan', 'Botswana',\n       'Vatican City', 'Jamaica', 'Kazakhstan', 'Lithuania',\n       'Afghanistan', 'Somalia', 'Sudan', 'Panama', 'Uganda',\n       'East Germany', 'Montenegro'], dtype=object)"
     },
     "execution_count": 1031,
     "metadata": {},
     "output_type": "execute_result"
    }
   ],
   "source": [
    "df['country'].unique()  # There are 128 unique countries"
   ],
   "metadata": {
    "collapsed": false,
    "ExecuteTime": {
     "end_time": "2024-02-14T15:47:53.149109189Z",
     "start_time": "2024-02-14T15:47:52.992580084Z"
    }
   },
   "id": "901ee2125e532a22",
   "execution_count": 1031
  },
  {
   "cell_type": "code",
   "outputs": [
    {
     "data": {
      "text/plain": "country\nUnited States     3686\nIndia             1046\nUnknown            830\nUnited Kingdom     804\nCanada             445\n                  ... \nSlovakia             1\nBermuda              1\nEcuador              1\nArmenia              1\nMontenegro           1\nName: count, Length: 128, dtype: int64"
     },
     "execution_count": 1032,
     "metadata": {},
     "output_type": "execute_result"
    }
   ],
   "source": [
    "# Check value counts \n",
    "countries = df['country'].value_counts()\n",
    "countries"
   ],
   "metadata": {
    "collapsed": false,
    "ExecuteTime": {
     "end_time": "2024-02-14T15:47:53.162758734Z",
     "start_time": "2024-02-14T15:47:53.081844533Z"
    }
   },
   "id": "152559f8660014a7",
   "execution_count": 1032
  },
  {
   "cell_type": "code",
   "outputs": [
    {
     "name": "stdout",
     "output_type": "stream",
     "text": [
      "No. of countries with counts less than 30: 90\n"
     ]
    }
   ],
   "source": [
    "# For proper smaller plot, cluster countries with count less than 30 in a one dataframe\n",
    "countries_counts_less_than_30 = countries[countries < 30]\n",
    "print(f\"No. of countries with counts less than 30: {len(countries_counts_less_than_30)}\")"
   ],
   "metadata": {
    "collapsed": false,
    "ExecuteTime": {
     "end_time": "2024-02-14T15:47:53.210991810Z",
     "start_time": "2024-02-14T15:47:53.135437539Z"
    }
   },
   "id": "5788d40c2e82f06d",
   "execution_count": 1033
  },
  {
   "cell_type": "code",
   "outputs": [
    {
     "data": {
      "text/plain": "country\nChile             29\nRussia            27\nMalaysia          26\nPakistan          24\nCzech Republic    22\n                  ..\nSlovakia           1\nBermuda            1\nEcuador            1\nArmenia            1\nMontenegro         1\nName: count, Length: 90, dtype: int64"
     },
     "execution_count": 1034,
     "metadata": {},
     "output_type": "execute_result"
    }
   ],
   "source": [
    "# View the countries with counts less than 30\n",
    "countries_counts_less_than_30"
   ],
   "metadata": {
    "collapsed": false,
    "ExecuteTime": {
     "end_time": "2024-02-14T15:47:53.255268720Z",
     "start_time": "2024-02-14T15:47:53.191771437Z"
    }
   },
   "id": "d8db8ba919ade837",
   "execution_count": 1034
  },
  {
   "cell_type": "code",
   "outputs": [
    {
     "data": {
      "text/plain": "country\nUnited States           3686\nIndia                   1046\nUnknown                  830\nUnited Kingdom           804\nOthers                   449\nCanada                   445\nFrance                   393\nJapan                    317\nSpain                    232\nSouth Korea              231\nGermany                  226\nMexico                   169\nChina                    162\nAustralia                159\nEgypt                    117\nTurkey                   113\nHong Kong                105\nNigeria                  103\nItaly                     99\nBrazil                    97\nArgentina                 91\nBelgium                   90\nIndonesia                 90\nTaiwan                    89\nPhilippines               83\nThailand                  70\nSouth Africa              62\nColombia                  52\nNetherlands               50\nDenmark                   48\nIreland                   46\nSweden                    42\nSingapore                 41\nPoland                    40\nUnited Arab Emirates      37\nNew Zealand               33\nLebanon                   31\nIsrael                    30\nNorway                    30\nName: count, dtype: int64"
     },
     "execution_count": 1035,
     "metadata": {},
     "output_type": "execute_result"
    }
   ],
   "source": [
    "# Rename countries with counts less than 30 as 'Others'\n",
    "df['country'] = df['country'].apply(lambda x: \"Others\" if x in countries_counts_less_than_30 else x)\n",
    "\n",
    "# Check value counts after renaming\n",
    "df['country'].value_counts()"
   ],
   "metadata": {
    "collapsed": false,
    "ExecuteTime": {
     "end_time": "2024-02-14T15:47:53.321818312Z",
     "start_time": "2024-02-14T15:47:53.250692438Z"
    }
   },
   "id": "b5d0c60e097fece7",
   "execution_count": 1035
  },
  {
   "cell_type": "code",
   "outputs": [
    {
     "data": {
      "text/plain": "<matplotlib.legend.Legend at 0x7fd26fac4ac0>"
     },
     "execution_count": 1036,
     "metadata": {},
     "output_type": "execute_result"
    },
    {
     "data": {
      "text/plain": "<Figure size 3000x1000 with 1 Axes>",
      "image/png": "[encoded data removed]"
     },
     "metadata": {},
     "output_type": "display_data"
    }
   ],
   "source": [
    "# Plotting the counts of different countries\n",
    "# Chart size definition:\n",
    "plt.figure(figsize=(30,10))\n",
    "\n",
    "# Extract counts (indexes & values)\n",
    "countries = df['country'].value_counts()\n",
    "country_idx = countries.index\n",
    "country_vals = countries.values\n",
    "\n",
    "# Defining chart labels\n",
    "plt.xlabel(\"Country\")\n",
    "plt.xticks(rotation=90)\n",
    "plt.ylabel(\"Counts\")\n",
    "plt.title(\"Countries Counts in the Netflix Shows Dataset\")\n",
    "\n",
    "# Plotting\n",
    "plt.bar(country_idx, country_vals, label='country')\n",
    "plt.legend()\n",
    "\n",
    "# plt.savefig('country_counts.png',bbox_inches=\"tight\",pad_inches=2,transparent=False)"
   ],
   "metadata": {
    "collapsed": false,
    "ExecuteTime": {
     "end_time": "2024-02-14T15:47:54.013399876Z",
     "start_time": "2024-02-14T15:47:53.322519514Z"
    }
   },
   "id": "57facbef3a887f88",
   "execution_count": 1036
  },
  {
   "cell_type": "code",
   "outputs": [
    {
     "data": {
      "text/plain": "Index(['type', 'title', 'director', 'cast', 'country', 'date_added',\n       'release_year', 'rating', 'duration', 'listed_in', 'description'],\n      dtype='object')"
     },
     "execution_count": 1037,
     "metadata": {},
     "output_type": "execute_result"
    }
   ],
   "source": [
    "df.columns"
   ],
   "metadata": {
    "collapsed": false,
    "ExecuteTime": {
     "end_time": "2024-02-14T15:47:54.015266577Z",
     "start_time": "2024-02-14T15:47:54.012304561Z"
    }
   },
   "id": "b06ddb931786889f",
   "execution_count": 1037
  },
  {
   "cell_type": "code",
   "outputs": [
    {
     "data": {
      "text/plain": "      type                                title  \\\n0    Movie                 Dick Johnson Is Dead   \n1  TV Show                        Blood & Water   \n2  TV Show                            Ganglands   \n3  TV Show                Jailbirds New Orleans   \n4  TV Show                         Kota Factory   \n5  TV Show                        Midnight Mass   \n6    Movie     My Little Pony: A New Generation   \n7  TV Show        The Great British Baking Show   \n8    Movie                         The Starling   \n9  TV Show  Vendetta: Truth, Lies and The Mafia   \n\n                        director  \\\n0                Kirsten Johnson   \n1                    Unavailable   \n2                Julien Leclercq   \n3                    Unavailable   \n4                    Unavailable   \n5                  Mike Flanagan   \n6  Robert Cullen, José Luis Ucha   \n7                Andy Devonshire   \n8                 Theodore Melfi   \n9                    Unavailable   \n\n                                                cast         country  \\\n0                                        Unavailable   United States   \n1  Ama Qamata, Khosi Ngema, Gail Mabalane, Thaban...    South Africa   \n2  Sami Bouajila, Tracy Gotoas, Samuel Jouy, Nabi...         Unknown   \n3                                        Unavailable         Unknown   \n4  Mayur More, Jitendra Kumar, Ranjan Raj, Alam K...           India   \n5  Kate Siegel, Zach Gilford, Hamish Linklater, H...         Unknown   \n6  Vanessa Hudgens, Kimiko Glenn, James Marsden, ...         Unknown   \n7  Mel Giedroyc, Sue Perkins, Mary Berry, Paul Ho...  United Kingdom   \n8  Melissa McCarthy, Chris O'Dowd, Kevin Kline, T...   United States   \n9                                        Unavailable         Unknown   \n\n   date_added  release_year rating   duration  \\\n0  2021-09-25          2020  PG-13     90 min   \n1  2021-09-24          2021  TV-MA  2 Seasons   \n2  2021-09-24          2021  TV-MA   1 Season   \n3  2021-09-24          2021  TV-MA   1 Season   \n4  2021-09-24          2021  TV-MA  2 Seasons   \n5  2021-09-24          2021  TV-MA   1 Season   \n6  2021-09-24          2021     PG     91 min   \n7  2021-09-24          2021  TV-14  9 Seasons   \n8  2021-09-24          2021  PG-13    104 min   \n9  2021-09-24          2021  TV-MA   1 Season   \n\n                                           listed_in  \\\n0                                      Documentaries   \n1    International TV Shows, TV Dramas, TV Mysteries   \n2  Crime TV Shows, International TV Shows, TV Act...   \n3                             Docuseries, Reality TV   \n4  International TV Shows, Romantic TV Shows, TV ...   \n5                 TV Dramas, TV Horror, TV Mysteries   \n6                           Children & Family Movies   \n7                       British TV Shows, Reality TV   \n8                                   Comedies, Dramas   \n9  Crime TV Shows, Docuseries, International TV S...   \n\n                                         description  \n0  As her father nears the end of his life, filmm...  \n1  After crossing paths at a party, a Cape Town t...  \n2  To protect his family from a powerful drug lor...  \n3  Feuds, flirtations and toilet talk go down amo...  \n4  In a city of coaching centers known to train I...  \n5  The arrival of a charismatic young priest brin...  \n6  Equestria's divided. But a bright-eyed hero be...  \n7  A talented batch of amateur bakers face off in...  \n8  A woman adjusting to life after a loss contend...  \n9  Sicily boasts a bold \"Anti-Mafia\" coalition. B...  ",
      "text/html": "<div>\n<style scoped>\n    .dataframe tbody tr th:only-of-type {\n        vertical-align: middle;\n    }\n\n    .dataframe tbody tr th {\n        vertical-align: top;\n    }\n\n    .dataframe thead th {\n        text-align: right;\n    }\n</style>\n<table border=\"1\" class=\"dataframe\">\n  <thead>\n    <tr style=\"text-align: right;\">\n      <th></th>\n      <th>type</th>\n      <th>title</th>\n      <th>director</th>\n      <th>cast</th>\n      <th>country</th>\n      <th>date_added</th>\n      <th>release_year</th>\n      <th>rating</th>\n      <th>duration</th>\n      <th>listed_in</th>\n      <th>description</th>\n    </tr>\n  </thead>\n  <tbody>\n    <tr>\n      <th>0</th>\n      <td>Movie</td>\n      <td>Dick Johnson Is Dead</td>\n      <td>Kirsten Johnson</td>\n      <td>Unavailable</td>\n      <td>United States</td>\n      <td>2021-09-25</td>\n      <td>2020</td>\n      <td>PG-13</td>\n      <td>90 min</td>\n      <td>Documentaries</td>\n      <td>As her father nears the end of his life, filmm...</td>\n    </tr>\n    <tr>\n      <th>1</th>\n      <td>TV Show</td>\n      <td>Blood &amp; Water</td>\n      <td>Unavailable</td>\n      <td>Ama Qamata, Khosi Ngema, Gail Mabalane, Thaban...</td>\n      <td>South Africa</td>\n      <td>2021-09-24</td>\n      <td>2021</td>\n      <td>TV-MA</td>\n      <td>2 Seasons</td>\n      <td>International TV Shows, TV Dramas, TV Mysteries</td>\n      <td>After crossing paths at a party, a Cape Town t...</td>\n    </tr>\n    <tr>\n      <th>2</th>\n      <td>TV Show</td>\n      <td>Ganglands</td>\n      <td>Julien Leclercq</td>\n      <td>Sami Bouajila, Tracy Gotoas, Samuel Jouy, Nabi...</td>\n      <td>Unknown</td>\n      <td>2021-09-24</td>\n      <td>2021</td>\n      <td>TV-MA</td>\n      <td>1 Season</td>\n      <td>Crime TV Shows, International TV Shows, TV Act...</td>\n      <td>To protect his family from a powerful drug lor...</td>\n    </tr>\n    <tr>\n      <th>3</th>\n      <td>TV Show</td>\n      <td>Jailbirds New Orleans</td>\n      <td>Unavailable</td>\n      <td>Unavailable</td>\n      <td>Unknown</td>\n      <td>2021-09-24</td>\n      <td>2021</td>\n      <td>TV-MA</td>\n      <td>1 Season</td>\n      <td>Docuseries, Reality TV</td>\n      <td>Feuds, flirtations and toilet talk go down amo...</td>\n    </tr>\n    <tr>\n      <th>4</th>\n      <td>TV Show</td>\n      <td>Kota Factory</td>\n      <td>Unavailable</td>\n      <td>Mayur More, Jitendra Kumar, Ranjan Raj, Alam K...</td>\n      <td>India</td>\n      <td>2021-09-24</td>\n      <td>2021</td>\n      <td>TV-MA</td>\n      <td>2 Seasons</td>\n      <td>International TV Shows, Romantic TV Shows, TV ...</td>\n      <td>In a city of coaching centers known to train I...</td>\n    </tr>\n    <tr>\n      <th>5</th>\n      <td>TV Show</td>\n      <td>Midnight Mass</td>\n      <td>Mike Flanagan</td>\n      <td>Kate Siegel, Zach Gilford, Hamish Linklater, H...</td>\n      <td>Unknown</td>\n      <td>2021-09-24</td>\n      <td>2021</td>\n      <td>TV-MA</td>\n      <td>1 Season</td>\n      <td>TV Dramas, TV Horror, TV Mysteries</td>\n      <td>The arrival of a charismatic young priest brin...</td>\n    </tr>\n    <tr>\n      <th>6</th>\n      <td>Movie</td>\n      <td>My Little Pony: A New Generation</td>\n      <td>Robert Cullen, José Luis Ucha</td>\n      <td>Vanessa Hudgens, Kimiko Glenn, James Marsden, ...</td>\n      <td>Unknown</td>\n      <td>2021-09-24</td>\n      <td>2021</td>\n      <td>PG</td>\n      <td>91 min</td>\n      <td>Children &amp; Family Movies</td>\n      <td>Equestria's divided. But a bright-eyed hero be...</td>\n    </tr>\n    <tr>\n      <th>7</th>\n      <td>TV Show</td>\n      <td>The Great British Baking Show</td>\n      <td>Andy Devonshire</td>\n      <td>Mel Giedroyc, Sue Perkins, Mary Berry, Paul Ho...</td>\n      <td>United Kingdom</td>\n      <td>2021-09-24</td>\n      <td>2021</td>\n      <td>TV-14</td>\n      <td>9 Seasons</td>\n      <td>British TV Shows, Reality TV</td>\n      <td>A talented batch of amateur bakers face off in...</td>\n    </tr>\n    <tr>\n      <th>8</th>\n      <td>Movie</td>\n      <td>The Starling</td>\n      <td>Theodore Melfi</td>\n      <td>Melissa McCarthy, Chris O'Dowd, Kevin Kline, T...</td>\n      <td>United States</td>\n      <td>2021-09-24</td>\n      <td>2021</td>\n      <td>PG-13</td>\n      <td>104 min</td>\n      <td>Comedies, Dramas</td>\n      <td>A woman adjusting to life after a loss contend...</td>\n    </tr>\n    <tr>\n      <th>9</th>\n      <td>TV Show</td>\n      <td>Vendetta: Truth, Lies and The Mafia</td>\n      <td>Unavailable</td>\n      <td>Unavailable</td>\n      <td>Unknown</td>\n      <td>2021-09-24</td>\n      <td>2021</td>\n      <td>TV-MA</td>\n      <td>1 Season</td>\n      <td>Crime TV Shows, Docuseries, International TV S...</td>\n      <td>Sicily boasts a bold \"Anti-Mafia\" coalition. B...</td>\n    </tr>\n  </tbody>\n</table>\n</div>"
     },
     "execution_count": 1038,
     "metadata": {},
     "output_type": "execute_result"
    }
   ],
   "source": [
    "df.head(10)"
   ],
   "metadata": {
    "collapsed": false,
    "ExecuteTime": {
     "end_time": "2024-02-14T15:47:54.339652573Z",
     "start_time": "2024-02-14T15:47:54.012518071Z"
    }
   },
   "id": "d9cbc76021da0fc3",
   "execution_count": 1038
  },
  {
   "cell_type": "markdown",
   "source": [
    "### Visualizing film type per country"
   ],
   "metadata": {
    "collapsed": false
   },
   "id": "7e7e710175a01883"
  },
  {
   "cell_type": "code",
   "outputs": [
    {
     "data": {
      "text/plain": "Text(0.5, 1.0, 'Film Type per Country')"
     },
     "execution_count": 1039,
     "metadata": {},
     "output_type": "execute_result"
    },
    {
     "data": {
      "text/plain": "<Figure size 640x480 with 1 Axes>",
      "image/png": "[encoded data removed]"
     },
     "metadata": {},
     "output_type": "display_data"
    }
   ],
   "source": [
    "# SOLUTION 1: Using Pivot Table\n",
    "# df1 = df.groupby(['country','type'])['title'].count()\n",
    "# df1.to_csv('film_type_by_country.csv')\n",
    "# \n",
    "# # Read grouped csv data and create pivot table\n",
    "# df1 = pd.read_csv('film_type_by_country.csv')\n",
    "# df1 = pd.pivot_table(df1,index=['country'],columns=['type'],fill_value=0,values=None,aggfunc=\"sum\")\n",
    "# df1\n",
    "# # Plotting\n",
    "# df1.plot(kind=\"bar\", figsize=(30,10))\n",
    "# \n",
    "# # Set labels\n",
    "# plt.tight_layout()\n",
    "# plt.xlabel(\"Countries\")\n",
    "# plt.xticks(rotation=90)\n",
    "# plt.ylabel(\"Film Type Counts\")\n",
    "# plt.title(\"Film Type per Country\")\n",
    "\n",
    "# SOLUTION 2: Using size().unstack() on grouped data\n",
    "# Grouping the data\n",
    "df1 = df.groupby(['country', 'type']).size().unstack()\n",
    "\n",
    "# Plotting\n",
    "df1.plot(kind=\"bar\", stacked=False)\n",
    "# type_vals_arr = df1['Movie'].value_counts().values\n",
    "\n",
    "plt.tight_layout()\n",
    "plt.xlabel(\"Countries\")\n",
    "plt.xticks(rotation=90)\n",
    "plt.ylabel(\"Film Type Counts\")\n",
    "# plt.yticks(np.arange(0, max(type_vals_arr)+1, step=500))\n",
    "plt.title(\"Film Type per Country\")\n"
   ],
   "metadata": {
    "collapsed": false,
    "ExecuteTime": {
     "end_time": "2024-02-14T15:47:54.762408995Z",
     "start_time": "2024-02-14T15:47:54.080947095Z"
    }
   },
   "id": "e9ec7fcb67827644",
   "execution_count": 1039
  },
  {
   "cell_type": "code",
   "outputs": [],
   "source": [],
   "metadata": {
    "collapsed": false,
    "ExecuteTime": {
     "end_time": "2024-02-14T15:47:54.768940109Z",
     "start_time": "2024-02-14T15:47:54.764277168Z"
    }
   },
   "id": "843917458ce891dd",
   "execution_count": 1039
  }
 ],
 "metadata": {
  "kernelspec": {
   "display_name": "Python 3",
   "language": "python",
   "name": "python3"
  },
  "language_info": {
   "codemirror_mode": {
    "name": "ipython",
    "version": 2
   },
   "file_extension": ".py",
   "mimetype": "text/x-python",
   "name": "python",
   "nbconvert_exporter": "python",
   "pygments_lexer": "ipython2",
   "version": "2.7.6"
  }
 },
 "nbformat": 4,
 "nbformat_minor": 5
}

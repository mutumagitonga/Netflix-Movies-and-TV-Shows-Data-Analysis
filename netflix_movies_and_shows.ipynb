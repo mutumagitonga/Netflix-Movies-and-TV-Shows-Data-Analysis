{
 "cells": [
  {
   "cell_type": "code",
   "execution_count": 87,
   "id": "initial_id",
   "metadata": {
    "collapsed": true,
    "ExecuteTime": {
     "end_time": "2024-02-09T16:48:39.607650284Z",
     "start_time": "2024-02-09T16:48:39.507449209Z"
    }
   },
   "outputs": [],
   "source": [
    "# Importing libraries\n",
    "import pandas as pd\n",
    "import numpy as np\n",
    "import matplotlib.pyplot as plt\n",
    "import seaborn as sns"
   ]
  },
  {
   "cell_type": "markdown",
   "source": [
    "# Get an overview of the data"
   ],
   "metadata": {
    "collapsed": false
   },
   "id": "cfb1c10efb35df5f"
  },
  {
   "cell_type": "code",
   "outputs": [
    {
     "data": {
      "text/plain": "  show_id     type                  title         director  \\\n0      s1    Movie   Dick Johnson Is Dead  Kirsten Johnson   \n1      s2  TV Show          Blood & Water              NaN   \n2      s3  TV Show              Ganglands  Julien Leclercq   \n3      s4  TV Show  Jailbirds New Orleans              NaN   \n4      s5  TV Show           Kota Factory              NaN   \n\n                                                cast        country  \\\n0                                                NaN  United States   \n1  Ama Qamata, Khosi Ngema, Gail Mabalane, Thaban...   South Africa   \n2  Sami Bouajila, Tracy Gotoas, Samuel Jouy, Nabi...            NaN   \n3                                                NaN            NaN   \n4  Mayur More, Jitendra Kumar, Ranjan Raj, Alam K...          India   \n\n           date_added  release_year rating   duration  \\\n0  September 25, 2021          2020  PG-13     90 min   \n1  September 24, 2021          2021  TV-MA  2 Seasons   \n2  September 24, 2021          2021  TV-MA   1 Season   \n3  September 24, 2021          2021  TV-MA   1 Season   \n4  September 24, 2021          2021  TV-MA  2 Seasons   \n\n                                           listed_in  \\\n0                                      Documentaries   \n1    International TV Shows, TV Dramas, TV Mysteries   \n2  Crime TV Shows, International TV Shows, TV Act...   \n3                             Docuseries, Reality TV   \n4  International TV Shows, Romantic TV Shows, TV ...   \n\n                                         description  \n0  As her father nears the end of his life, filmm...  \n1  After crossing paths at a party, a Cape Town t...  \n2  To protect his family from a powerful drug lor...  \n3  Feuds, flirtations and toilet talk go down amo...  \n4  In a city of coaching centers known to train I...  ",
      "text/html": "<div>\n<style scoped>\n    .dataframe tbody tr th:only-of-type {\n        vertical-align: middle;\n    }\n\n    .dataframe tbody tr th {\n        vertical-align: top;\n    }\n\n    .dataframe thead th {\n        text-align: right;\n    }\n</style>\n<table border=\"1\" class=\"dataframe\">\n  <thead>\n    <tr style=\"text-align: right;\">\n      <th></th>\n      <th>show_id</th>\n      <th>type</th>\n      <th>title</th>\n      <th>director</th>\n      <th>cast</th>\n      <th>country</th>\n      <th>date_added</th>\n      <th>release_year</th>\n      <th>rating</th>\n      <th>duration</th>\n      <th>listed_in</th>\n      <th>description</th>\n    </tr>\n  </thead>\n  <tbody>\n    <tr>\n      <th>0</th>\n      <td>s1</td>\n      <td>Movie</td>\n      <td>Dick Johnson Is Dead</td>\n      <td>Kirsten Johnson</td>\n      <td>NaN</td>\n      <td>United States</td>\n      <td>September 25, 2021</td>\n      <td>2020</td>\n      <td>PG-13</td>\n      <td>90 min</td>\n      <td>Documentaries</td>\n      <td>As her father nears the end of his life, filmm...</td>\n    </tr>\n    <tr>\n      <th>1</th>\n      <td>s2</td>\n      <td>TV Show</td>\n      <td>Blood &amp; Water</td>\n      <td>NaN</td>\n      <td>Ama Qamata, Khosi Ngema, Gail Mabalane, Thaban...</td>\n      <td>South Africa</td>\n      <td>September 24, 2021</td>\n      <td>2021</td>\n      <td>TV-MA</td>\n      <td>2 Seasons</td>\n      <td>International TV Shows, TV Dramas, TV Mysteries</td>\n      <td>After crossing paths at a party, a Cape Town t...</td>\n    </tr>\n    <tr>\n      <th>2</th>\n      <td>s3</td>\n      <td>TV Show</td>\n      <td>Ganglands</td>\n      <td>Julien Leclercq</td>\n      <td>Sami Bouajila, Tracy Gotoas, Samuel Jouy, Nabi...</td>\n      <td>NaN</td>\n      <td>September 24, 2021</td>\n      <td>2021</td>\n      <td>TV-MA</td>\n      <td>1 Season</td>\n      <td>Crime TV Shows, International TV Shows, TV Act...</td>\n      <td>To protect his family from a powerful drug lor...</td>\n    </tr>\n    <tr>\n      <th>3</th>\n      <td>s4</td>\n      <td>TV Show</td>\n      <td>Jailbirds New Orleans</td>\n      <td>NaN</td>\n      <td>NaN</td>\n      <td>NaN</td>\n      <td>September 24, 2021</td>\n      <td>2021</td>\n      <td>TV-MA</td>\n      <td>1 Season</td>\n      <td>Docuseries, Reality TV</td>\n      <td>Feuds, flirtations and toilet talk go down amo...</td>\n    </tr>\n    <tr>\n      <th>4</th>\n      <td>s5</td>\n      <td>TV Show</td>\n      <td>Kota Factory</td>\n      <td>NaN</td>\n      <td>Mayur More, Jitendra Kumar, Ranjan Raj, Alam K...</td>\n      <td>India</td>\n      <td>September 24, 2021</td>\n      <td>2021</td>\n      <td>TV-MA</td>\n      <td>2 Seasons</td>\n      <td>International TV Shows, Romantic TV Shows, TV ...</td>\n      <td>In a city of coaching centers known to train I...</td>\n    </tr>\n  </tbody>\n</table>\n</div>"
     },
     "execution_count": 88,
     "metadata": {},
     "output_type": "execute_result"
    }
   ],
   "source": [
    "# Load dataframe\n",
    "df = pd.read_csv('netflix_titles.csv')\n",
    "df.head()"
   ],
   "metadata": {
    "collapsed": false,
    "ExecuteTime": {
     "end_time": "2024-02-09T16:48:39.650642063Z",
     "start_time": "2024-02-09T16:48:39.561493114Z"
    }
   },
   "id": "8bfafe8e779c631c",
   "execution_count": 88
  },
  {
   "cell_type": "code",
   "outputs": [
    {
     "data": {
      "text/plain": "(8807, 12)"
     },
     "execution_count": 89,
     "metadata": {},
     "output_type": "execute_result"
    }
   ],
   "source": [
    "df.shape"
   ],
   "metadata": {
    "collapsed": false,
    "ExecuteTime": {
     "end_time": "2024-02-09T16:48:39.696385807Z",
     "start_time": "2024-02-09T16:48:39.648262018Z"
    }
   },
   "id": "6b27f5ac49ce7ce0",
   "execution_count": 89
  },
  {
   "cell_type": "code",
   "outputs": [
    {
     "data": {
      "text/plain": "['show_id',\n 'type',\n 'title',\n 'director',\n 'cast',\n 'country',\n 'date_added',\n 'release_year',\n 'rating',\n 'duration',\n 'listed_in',\n 'description']"
     },
     "execution_count": 90,
     "metadata": {},
     "output_type": "execute_result"
    }
   ],
   "source": [
    "df.columns.tolist()"
   ],
   "metadata": {
    "collapsed": false,
    "ExecuteTime": {
     "end_time": "2024-02-09T16:48:39.755627396Z",
     "start_time": "2024-02-09T16:48:39.648373715Z"
    }
   },
   "id": "f4539aeb82643ed6",
   "execution_count": 90
  },
  {
   "cell_type": "markdown",
   "source": [
    "# Check columns with nulls"
   ],
   "metadata": {
    "collapsed": false
   },
   "id": "574fd550d8055b89"
  },
  {
   "cell_type": "code",
   "outputs": [
    {
     "name": "stdout",
     "output_type": "stream",
     "text": [
      "<class 'pandas.core.frame.DataFrame'>\n",
      "RangeIndex: 8807 entries, 0 to 8806\n",
      "Data columns (total 12 columns):\n",
      " #   Column        Non-Null Count  Dtype \n",
      "---  ------        --------------  ----- \n",
      " 0   show_id       8807 non-null   object\n",
      " 1   type          8807 non-null   object\n",
      " 2   title         8807 non-null   object\n",
      " 3   director      6173 non-null   object\n",
      " 4   cast          7982 non-null   object\n",
      " 5   country       7976 non-null   object\n",
      " 6   date_added    8797 non-null   object\n",
      " 7   release_year  8807 non-null   int64 \n",
      " 8   rating        8803 non-null   object\n",
      " 9   duration      8804 non-null   object\n",
      " 10  listed_in     8807 non-null   object\n",
      " 11  description   8807 non-null   object\n",
      "dtypes: int64(1), object(11)\n",
      "memory usage: 825.8+ KB\n"
     ]
    }
   ],
   "source": [
    "df.info()"
   ],
   "metadata": {
    "collapsed": false,
    "ExecuteTime": {
     "end_time": "2024-02-09T16:48:39.852750995Z",
     "start_time": "2024-02-09T16:48:39.755976907Z"
    }
   },
   "id": "d0c68764bd3fe1f6",
   "execution_count": 91
  },
  {
   "cell_type": "code",
   "outputs": [
    {
     "data": {
      "text/plain": "'director'"
     },
     "execution_count": 92,
     "metadata": {},
     "output_type": "execute_result"
    }
   ],
   "source": [
    "# From above info: 'director', 'country', 'cast' have most nulls consecutively\n",
    "# Now confirm the column with most nulls\n",
    "most_nulls_column = df.isnull().sum().idxmax()\n",
    "most_nulls_column"
   ],
   "metadata": {
    "collapsed": false,
    "ExecuteTime": {
     "end_time": "2024-02-09T16:48:39.884326123Z",
     "start_time": "2024-02-09T16:48:39.774103100Z"
    }
   },
   "id": "8fe1ad24d4ae3aba",
   "execution_count": 92
  },
  {
   "cell_type": "markdown",
   "source": [
    "### Dealing with null values in 'director' column"
   ],
   "metadata": {
    "collapsed": false
   },
   "id": "6991df070658d55e"
  },
  {
   "cell_type": "code",
   "outputs": [
    {
     "data": {
      "text/plain": "array(['Kirsten Johnson', nan, 'Julien Leclercq', ..., 'Majid Al Ansari',\n       'Peter Hewitt', 'Mozez Singh'], dtype=object)"
     },
     "execution_count": 93,
     "metadata": {},
     "output_type": "execute_result"
    }
   ],
   "source": [
    "# Since 'director' column has most nulls, view what's the null designation\n",
    "# In this case it's 'NaN'\n",
    "df['director'].unique()"
   ],
   "metadata": {
    "collapsed": false,
    "ExecuteTime": {
     "end_time": "2024-02-09T16:48:39.994185947Z",
     "start_time": "2024-02-09T16:48:39.869789653Z"
    }
   },
   "id": "8695b60c508b2903",
   "execution_count": 93
  },
  {
   "cell_type": "code",
   "outputs": [
    {
     "data": {
      "text/plain": "2634"
     },
     "execution_count": 94,
     "metadata": {},
     "output_type": "execute_result"
    }
   ],
   "source": [
    "# Get the null values count\n",
    "df['director'].isnull().sum()"
   ],
   "metadata": {
    "collapsed": false,
    "ExecuteTime": {
     "end_time": "2024-02-09T16:48:40.129580054Z",
     "start_time": "2024-02-09T16:48:39.993997375Z"
    }
   },
   "id": "f7460483f8865afb",
   "execution_count": 94
  },
  {
   "cell_type": "code",
   "outputs": [
    {
     "data": {
      "text/plain": "{nan}"
     },
     "execution_count": 95,
     "metadata": {},
     "output_type": "execute_result"
    }
   ],
   "source": [
    "# Find how missing values are represented in the column: \n",
    "def missing_val_representation(column):\n",
    "    missing_val = set()\n",
    "    for val in column:\n",
    "        if pd.isna(val) or val == \"NaN\" or val == \"NA\":\n",
    "            missing_val.add(val)\n",
    "    return missing_val\n",
    "\n",
    "missing_val_representation(df['director'])"
   ],
   "metadata": {
    "collapsed": false,
    "ExecuteTime": {
     "end_time": "2024-02-09T16:48:40.186297943Z",
     "start_time": "2024-02-09T16:48:40.127974194Z"
    }
   },
   "id": "823279ac14efe260",
   "execution_count": 95
  },
  {
   "cell_type": "code",
   "outputs": [],
   "source": [
    "# Replace null values in director column with 'Unavailable'\n",
    "df['director'] = df['director'].apply(lambda x: 'Unavailable' if pd.isna(x) == True else x)"
   ],
   "metadata": {
    "collapsed": false,
    "ExecuteTime": {
     "end_time": "2024-02-09T16:48:40.250207406Z",
     "start_time": "2024-02-09T16:48:40.185774807Z"
    }
   },
   "id": "822f5626f5d0be4d",
   "execution_count": 96
  },
  {
   "cell_type": "code",
   "outputs": [
    {
     "data": {
      "text/plain": "0"
     },
     "execution_count": 97,
     "metadata": {},
     "output_type": "execute_result"
    }
   ],
   "source": [
    "# Check how many null values in 'director' column\n",
    "df['director'].isnull().sum()  # The count is now 0"
   ],
   "metadata": {
    "collapsed": false,
    "ExecuteTime": {
     "end_time": "2024-02-09T16:48:40.317536206Z",
     "start_time": "2024-02-09T16:48:40.251357149Z"
    }
   },
   "id": "a029e553e8eb1721",
   "execution_count": 97
  },
  {
   "cell_type": "code",
   "outputs": [
    {
     "name": "stdout",
     "output_type": "stream",
     "text": [
      "<class 'pandas.core.frame.DataFrame'>\n",
      "RangeIndex: 8807 entries, 0 to 8806\n",
      "Data columns (total 12 columns):\n",
      " #   Column        Non-Null Count  Dtype \n",
      "---  ------        --------------  ----- \n",
      " 0   show_id       8807 non-null   object\n",
      " 1   type          8807 non-null   object\n",
      " 2   title         8807 non-null   object\n",
      " 3   director      8807 non-null   object\n",
      " 4   cast          7982 non-null   object\n",
      " 5   country       7976 non-null   object\n",
      " 6   date_added    8797 non-null   object\n",
      " 7   release_year  8807 non-null   int64 \n",
      " 8   rating        8803 non-null   object\n",
      " 9   duration      8804 non-null   object\n",
      " 10  listed_in     8807 non-null   object\n",
      " 11  description   8807 non-null   object\n",
      "dtypes: int64(1), object(11)\n",
      "memory usage: 825.8+ KB\n"
     ]
    }
   ],
   "source": [
    "# Check the info summary once more\n",
    "df.info()"
   ],
   "metadata": {
    "collapsed": false,
    "ExecuteTime": {
     "end_time": "2024-02-09T16:48:40.380864182Z",
     "start_time": "2024-02-09T16:48:40.325949719Z"
    }
   },
   "id": "fa32f489ace739e6",
   "execution_count": 98
  },
  {
   "cell_type": "markdown",
   "source": [
    "### Dealing with null values in 'country' column"
   ],
   "metadata": {
    "collapsed": false
   },
   "id": "1914e43db5694743"
  },
  {
   "cell_type": "code",
   "outputs": [
    {
     "name": "stdout",
     "output_type": "stream",
     "text": [
      "Non-null value count in 'country': 7976\n",
      "Null value count in 'country': 831\n"
     ]
    }
   ],
   "source": [
    "# Confirm count of non-null values is equal to one above \n",
    "null_value_count_country_col = df['country'].isnull().sum()\n",
    "non_null_value_count_country_col = len(df) - null_value_count_country_col\n",
    "\n",
    "print(f\"Non-null value count in 'country': {non_null_value_count_country_col}\")\n",
    "print(f\"Null value count in 'country': {null_value_count_country_col}\")"
   ],
   "metadata": {
    "collapsed": false,
    "ExecuteTime": {
     "end_time": "2024-02-09T16:48:40.551103837Z",
     "start_time": "2024-02-09T16:48:40.383363931Z"
    }
   },
   "id": "661f13b3fc5c664b",
   "execution_count": 99
  },
  {
   "cell_type": "code",
   "outputs": [],
   "source": [
    "# Replace null values in ‘country’ column with ‘Not Available’\n",
    "df['country'] = df['country'].apply(lambda x: 'Unavailable' if pd.isna(x) == True else x)"
   ],
   "metadata": {
    "collapsed": false,
    "ExecuteTime": {
     "end_time": "2024-02-09T16:48:40.551674315Z",
     "start_time": "2024-02-09T16:48:40.504800439Z"
    }
   },
   "id": "69331901aeb612cc",
   "execution_count": 100
  },
  {
   "cell_type": "code",
   "outputs": [
    {
     "name": "stdout",
     "output_type": "stream",
     "text": [
      "Null value count 'country' col after removal: 0\n"
     ]
    }
   ],
   "source": [
    "# Confirm all null values in 'country' have been replaced\n",
    "null_value_count_country_col = df['country'].isnull().sum()\n",
    "print(f\"Null value count 'country' col after removal: {null_value_count_country_col}\")"
   ],
   "metadata": {
    "collapsed": false,
    "ExecuteTime": {
     "end_time": "2024-02-09T16:48:40.574191704Z",
     "start_time": "2024-02-09T16:48:40.504969121Z"
    }
   },
   "id": "74a0e9d55987016e",
   "execution_count": 101
  },
  {
   "cell_type": "code",
   "outputs": [
    {
     "name": "stdout",
     "output_type": "stream",
     "text": [
      "<class 'pandas.core.frame.DataFrame'>\n",
      "RangeIndex: 8807 entries, 0 to 8806\n",
      "Data columns (total 12 columns):\n",
      " #   Column        Non-Null Count  Dtype \n",
      "---  ------        --------------  ----- \n",
      " 0   show_id       8807 non-null   object\n",
      " 1   type          8807 non-null   object\n",
      " 2   title         8807 non-null   object\n",
      " 3   director      8807 non-null   object\n",
      " 4   cast          7982 non-null   object\n",
      " 5   country       8807 non-null   object\n",
      " 6   date_added    8797 non-null   object\n",
      " 7   release_year  8807 non-null   int64 \n",
      " 8   rating        8803 non-null   object\n",
      " 9   duration      8804 non-null   object\n",
      " 10  listed_in     8807 non-null   object\n",
      " 11  description   8807 non-null   object\n",
      "dtypes: int64(1), object(11)\n",
      "memory usage: 825.8+ KB\n"
     ]
    }
   ],
   "source": [
    "df.info()"
   ],
   "metadata": {
    "collapsed": false,
    "ExecuteTime": {
     "end_time": "2024-02-09T16:48:40.696484295Z",
     "start_time": "2024-02-09T16:48:40.574940398Z"
    }
   },
   "id": "f5471fabee02261d",
   "execution_count": 102
  },
  {
   "cell_type": "markdown",
   "source": [
    "# Dealing with null values in ‘cast’ column"
   ],
   "metadata": {
    "collapsed": false
   },
   "id": "5f38346fe022a575"
  },
  {
   "cell_type": "code",
   "outputs": [
    {
     "name": "stdout",
     "output_type": "stream",
     "text": [
      "Non-null value count in 'country': 7982\n",
      "Null value count in 'country': 825\n"
     ]
    }
   ],
   "source": [
    "# Confirm count of non values in 'cast' column (Hence all other values are null)\n",
    "null_vals_count_cast_col = df['cast'].isnull().sum()\n",
    "non_null_vals_in_cast_col = len(df) - null_vals_count_cast_col\n",
    "\n",
    "print(f\"Non-null value count in 'country': {non_null_vals_in_cast_col}\")\n",
    "print(f\"Null value count in 'country': {null_vals_count_cast_col}\")"
   ],
   "metadata": {
    "collapsed": false,
    "ExecuteTime": {
     "end_time": "2024-02-09T16:48:40.713096628Z",
     "start_time": "2024-02-09T16:48:40.692318481Z"
    }
   },
   "id": "4419218b9d38c5e7",
   "execution_count": 103
  },
  {
   "cell_type": "code",
   "outputs": [],
   "source": [
    "# Replacing all null values in 'cast' column with \"Unavailable\"\n",
    "df['cast'] = df['cast'].apply(lambda x: \"Unavailable\" if pd.isna(x) == True else x)"
   ],
   "metadata": {
    "collapsed": false,
    "ExecuteTime": {
     "end_time": "2024-02-09T16:48:40.758990524Z",
     "start_time": "2024-02-09T16:48:40.707562195Z"
    }
   },
   "id": "daba650ef67ff4e0",
   "execution_count": 104
  },
  {
   "cell_type": "code",
   "outputs": [
    {
     "data": {
      "text/plain": "0"
     },
     "execution_count": 105,
     "metadata": {},
     "output_type": "execute_result"
    }
   ],
   "source": [
    "# Confirm all null values in 'cast' have been removed\n",
    "df['cast'].isnull().sum()"
   ],
   "metadata": {
    "collapsed": false,
    "ExecuteTime": {
     "end_time": "2024-02-09T16:48:40.827423432Z",
     "start_time": "2024-02-09T16:48:40.761021365Z"
    }
   },
   "id": "cf1501926a91c874",
   "execution_count": 105
  },
  {
   "cell_type": "code",
   "outputs": [
    {
     "name": "stdout",
     "output_type": "stream",
     "text": [
      "<class 'pandas.core.frame.DataFrame'>\n",
      "RangeIndex: 8807 entries, 0 to 8806\n",
      "Data columns (total 12 columns):\n",
      " #   Column        Non-Null Count  Dtype \n",
      "---  ------        --------------  ----- \n",
      " 0   show_id       8807 non-null   object\n",
      " 1   type          8807 non-null   object\n",
      " 2   title         8807 non-null   object\n",
      " 3   director      8807 non-null   object\n",
      " 4   cast          8807 non-null   object\n",
      " 5   country       8807 non-null   object\n",
      " 6   date_added    8797 non-null   object\n",
      " 7   release_year  8807 non-null   int64 \n",
      " 8   rating        8803 non-null   object\n",
      " 9   duration      8804 non-null   object\n",
      " 10  listed_in     8807 non-null   object\n",
      " 11  description   8807 non-null   object\n",
      "dtypes: int64(1), object(11)\n",
      "memory usage: 825.8+ KB\n"
     ]
    }
   ],
   "source": [
    "# Confirm summary info once more\n",
    "df.info()"
   ],
   "metadata": {
    "collapsed": false,
    "ExecuteTime": {
     "end_time": "2024-02-09T16:48:40.887678648Z",
     "start_time": "2024-02-09T16:48:40.836896413Z"
    }
   },
   "id": "1a0fa575bef1646b",
   "execution_count": 106
  }
 ],
 "metadata": {
  "kernelspec": {
   "display_name": "Python 3",
   "language": "python",
   "name": "python3"
  },
  "language_info": {
   "codemirror_mode": {
    "name": "ipython",
    "version": 2
   },
   "file_extension": ".py",
   "mimetype": "text/x-python",
   "name": "python",
   "nbconvert_exporter": "python",
   "pygments_lexer": "ipython2",
   "version": "2.7.6"
  }
 },
 "nbformat": 4,
 "nbformat_minor": 5
}
